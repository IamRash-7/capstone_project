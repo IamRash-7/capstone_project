{
  "cells": [
    {
      "cell_type": "markdown",
      "source": [
        "# Install Required Packages"
      ],
      "metadata": {
        "id": "WMDXZlHmFlob"
      }
    },
    {
      "cell_type": "code",
      "source": [
        "!python --version"
      ],
      "metadata": {
        "colab": {
          "base_uri": "https://localhost:8080/"
        },
        "id": "_WAGPAXEIf6g",
        "outputId": "68a21944-b33e-40d8-a5e0-caec1c12690a"
      },
      "execution_count": null,
      "outputs": [
        {
          "output_type": "stream",
          "name": "stdout",
          "text": [
            "Python 3.9.16\n"
          ]
        }
      ]
    },
    {
      "cell_type": "code",
      "execution_count": null,
      "metadata": {
        "colab": {
          "base_uri": "https://localhost:8080/"
        },
        "id": "RkjZUBwdjDa7",
        "outputId": "8ba4c188-cf19-41bf-df63-08e1c2fdd0ef"
      },
      "outputs": [
        {
          "output_type": "stream",
          "name": "stdout",
          "text": [
            "Looking in indexes: https://pypi.org/simple, https://us-python.pkg.dev/colab-wheels/public/simple/\n",
            "Collecting tensorflow==2.8.0\n",
            "  Downloading tensorflow-2.8.0-cp39-cp39-manylinux2010_x86_64.whl (497.6 MB)\n",
            "\u001b[2K     \u001b[90m━━━━━━━━━━━━━━━━━━━━━━━━━━━━━━━━━━━━━━━\u001b[0m \u001b[32m497.6/497.6 MB\u001b[0m \u001b[31m2.2 MB/s\u001b[0m eta \u001b[36m0:00:00\u001b[0m\n",
            "\u001b[?25hRequirement already satisfied: astunparse>=1.6.0 in /usr/local/lib/python3.9/dist-packages (from tensorflow==2.8.0) (1.6.3)\n",
            "Requirement already satisfied: h5py>=2.9.0 in /usr/local/lib/python3.9/dist-packages (from tensorflow==2.8.0) (3.8.0)\n",
            "Requirement already satisfied: flatbuffers>=1.12 in /usr/local/lib/python3.9/dist-packages (from tensorflow==2.8.0) (23.3.3)\n",
            "Requirement already satisfied: termcolor>=1.1.0 in /usr/local/lib/python3.9/dist-packages (from tensorflow==2.8.0) (2.2.0)\n",
            "Requirement already satisfied: typing-extensions>=3.6.6 in /usr/local/lib/python3.9/dist-packages (from tensorflow==2.8.0) (4.5.0)\n",
            "Requirement already satisfied: google-pasta>=0.1.1 in /usr/local/lib/python3.9/dist-packages (from tensorflow==2.8.0) (0.2.0)\n",
            "Requirement already satisfied: numpy>=1.20 in /usr/local/lib/python3.9/dist-packages (from tensorflow==2.8.0) (1.22.4)\n",
            "Requirement already satisfied: protobuf>=3.9.2 in /usr/local/lib/python3.9/dist-packages (from tensorflow==2.8.0) (3.20.3)\n",
            "Requirement already satisfied: setuptools in /usr/local/lib/python3.9/dist-packages (from tensorflow==2.8.0) (67.7.2)\n",
            "Requirement already satisfied: wrapt>=1.11.0 in /usr/local/lib/python3.9/dist-packages (from tensorflow==2.8.0) (1.14.1)\n",
            "Requirement already satisfied: grpcio<2.0,>=1.24.3 in /usr/local/lib/python3.9/dist-packages (from tensorflow==2.8.0) (1.53.0)\n",
            "Collecting keras<2.9,>=2.8.0rc0\n",
            "  Downloading keras-2.8.0-py2.py3-none-any.whl (1.4 MB)\n",
            "\u001b[2K     \u001b[90m━━━━━━━━━━━━━━━━━━━━━━━━━━━━━━━━━━━━━━━━\u001b[0m \u001b[32m1.4/1.4 MB\u001b[0m \u001b[31m73.9 MB/s\u001b[0m eta \u001b[36m0:00:00\u001b[0m\n",
            "\u001b[?25hRequirement already satisfied: libclang>=9.0.1 in /usr/local/lib/python3.9/dist-packages (from tensorflow==2.8.0) (16.0.0)\n",
            "Requirement already satisfied: gast>=0.2.1 in /usr/local/lib/python3.9/dist-packages (from tensorflow==2.8.0) (0.4.0)\n",
            "Collecting tf-estimator-nightly==2.8.0.dev2021122109\n",
            "  Downloading tf_estimator_nightly-2.8.0.dev2021122109-py2.py3-none-any.whl (462 kB)\n",
            "\u001b[2K     \u001b[90m━━━━━━━━━━━━━━━━━━━━━━━━━━━━━━━━━━━━━━\u001b[0m \u001b[32m462.5/462.5 kB\u001b[0m \u001b[31m39.1 MB/s\u001b[0m eta \u001b[36m0:00:00\u001b[0m\n",
            "\u001b[?25hRequirement already satisfied: opt-einsum>=2.3.2 in /usr/local/lib/python3.9/dist-packages (from tensorflow==2.8.0) (3.3.0)\n",
            "Collecting keras-preprocessing>=1.1.1\n",
            "  Downloading Keras_Preprocessing-1.1.2-py2.py3-none-any.whl (42 kB)\n",
            "\u001b[2K     \u001b[90m━━━━━━━━━━━━━━━━━━━━━━━━━━━━━━━━━━━━━━━━\u001b[0m \u001b[32m42.6/42.6 kB\u001b[0m \u001b[31m5.3 MB/s\u001b[0m eta \u001b[36m0:00:00\u001b[0m\n",
            "\u001b[?25hCollecting tensorboard<2.9,>=2.8\n",
            "  Downloading tensorboard-2.8.0-py3-none-any.whl (5.8 MB)\n",
            "\u001b[2K     \u001b[90m━━━━━━━━━━━━━━━━━━━━━━━━━━━━━━━━━━━━━━━━\u001b[0m \u001b[32m5.8/5.8 MB\u001b[0m \u001b[31m101.7 MB/s\u001b[0m eta \u001b[36m0:00:00\u001b[0m\n",
            "\u001b[?25hRequirement already satisfied: tensorflow-io-gcs-filesystem>=0.23.1 in /usr/local/lib/python3.9/dist-packages (from tensorflow==2.8.0) (0.32.0)\n",
            "Requirement already satisfied: six>=1.12.0 in /usr/local/lib/python3.9/dist-packages (from tensorflow==2.8.0) (1.16.0)\n",
            "Requirement already satisfied: absl-py>=0.4.0 in /usr/local/lib/python3.9/dist-packages (from tensorflow==2.8.0) (1.4.0)\n",
            "Requirement already satisfied: wheel<1.0,>=0.23.0 in /usr/local/lib/python3.9/dist-packages (from astunparse>=1.6.0->tensorflow==2.8.0) (0.40.0)\n",
            "Collecting google-auth-oauthlib<0.5,>=0.4.1\n",
            "  Downloading google_auth_oauthlib-0.4.6-py2.py3-none-any.whl (18 kB)\n",
            "Collecting tensorboard-data-server<0.7.0,>=0.6.0\n",
            "  Downloading tensorboard_data_server-0.6.1-py3-none-manylinux2010_x86_64.whl (4.9 MB)\n",
            "\u001b[2K     \u001b[90m━━━━━━━━━━━━━━━━━━━━━━━━━━━━━━━━━━━━━━━━\u001b[0m \u001b[32m4.9/4.9 MB\u001b[0m \u001b[31m107.6 MB/s\u001b[0m eta \u001b[36m0:00:00\u001b[0m\n",
            "\u001b[?25hRequirement already satisfied: requests<3,>=2.21.0 in /usr/local/lib/python3.9/dist-packages (from tensorboard<2.9,>=2.8->tensorflow==2.8.0) (2.27.1)\n",
            "Requirement already satisfied: google-auth<3,>=1.6.3 in /usr/local/lib/python3.9/dist-packages (from tensorboard<2.9,>=2.8->tensorflow==2.8.0) (2.17.3)\n",
            "Requirement already satisfied: werkzeug>=0.11.15 in /usr/local/lib/python3.9/dist-packages (from tensorboard<2.9,>=2.8->tensorflow==2.8.0) (2.2.3)\n",
            "Requirement already satisfied: markdown>=2.6.8 in /usr/local/lib/python3.9/dist-packages (from tensorboard<2.9,>=2.8->tensorflow==2.8.0) (3.4.3)\n",
            "Requirement already satisfied: tensorboard-plugin-wit>=1.6.0 in /usr/local/lib/python3.9/dist-packages (from tensorboard<2.9,>=2.8->tensorflow==2.8.0) (1.8.1)\n",
            "Requirement already satisfied: pyasn1-modules>=0.2.1 in /usr/local/lib/python3.9/dist-packages (from google-auth<3,>=1.6.3->tensorboard<2.9,>=2.8->tensorflow==2.8.0) (0.2.8)\n",
            "Requirement already satisfied: cachetools<6.0,>=2.0.0 in /usr/local/lib/python3.9/dist-packages (from google-auth<3,>=1.6.3->tensorboard<2.9,>=2.8->tensorflow==2.8.0) (5.3.0)\n",
            "Requirement already satisfied: rsa<5,>=3.1.4 in /usr/local/lib/python3.9/dist-packages (from google-auth<3,>=1.6.3->tensorboard<2.9,>=2.8->tensorflow==2.8.0) (4.9)\n",
            "Requirement already satisfied: requests-oauthlib>=0.7.0 in /usr/local/lib/python3.9/dist-packages (from google-auth-oauthlib<0.5,>=0.4.1->tensorboard<2.9,>=2.8->tensorflow==2.8.0) (1.3.1)\n",
            "Requirement already satisfied: importlib-metadata>=4.4 in /usr/local/lib/python3.9/dist-packages (from markdown>=2.6.8->tensorboard<2.9,>=2.8->tensorflow==2.8.0) (6.4.1)\n",
            "Requirement already satisfied: urllib3<1.27,>=1.21.1 in /usr/local/lib/python3.9/dist-packages (from requests<3,>=2.21.0->tensorboard<2.9,>=2.8->tensorflow==2.8.0) (1.26.15)\n",
            "Requirement already satisfied: idna<4,>=2.5 in /usr/local/lib/python3.9/dist-packages (from requests<3,>=2.21.0->tensorboard<2.9,>=2.8->tensorflow==2.8.0) (3.4)\n",
            "Requirement already satisfied: charset-normalizer~=2.0.0 in /usr/local/lib/python3.9/dist-packages (from requests<3,>=2.21.0->tensorboard<2.9,>=2.8->tensorflow==2.8.0) (2.0.12)\n",
            "Requirement already satisfied: certifi>=2017.4.17 in /usr/local/lib/python3.9/dist-packages (from requests<3,>=2.21.0->tensorboard<2.9,>=2.8->tensorflow==2.8.0) (2022.12.7)\n",
            "Requirement already satisfied: MarkupSafe>=2.1.1 in /usr/local/lib/python3.9/dist-packages (from werkzeug>=0.11.15->tensorboard<2.9,>=2.8->tensorflow==2.8.0) (2.1.2)\n",
            "Requirement already satisfied: zipp>=0.5 in /usr/local/lib/python3.9/dist-packages (from importlib-metadata>=4.4->markdown>=2.6.8->tensorboard<2.9,>=2.8->tensorflow==2.8.0) (3.15.0)\n",
            "Requirement already satisfied: pyasn1<0.5.0,>=0.4.6 in /usr/local/lib/python3.9/dist-packages (from pyasn1-modules>=0.2.1->google-auth<3,>=1.6.3->tensorboard<2.9,>=2.8->tensorflow==2.8.0) (0.4.8)\n",
            "Requirement already satisfied: oauthlib>=3.0.0 in /usr/local/lib/python3.9/dist-packages (from requests-oauthlib>=0.7.0->google-auth-oauthlib<0.5,>=0.4.1->tensorboard<2.9,>=2.8->tensorflow==2.8.0) (3.2.2)\n",
            "Installing collected packages: tf-estimator-nightly, keras, tensorboard-data-server, keras-preprocessing, google-auth-oauthlib, tensorboard, tensorflow\n",
            "  Attempting uninstall: keras\n",
            "    Found existing installation: keras 2.12.0\n",
            "    Uninstalling keras-2.12.0:\n",
            "      Successfully uninstalled keras-2.12.0\n",
            "  Attempting uninstall: tensorboard-data-server\n",
            "    Found existing installation: tensorboard-data-server 0.7.0\n",
            "    Uninstalling tensorboard-data-server-0.7.0:\n",
            "      Successfully uninstalled tensorboard-data-server-0.7.0\n",
            "  Attempting uninstall: google-auth-oauthlib\n",
            "    Found existing installation: google-auth-oauthlib 1.0.0\n",
            "    Uninstalling google-auth-oauthlib-1.0.0:\n",
            "      Successfully uninstalled google-auth-oauthlib-1.0.0\n",
            "  Attempting uninstall: tensorboard\n",
            "    Found existing installation: tensorboard 2.12.2\n",
            "    Uninstalling tensorboard-2.12.2:\n",
            "      Successfully uninstalled tensorboard-2.12.2\n",
            "  Attempting uninstall: tensorflow\n",
            "    Found existing installation: tensorflow 2.12.0\n",
            "    Uninstalling tensorflow-2.12.0:\n",
            "      Successfully uninstalled tensorflow-2.12.0\n",
            "Successfully installed google-auth-oauthlib-0.4.6 keras-2.8.0 keras-preprocessing-1.1.2 tensorboard-2.8.0 tensorboard-data-server-0.6.1 tensorflow-2.8.0 tf-estimator-nightly-2.8.0.dev2021122109\n"
          ]
        }
      ],
      "source": [
        "!pip install tensorflow==2.8.0"
      ]
    },
    {
      "cell_type": "code",
      "execution_count": null,
      "metadata": {
        "colab": {
          "base_uri": "https://localhost:8080/"
        },
        "id": "p0mqKYyC1Mus",
        "outputId": "aed059d5-3227-486e-dee3-138f83c3a205"
      },
      "outputs": [
        {
          "output_type": "stream",
          "name": "stdout",
          "text": [
            "Looking in indexes: https://pypi.org/simple, https://us-python.pkg.dev/colab-wheels/public/simple/\n",
            "Collecting tensorflow-quantum==0.7.2\n",
            "  Downloading tensorflow_quantum-0.7.2-cp39-cp39-manylinux_2_12_x86_64.manylinux2010_x86_64.whl (10.5 MB)\n",
            "\u001b[2K     \u001b[90m━━━━━━━━━━━━━━━━━━━━━━━━━━━━━━━━━━━━━━━━\u001b[0m \u001b[32m10.5/10.5 MB\u001b[0m \u001b[31m5.0 MB/s\u001b[0m eta \u001b[36m0:00:00\u001b[0m\n",
            "\u001b[?25hCollecting sympy==1.8\n",
            "  Downloading sympy-1.8-py3-none-any.whl (6.1 MB)\n",
            "\u001b[2K     \u001b[90m━━━━━━━━━━━━━━━━━━━━━━━━━━━━━━━━━━━━━━━━\u001b[0m \u001b[32m6.1/6.1 MB\u001b[0m \u001b[31m31.1 MB/s\u001b[0m eta \u001b[36m0:00:00\u001b[0m\n",
            "\u001b[?25hCollecting google-api-core==1.21.0\n",
            "  Downloading google_api_core-1.21.0-py2.py3-none-any.whl (90 kB)\n",
            "\u001b[2K     \u001b[90m━━━━━━━━━━━━━━━━━━━━━━━━━━━━━━━━━━━━━━━━\u001b[0m \u001b[32m91.0/91.0 kB\u001b[0m \u001b[31m10.7 MB/s\u001b[0m eta \u001b[36m0:00:00\u001b[0m\n",
            "\u001b[?25hCollecting google-auth==1.18.0\n",
            "  Downloading google_auth-1.18.0-py2.py3-none-any.whl (90 kB)\n",
            "\u001b[2K     \u001b[90m━━━━━━━━━━━━━━━━━━━━━━━━━━━━━━━━━━━━━━━━\u001b[0m \u001b[32m90.9/90.9 kB\u001b[0m \u001b[31m12.6 MB/s\u001b[0m eta \u001b[36m0:00:00\u001b[0m\n",
            "\u001b[?25hCollecting cirq-core==0.13.1\n",
            "  Downloading cirq_core-0.13.1-py3-none-any.whl (1.6 MB)\n",
            "\u001b[2K     \u001b[90m━━━━━━━━━━━━━━━━━━━━━━━━━━━━━━━━━━━━━━━━\u001b[0m \u001b[32m1.6/1.6 MB\u001b[0m \u001b[31m67.7 MB/s\u001b[0m eta \u001b[36m0:00:00\u001b[0m\n",
            "\u001b[?25hCollecting protobuf==3.17.3\n",
            "  Downloading protobuf-3.17.3-cp39-cp39-manylinux_2_5_x86_64.manylinux1_x86_64.whl (1.0 MB)\n",
            "\u001b[2K     \u001b[90m━━━━━━━━━━━━━━━━━━━━━━━━━━━━━━━━━━━━━━━━\u001b[0m \u001b[32m1.0/1.0 MB\u001b[0m \u001b[31m70.5 MB/s\u001b[0m eta \u001b[36m0:00:00\u001b[0m\n",
            "\u001b[?25hCollecting googleapis-common-protos==1.52.0\n",
            "  Downloading googleapis_common_protos-1.52.0-py2.py3-none-any.whl (100 kB)\n",
            "\u001b[2K     \u001b[90m━━━━━━━━━━━━━━━━━━━━━━━━━━━━━━━━━━━━━━\u001b[0m \u001b[32m100.2/100.2 kB\u001b[0m \u001b[31m12.7 MB/s\u001b[0m eta \u001b[36m0:00:00\u001b[0m\n",
            "\u001b[?25hCollecting cirq-google>=0.13.1\n",
            "  Downloading cirq_google-1.1.0-py3-none-any.whl (577 kB)\n",
            "\u001b[2K     \u001b[90m━━━━━━━━━━━━━━━━━━━━━━━━━━━━━━━━━━━━━━\u001b[0m \u001b[32m577.4/577.4 kB\u001b[0m \u001b[31m56.1 MB/s\u001b[0m eta \u001b[36m0:00:00\u001b[0m\n",
            "\u001b[?25hCollecting duet~=0.2.0\n",
            "  Downloading duet-0.2.8-py3-none-any.whl (29 kB)\n",
            "Requirement already satisfied: numpy~=1.16 in /usr/local/lib/python3.9/dist-packages (from cirq-core==0.13.1->tensorflow-quantum==0.7.2) (1.22.4)\n",
            "Requirement already satisfied: pandas in /usr/local/lib/python3.9/dist-packages (from cirq-core==0.13.1->tensorflow-quantum==0.7.2) (1.5.3)\n",
            "Requirement already satisfied: sortedcontainers~=2.0 in /usr/local/lib/python3.9/dist-packages (from cirq-core==0.13.1->tensorflow-quantum==0.7.2) (2.4.0)\n",
            "Requirement already satisfied: typing-extensions in /usr/local/lib/python3.9/dist-packages (from cirq-core==0.13.1->tensorflow-quantum==0.7.2) (4.5.0)\n",
            "Requirement already satisfied: scipy in /usr/local/lib/python3.9/dist-packages (from cirq-core==0.13.1->tensorflow-quantum==0.7.2) (1.10.1)\n",
            "Requirement already satisfied: tqdm in /usr/local/lib/python3.9/dist-packages (from cirq-core==0.13.1->tensorflow-quantum==0.7.2) (4.65.0)\n",
            "Requirement already satisfied: matplotlib~=3.0 in /usr/local/lib/python3.9/dist-packages (from cirq-core==0.13.1->tensorflow-quantum==0.7.2) (3.7.1)\n",
            "Collecting networkx~=2.4\n",
            "  Downloading networkx-2.8.8-py3-none-any.whl (2.0 MB)\n",
            "\u001b[2K     \u001b[90m━━━━━━━━━━━━━━━━━━━━━━━━━━━━━━━━━━━━━━━━\u001b[0m \u001b[32m2.0/2.0 MB\u001b[0m \u001b[31m94.8 MB/s\u001b[0m eta \u001b[36m0:00:00\u001b[0m\n",
            "\u001b[?25hRequirement already satisfied: pytz in /usr/local/lib/python3.9/dist-packages (from google-api-core==1.21.0->tensorflow-quantum==0.7.2) (2022.7.1)\n",
            "Requirement already satisfied: setuptools>=34.0.0 in /usr/local/lib/python3.9/dist-packages (from google-api-core==1.21.0->tensorflow-quantum==0.7.2) (67.7.2)\n",
            "Requirement already satisfied: requests<3.0.0dev,>=2.18.0 in /usr/local/lib/python3.9/dist-packages (from google-api-core==1.21.0->tensorflow-quantum==0.7.2) (2.27.1)\n",
            "Requirement already satisfied: six>=1.10.0 in /usr/local/lib/python3.9/dist-packages (from google-api-core==1.21.0->tensorflow-quantum==0.7.2) (1.16.0)\n",
            "Requirement already satisfied: rsa<5,>=3.1.4 in /usr/local/lib/python3.9/dist-packages (from google-auth==1.18.0->tensorflow-quantum==0.7.2) (4.9)\n",
            "Collecting cachetools<5.0,>=2.0.0\n",
            "  Downloading cachetools-4.2.4-py3-none-any.whl (10 kB)\n",
            "Requirement already satisfied: pyasn1-modules>=0.2.1 in /usr/local/lib/python3.9/dist-packages (from google-auth==1.18.0->tensorflow-quantum==0.7.2) (0.2.8)\n",
            "Requirement already satisfied: mpmath>=0.19 in /usr/local/lib/python3.9/dist-packages (from sympy==1.8->tensorflow-quantum==0.7.2) (1.3.0)\n",
            "Collecting cirq-google>=0.13.1\n",
            "  Downloading cirq_google-1.0.0-py3-none-any.whl (576 kB)\n",
            "\u001b[2K     \u001b[90m━━━━━━━━━━━━━━━━━━━━━━━━━━━━━━━━━━━━━━\u001b[0m \u001b[32m576.5/576.5 kB\u001b[0m \u001b[31m50.8 MB/s\u001b[0m eta \u001b[36m0:00:00\u001b[0m\n",
            "\u001b[?25hCollecting google-api-core[grpc]<2.0.0dev,>=1.14.0\n",
            "  Downloading google_api_core-1.34.0-py3-none-any.whl (120 kB)\n",
            "\u001b[2K     \u001b[90m━━━━━━━━━━━━━━━━━━━━━━━━━━━━━━━━━━━━━━\u001b[0m \u001b[32m120.2/120.2 kB\u001b[0m \u001b[31m14.5 MB/s\u001b[0m eta \u001b[36m0:00:00\u001b[0m\n",
            "\u001b[?25hCollecting cirq-google>=0.13.1\n",
            "  Downloading cirq_google-0.15.0-py3-none-any.whl (641 kB)\n",
            "\u001b[2K     \u001b[90m━━━━━━━━━━━━━━━━━━━━━━━━━━━━━━━━━━━━━━\u001b[0m \u001b[32m641.8/641.8 kB\u001b[0m \u001b[31m60.2 MB/s\u001b[0m eta \u001b[36m0:00:00\u001b[0m\n",
            "\u001b[?25h  Downloading cirq_google-0.14.1-py3-none-any.whl (541 kB)\n",
            "\u001b[2K     \u001b[90m━━━━━━━━━━━━━━━━━━━━━━━━━━━━━━━━━━━━━━\u001b[0m \u001b[32m541.6/541.6 kB\u001b[0m \u001b[31m52.0 MB/s\u001b[0m eta \u001b[36m0:00:00\u001b[0m\n",
            "\u001b[?25h  Downloading cirq_google-0.14.0-py3-none-any.whl (541 kB)\n",
            "\u001b[2K     \u001b[90m━━━━━━━━━━━━━━━━━━━━━━━━━━━━━━━━━━━━━━\u001b[0m \u001b[32m541.6/541.6 kB\u001b[0m \u001b[31m54.0 MB/s\u001b[0m eta \u001b[36m0:00:00\u001b[0m\n",
            "\u001b[?25h  Downloading cirq_google-0.13.1-py3-none-any.whl (437 kB)\n",
            "\u001b[2K     \u001b[90m━━━━━━━━━━━━━━━━━━━━━━━━━━━━━━━━━━━━━━\u001b[0m \u001b[32m437.1/437.1 kB\u001b[0m \u001b[31m47.5 MB/s\u001b[0m eta \u001b[36m0:00:00\u001b[0m\n",
            "\u001b[?25hCollecting google-api-core[grpc]<2.0.0dev,>=1.14.0\n",
            "  Downloading google_api_core-1.33.2-py3-none-any.whl (115 kB)\n",
            "\u001b[2K     \u001b[90m━━━━━━━━━━━━━━━━━━━━━━━━━━━━━━━━━━━━━━\u001b[0m \u001b[32m115.5/115.5 kB\u001b[0m \u001b[31m16.7 MB/s\u001b[0m eta \u001b[36m0:00:00\u001b[0m\n",
            "\u001b[?25h  Downloading google_api_core-1.33.1-py3-none-any.whl (115 kB)\n",
            "\u001b[2K     \u001b[90m━━━━━━━━━━━━━━━━━━━━━━━━━━━━━━━━━━━━━━\u001b[0m \u001b[32m115.5/115.5 kB\u001b[0m \u001b[31m17.4 MB/s\u001b[0m eta \u001b[36m0:00:00\u001b[0m\n",
            "\u001b[?25h  Downloading google_api_core-1.33.0-py3-none-any.whl (115 kB)\n",
            "\u001b[2K     \u001b[90m━━━━━━━━━━━━━━━━━━━━━━━━━━━━━━━━━━━━━━\u001b[0m \u001b[32m115.2/115.2 kB\u001b[0m \u001b[31m15.1 MB/s\u001b[0m eta \u001b[36m0:00:00\u001b[0m\n",
            "\u001b[?25h  Downloading google_api_core-1.32.0-py2.py3-none-any.whl (93 kB)\n",
            "\u001b[2K     \u001b[90m━━━━━━━━━━━━━━━━━━━━━━━━━━━━━━━━━━━━━━━━\u001b[0m \u001b[32m93.6/93.6 kB\u001b[0m \u001b[31m12.7 MB/s\u001b[0m eta \u001b[36m0:00:00\u001b[0m\n",
            "\u001b[?25h  Downloading google_api_core-1.31.6-py2.py3-none-any.whl (93 kB)\n",
            "\u001b[2K     \u001b[90m━━━━━━━━━━━━━━━━━━━━━━━━━━━━━━━━━━━━━━━━\u001b[0m \u001b[32m93.3/93.3 kB\u001b[0m \u001b[31m12.9 MB/s\u001b[0m eta \u001b[36m0:00:00\u001b[0m\n",
            "\u001b[?25h  Downloading google_api_core-1.31.5-py2.py3-none-any.whl (93 kB)\n",
            "\u001b[2K     \u001b[90m━━━━━━━━━━━━━━━━━━━━━━━━━━━━━━━━━━━━━━━━\u001b[0m \u001b[32m93.3/93.3 kB\u001b[0m \u001b[31m13.3 MB/s\u001b[0m eta \u001b[36m0:00:00\u001b[0m\n",
            "\u001b[?25h  Downloading google_api_core-1.31.4-py2.py3-none-any.whl (93 kB)\n",
            "\u001b[2K     \u001b[90m━━━━━━━━━━━━━━━━━━━━━━━━━━━━━━━━━━━━━━━━\u001b[0m \u001b[32m93.3/93.3 kB\u001b[0m \u001b[31m11.3 MB/s\u001b[0m eta \u001b[36m0:00:00\u001b[0m\n",
            "\u001b[?25h  Downloading google_api_core-1.31.3-py2.py3-none-any.whl (93 kB)\n",
            "\u001b[2K     \u001b[90m━━━━━━━━━━━━━━━━━━━━━━━━━━━━━━━━━━━━━━━━\u001b[0m \u001b[32m93.3/93.3 kB\u001b[0m \u001b[31m13.3 MB/s\u001b[0m eta \u001b[36m0:00:00\u001b[0m\n",
            "\u001b[?25h  Downloading google_api_core-1.31.2-py2.py3-none-any.whl (93 kB)\n",
            "\u001b[2K     \u001b[90m━━━━━━━━━━━━━━━━━━━━━━━━━━━━━━━━━━━━━━━━\u001b[0m \u001b[32m93.3/93.3 kB\u001b[0m \u001b[31m13.2 MB/s\u001b[0m eta \u001b[36m0:00:00\u001b[0m\n",
            "\u001b[?25h  Downloading google_api_core-1.31.1-py2.py3-none-any.whl (93 kB)\n",
            "\u001b[2K     \u001b[90m━━━━━━━━━━━━━━━━━━━━━━━━━━━━━━━━━━━━━━━━\u001b[0m \u001b[32m93.1/93.1 kB\u001b[0m \u001b[31m12.6 MB/s\u001b[0m eta \u001b[36m0:00:00\u001b[0m\n",
            "\u001b[?25h  Downloading google_api_core-1.31.0-py2.py3-none-any.whl (93 kB)\n",
            "\u001b[2K     \u001b[90m━━━━━━━━━━━━━━━━━━━━━━━━━━━━━━━━━━━━━━━━\u001b[0m \u001b[32m93.1/93.1 kB\u001b[0m \u001b[31m12.8 MB/s\u001b[0m eta \u001b[36m0:00:00\u001b[0m\n",
            "\u001b[?25h  Downloading google_api_core-1.30.0-py2.py3-none-any.whl (93 kB)\n",
            "\u001b[2K     \u001b[90m━━━━━━━━━━━━━━━━━━━━━━━━━━━━━━━━━━━━━━━━\u001b[0m \u001b[32m93.2/93.2 kB\u001b[0m \u001b[31m11.4 MB/s\u001b[0m eta \u001b[36m0:00:00\u001b[0m\n",
            "\u001b[?25h  Downloading google_api_core-1.29.0-py2.py3-none-any.whl (93 kB)\n",
            "\u001b[2K     \u001b[90m━━━━━━━━━━━━━━━━━━━━━━━━━━━━━━━━━━━━━━━━\u001b[0m \u001b[32m93.1/93.1 kB\u001b[0m \u001b[31m12.4 MB/s\u001b[0m eta \u001b[36m0:00:00\u001b[0m\n",
            "\u001b[?25h  Downloading google_api_core-1.28.0-py2.py3-none-any.whl (92 kB)\n",
            "\u001b[2K     \u001b[90m━━━━━━━━━━━━━━━━━━━━━━━━━━━━━━━━━━━━━━━━\u001b[0m \u001b[32m93.0/93.0 kB\u001b[0m \u001b[31m12.1 MB/s\u001b[0m eta \u001b[36m0:00:00\u001b[0m\n",
            "\u001b[?25h  Downloading google_api_core-1.27.0-py2.py3-none-any.whl (93 kB)\n",
            "\u001b[2K     \u001b[90m━━━━━━━━━━━━━━━━━━━━━━━━━━━━━━━━━━━━━━━━\u001b[0m \u001b[32m93.2/93.2 kB\u001b[0m \u001b[31m12.4 MB/s\u001b[0m eta \u001b[36m0:00:00\u001b[0m\n",
            "\u001b[?25h  Downloading google_api_core-1.26.3-py2.py3-none-any.whl (93 kB)\n",
            "\u001b[2K     \u001b[90m━━━━━━━━━━━━━━━━━━━━━━━━━━━━━━━━━━━━━━━━\u001b[0m \u001b[32m93.1/93.1 kB\u001b[0m \u001b[31m12.4 MB/s\u001b[0m eta \u001b[36m0:00:00\u001b[0m\n",
            "\u001b[?25h  Downloading google_api_core-1.26.2-py2.py3-none-any.whl (93 kB)\n",
            "\u001b[2K     \u001b[90m━━━━━━━━━━━━━━━━━━━━━━━━━━━━━━━━━━━━━━━━\u001b[0m \u001b[32m93.0/93.0 kB\u001b[0m \u001b[31m10.7 MB/s\u001b[0m eta \u001b[36m0:00:00\u001b[0m\n",
            "\u001b[?25h  Downloading google_api_core-1.26.1-py2.py3-none-any.whl (92 kB)\n",
            "\u001b[2K     \u001b[90m━━━━━━━━━━━━━━━━━━━━━━━━━━━━━━━━━━━━━━━━\u001b[0m \u001b[32m93.0/93.0 kB\u001b[0m \u001b[31m9.5 MB/s\u001b[0m eta \u001b[36m0:00:00\u001b[0m\n",
            "\u001b[?25h  Downloading google_api_core-1.26.0-py2.py3-none-any.whl (92 kB)\n",
            "\u001b[2K     \u001b[90m━━━━━━━━━━━━━━━━━━━━━━━━━━━━━━━━━━━━━━━━\u001b[0m \u001b[32m92.9/92.9 kB\u001b[0m \u001b[31m12.0 MB/s\u001b[0m eta \u001b[36m0:00:00\u001b[0m\n",
            "\u001b[?25h  Downloading google_api_core-1.25.1-py2.py3-none-any.whl (92 kB)\n",
            "\u001b[2K     \u001b[90m━━━━━━━━━━━━━━━━━━━━━━━━━━━━━━━━━━━━━━━━\u001b[0m \u001b[32m92.3/92.3 kB\u001b[0m \u001b[31m10.3 MB/s\u001b[0m eta \u001b[36m0:00:00\u001b[0m\n",
            "\u001b[?25h  Downloading google_api_core-1.25.0-py2.py3-none-any.whl (92 kB)\n",
            "\u001b[2K     \u001b[90m━━━━━━━━━━━━━━━━━━━━━━━━━━━━━━━━━━━━━━━━\u001b[0m \u001b[32m92.3/92.3 kB\u001b[0m \u001b[31m11.3 MB/s\u001b[0m eta \u001b[36m0:00:00\u001b[0m\n",
            "\u001b[?25h  Downloading google_api_core-1.24.1-py2.py3-none-any.whl (92 kB)\n",
            "\u001b[2K     \u001b[90m━━━━━━━━━━━━━━━━━━━━━━━━━━━━━━━━━━━━━━━━\u001b[0m \u001b[32m92.0/92.0 kB\u001b[0m \u001b[31m11.9 MB/s\u001b[0m eta \u001b[36m0:00:00\u001b[0m\n",
            "\u001b[?25h  Downloading google_api_core-1.24.0-py2.py3-none-any.whl (91 kB)\n",
            "\u001b[2K     \u001b[90m━━━━━━━━━━━━━━━━━━━━━━━━━━━━━━━━━━━━━━━━\u001b[0m \u001b[32m92.0/92.0 kB\u001b[0m \u001b[31m11.6 MB/s\u001b[0m eta \u001b[36m0:00:00\u001b[0m\n",
            "\u001b[?25h  Downloading google_api_core-1.23.0-py2.py3-none-any.whl (91 kB)\n",
            "\u001b[2K     \u001b[90m━━━━━━━━━━━━━━━━━━━━━━━━━━━━━━━━━━━━━━━━\u001b[0m \u001b[32m92.0/92.0 kB\u001b[0m \u001b[31m12.2 MB/s\u001b[0m eta \u001b[36m0:00:00\u001b[0m\n",
            "\u001b[?25h  Downloading google_api_core-1.22.4-py2.py3-none-any.whl (91 kB)\n",
            "\u001b[2K     \u001b[90m━━━━━━━━━━━━━━━━━━━━━━━━━━━━━━━━━━━━━━━━\u001b[0m \u001b[32m91.7/91.7 kB\u001b[0m \u001b[31m12.0 MB/s\u001b[0m eta \u001b[36m0:00:00\u001b[0m\n",
            "\u001b[?25h  Downloading google_api_core-1.22.3-py2.py3-none-any.whl (91 kB)\n",
            "\u001b[2K     \u001b[90m━━━━━━━━━━━━━━━━━━━━━━━━━━━━━━━━━━━━━━━━\u001b[0m \u001b[32m91.2/91.2 kB\u001b[0m \u001b[31m7.2 MB/s\u001b[0m eta \u001b[36m0:00:00\u001b[0m\n",
            "\u001b[?25h  Downloading google_api_core-1.22.2-py2.py3-none-any.whl (91 kB)\n",
            "\u001b[2K     \u001b[90m━━━━━━━━━━━━━━━━━━━━━━━━━━━━━━━━━━━━━━━━\u001b[0m \u001b[32m91.2/91.2 kB\u001b[0m \u001b[31m12.0 MB/s\u001b[0m eta \u001b[36m0:00:00\u001b[0m\n",
            "\u001b[?25h  Downloading google_api_core-1.22.1-py2.py3-none-any.whl (91 kB)\n",
            "\u001b[2K     \u001b[90m━━━━━━━━━━━━━━━━━━━━━━━━━━━━━━━━━━━━━━━━\u001b[0m \u001b[32m91.1/91.1 kB\u001b[0m \u001b[31m11.1 MB/s\u001b[0m eta \u001b[36m0:00:00\u001b[0m\n",
            "\u001b[?25h  Downloading google_api_core-1.22.0-py2.py3-none-any.whl (91 kB)\n",
            "\u001b[2K     \u001b[90m━━━━━━━━━━━━━━━━━━━━━━━━━━━━━━━━━━━━━━━━\u001b[0m \u001b[32m91.1/91.1 kB\u001b[0m \u001b[31m12.3 MB/s\u001b[0m eta \u001b[36m0:00:00\u001b[0m\n",
            "\u001b[?25hRequirement already satisfied: grpcio<2.0dev,>=1.29.0 in /usr/local/lib/python3.9/dist-packages (from google-api-core==1.21.0->tensorflow-quantum==0.7.2) (1.53.0)\n",
            "Requirement already satisfied: importlib-resources>=3.2.0 in /usr/local/lib/python3.9/dist-packages (from matplotlib~=3.0->cirq-core==0.13.1->tensorflow-quantum==0.7.2) (5.12.0)\n",
            "Requirement already satisfied: packaging>=20.0 in /usr/local/lib/python3.9/dist-packages (from matplotlib~=3.0->cirq-core==0.13.1->tensorflow-quantum==0.7.2) (23.1)\n",
            "Requirement already satisfied: contourpy>=1.0.1 in /usr/local/lib/python3.9/dist-packages (from matplotlib~=3.0->cirq-core==0.13.1->tensorflow-quantum==0.7.2) (1.0.7)\n",
            "Requirement already satisfied: kiwisolver>=1.0.1 in /usr/local/lib/python3.9/dist-packages (from matplotlib~=3.0->cirq-core==0.13.1->tensorflow-quantum==0.7.2) (1.4.4)\n",
            "Requirement already satisfied: fonttools>=4.22.0 in /usr/local/lib/python3.9/dist-packages (from matplotlib~=3.0->cirq-core==0.13.1->tensorflow-quantum==0.7.2) (4.39.3)\n",
            "Requirement already satisfied: python-dateutil>=2.7 in /usr/local/lib/python3.9/dist-packages (from matplotlib~=3.0->cirq-core==0.13.1->tensorflow-quantum==0.7.2) (2.8.2)\n",
            "Requirement already satisfied: pillow>=6.2.0 in /usr/local/lib/python3.9/dist-packages (from matplotlib~=3.0->cirq-core==0.13.1->tensorflow-quantum==0.7.2) (8.4.0)\n",
            "Requirement already satisfied: cycler>=0.10 in /usr/local/lib/python3.9/dist-packages (from matplotlib~=3.0->cirq-core==0.13.1->tensorflow-quantum==0.7.2) (0.11.0)\n",
            "Requirement already satisfied: pyparsing>=2.3.1 in /usr/local/lib/python3.9/dist-packages (from matplotlib~=3.0->cirq-core==0.13.1->tensorflow-quantum==0.7.2) (3.0.9)\n",
            "Requirement already satisfied: pyasn1<0.5.0,>=0.4.6 in /usr/local/lib/python3.9/dist-packages (from pyasn1-modules>=0.2.1->google-auth==1.18.0->tensorflow-quantum==0.7.2) (0.4.8)\n",
            "Requirement already satisfied: idna<4,>=2.5 in /usr/local/lib/python3.9/dist-packages (from requests<3.0.0dev,>=2.18.0->google-api-core==1.21.0->tensorflow-quantum==0.7.2) (3.4)\n",
            "Requirement already satisfied: urllib3<1.27,>=1.21.1 in /usr/local/lib/python3.9/dist-packages (from requests<3.0.0dev,>=2.18.0->google-api-core==1.21.0->tensorflow-quantum==0.7.2) (1.26.15)\n",
            "Requirement already satisfied: certifi>=2017.4.17 in /usr/local/lib/python3.9/dist-packages (from requests<3.0.0dev,>=2.18.0->google-api-core==1.21.0->tensorflow-quantum==0.7.2) (2022.12.7)\n",
            "Requirement already satisfied: charset-normalizer~=2.0.0 in /usr/local/lib/python3.9/dist-packages (from requests<3.0.0dev,>=2.18.0->google-api-core==1.21.0->tensorflow-quantum==0.7.2) (2.0.12)\n",
            "Requirement already satisfied: zipp>=3.1.0 in /usr/local/lib/python3.9/dist-packages (from importlib-resources>=3.2.0->matplotlib~=3.0->cirq-core==0.13.1->tensorflow-quantum==0.7.2) (3.15.0)\n",
            "Installing collected packages: sympy, protobuf, networkx, duet, cachetools, googleapis-common-protos, google-auth, google-api-core, cirq-core, cirq-google, tensorflow-quantum\n",
            "  Attempting uninstall: sympy\n",
            "    Found existing installation: sympy 1.11.1\n",
            "    Uninstalling sympy-1.11.1:\n",
            "      Successfully uninstalled sympy-1.11.1\n",
            "  Attempting uninstall: protobuf\n",
            "    Found existing installation: protobuf 3.20.3\n",
            "    Uninstalling protobuf-3.20.3:\n",
            "      Successfully uninstalled protobuf-3.20.3\n",
            "  Attempting uninstall: networkx\n",
            "    Found existing installation: networkx 3.1\n",
            "    Uninstalling networkx-3.1:\n",
            "      Successfully uninstalled networkx-3.1\n",
            "  Attempting uninstall: cachetools\n",
            "    Found existing installation: cachetools 5.3.0\n",
            "    Uninstalling cachetools-5.3.0:\n",
            "      Successfully uninstalled cachetools-5.3.0\n",
            "  Attempting uninstall: googleapis-common-protos\n",
            "    Found existing installation: googleapis-common-protos 1.59.0\n",
            "    Uninstalling googleapis-common-protos-1.59.0:\n",
            "      Successfully uninstalled googleapis-common-protos-1.59.0\n",
            "  Attempting uninstall: google-auth\n",
            "    Found existing installation: google-auth 2.17.3\n",
            "    Uninstalling google-auth-2.17.3:\n",
            "      Successfully uninstalled google-auth-2.17.3\n",
            "  Attempting uninstall: google-api-core\n",
            "    Found existing installation: google-api-core 2.11.0\n",
            "    Uninstalling google-api-core-2.11.0:\n",
            "      Successfully uninstalled google-api-core-2.11.0\n",
            "\u001b[31mERROR: pip's dependency resolver does not currently take into account all the packages that are installed. This behaviour is the source of the following dependency conflicts.\n",
            "tensorflow-metadata 1.13.1 requires protobuf<5,>=3.20.3, but you have protobuf 3.17.3 which is incompatible.\n",
            "tensorflow-hub 0.13.0 requires protobuf>=3.19.6, but you have protobuf 3.17.3 which is incompatible.\n",
            "pydata-google-auth 1.7.0 requires google-auth<3.0dev,>=1.25.0; python_version >= \"3.6\", but you have google-auth 1.18.0 which is incompatible.\n",
            "proto-plus 1.22.2 requires protobuf<5.0.0dev,>=3.19.0, but you have protobuf 3.17.3 which is incompatible.\n",
            "pandas-gbq 0.17.9 requires google-api-core!=2.0.*,!=2.1.*,!=2.2.*,!=2.3.0,<3.0.0dev,>=1.31.5, but you have google-api-core 1.21.0 which is incompatible.\n",
            "pandas-gbq 0.17.9 requires google-auth>=1.25.0, but you have google-auth 1.18.0 which is incompatible.\n",
            "google-cloud-translate 3.11.1 requires google-api-core[grpc]!=2.0.*,!=2.1.*,!=2.10.*,!=2.2.*,!=2.3.*,!=2.4.*,!=2.5.*,!=2.6.*,!=2.7.*,!=2.8.*,!=2.9.*,<3.0.0dev,>=1.34.0, but you have google-api-core 1.21.0 which is incompatible.\n",
            "google-cloud-translate 3.11.1 requires protobuf!=3.20.0,!=3.20.1,!=4.21.0,!=4.21.1,!=4.21.2,!=4.21.3,!=4.21.4,!=4.21.5,<5.0.0dev,>=3.19.5, but you have protobuf 3.17.3 which is incompatible.\n",
            "google-cloud-storage 2.8.0 requires google-api-core!=2.0.*,!=2.1.*,!=2.2.*,!=2.3.0,<3.0.0dev,>=1.31.5, but you have google-api-core 1.21.0 which is incompatible.\n",
            "google-cloud-storage 2.8.0 requires google-auth<3.0dev,>=1.25.0, but you have google-auth 1.18.0 which is incompatible.\n",
            "google-cloud-language 2.9.1 requires google-api-core[grpc]!=2.0.*,!=2.1.*,!=2.10.*,!=2.2.*,!=2.3.*,!=2.4.*,!=2.5.*,!=2.6.*,!=2.7.*,!=2.8.*,!=2.9.*,<3.0.0dev,>=1.34.0, but you have google-api-core 1.21.0 which is incompatible.\n",
            "google-cloud-language 2.9.1 requires protobuf!=3.20.0,!=3.20.1,!=4.21.0,!=4.21.1,!=4.21.2,!=4.21.3,!=4.21.4,!=4.21.5,<5.0.0dev,>=3.19.5, but you have protobuf 3.17.3 which is incompatible.\n",
            "google-cloud-firestore 2.11.0 requires google-api-core[grpc]!=2.0.*,!=2.1.*,!=2.10.*,!=2.2.*,!=2.3.*,!=2.4.*,!=2.5.*,!=2.6.*,!=2.7.*,!=2.8.*,!=2.9.*,<3.0.0dev,>=1.34.0, but you have google-api-core 1.21.0 which is incompatible.\n",
            "google-cloud-firestore 2.11.0 requires protobuf!=3.20.0,!=3.20.1,!=4.21.0,!=4.21.1,!=4.21.2,!=4.21.3,!=4.21.4,!=4.21.5,<5.0.0dev,>=3.19.5, but you have protobuf 3.17.3 which is incompatible.\n",
            "google-cloud-datastore 2.15.1 requires google-api-core[grpc]!=2.0.*,!=2.1.*,!=2.10.*,!=2.2.*,!=2.3.*,!=2.4.*,!=2.5.*,!=2.6.*,!=2.7.*,!=2.8.*,!=2.9.*,<3.0.0dev,>=1.34.0, but you have google-api-core 1.21.0 which is incompatible.\n",
            "google-cloud-datastore 2.15.1 requires protobuf!=3.20.0,!=3.20.1,!=4.21.0,!=4.21.1,!=4.21.2,!=4.21.3,!=4.21.4,!=4.21.5,<5.0.0dev,>=3.19.5, but you have protobuf 3.17.3 which is incompatible.\n",
            "google-cloud-core 2.3.2 requires google-api-core!=2.0.*,!=2.1.*,!=2.2.*,!=2.3.0,<3.0.0dev,>=1.31.6, but you have google-api-core 1.21.0 which is incompatible.\n",
            "google-cloud-core 2.3.2 requires google-auth<3.0dev,>=1.25.0, but you have google-auth 1.18.0 which is incompatible.\n",
            "google-cloud-bigquery 3.9.0 requires google-api-core[grpc]!=2.0.*,!=2.1.*,!=2.2.*,!=2.3.0,<3.0.0dev,>=1.31.5, but you have google-api-core 1.21.0 which is incompatible.\n",
            "google-cloud-bigquery 3.9.0 requires protobuf!=3.20.0,!=3.20.1,!=4.21.0,!=4.21.1,!=4.21.2,!=4.21.3,!=4.21.4,!=4.21.5,<5.0.0dev,>=3.19.5, but you have protobuf 3.17.3 which is incompatible.\n",
            "google-cloud-bigquery-storage 2.19.1 requires google-api-core[grpc]!=2.0.*,!=2.1.*,!=2.10.*,!=2.2.*,!=2.3.*,!=2.4.*,!=2.5.*,!=2.6.*,!=2.7.*,!=2.8.*,!=2.9.*,<3.0.0dev,>=1.34.0, but you have google-api-core 1.21.0 which is incompatible.\n",
            "google-cloud-bigquery-storage 2.19.1 requires protobuf!=3.20.0,!=3.20.1,!=4.21.0,!=4.21.1,!=4.21.2,!=4.21.3,!=4.21.4,!=4.21.5,<5.0.0dev,>=3.19.5, but you have protobuf 3.17.3 which is incompatible.\n",
            "google-api-python-client 2.84.0 requires google-api-core!=2.0.*,!=2.1.*,!=2.2.*,!=2.3.0,<3.0.0dev,>=1.31.5, but you have google-api-core 1.21.0 which is incompatible.\n",
            "google-api-python-client 2.84.0 requires google-auth<3.0.0dev,>=1.19.0, but you have google-auth 1.18.0 which is incompatible.\n",
            "firebase-admin 5.3.0 requires google-api-core[grpc]<3.0.0dev,>=1.22.1; platform_python_implementation != \"PyPy\", but you have google-api-core 1.21.0 which is incompatible.\u001b[0m\u001b[31m\n",
            "\u001b[0mSuccessfully installed cachetools-4.2.4 cirq-core-0.13.1 cirq-google-0.13.1 duet-0.2.8 google-api-core-1.21.0 google-auth-1.18.0 googleapis-common-protos-1.52.0 networkx-2.8.8 protobuf-3.17.3 sympy-1.8 tensorflow-quantum-0.7.2\n"
          ]
        }
      ],
      "source": [
        "!pip install tensorflow-quantum==0.7.2"
      ]
    },
    {
      "cell_type": "code",
      "execution_count": null,
      "metadata": {
        "id": "b3LZKB1k1N1h",
        "colab": {
          "base_uri": "https://localhost:8080/"
        },
        "outputId": "ed0ea882-12bf-4fdb-c7aa-52624267418b"
      },
      "outputs": [
        {
          "output_type": "execute_result",
          "data": {
            "text/plain": [
              "<module 'pkg_resources' from '/usr/local/lib/python3.9/dist-packages/pkg_resources/__init__.py'>"
            ]
          },
          "metadata": {},
          "execution_count": 4
        }
      ],
      "source": [
        "# Update package resources to account for version changes.\n",
        "import importlib, pkg_resources\n",
        "importlib.reload(pkg_resources)"
      ]
    },
    {
      "cell_type": "markdown",
      "source": [
        "# Import Packages"
      ],
      "metadata": {
        "id": "ogU2FElHFuo9"
      }
    },
    {
      "cell_type": "code",
      "execution_count": null,
      "metadata": {
        "id": "guV6Db2vi2vi"
      },
      "outputs": [],
      "source": [
        "import tensorflow as tf\n",
        "import numpy as np\n",
        "import tensorflow_quantum as tfq\n",
        "\n",
        "import cirq\n",
        "import sympy\n",
        "import seaborn as sns\n",
        "import collections\n",
        "\n",
        "# visualization tools\n",
        "%matplotlib inline\n",
        "import matplotlib.pyplot as plt\n",
        "from cirq.contrib.svg import SVGCircuit"
      ]
    },
    {
      "cell_type": "code",
      "execution_count": null,
      "metadata": {
        "id": "pkzyAX6Di2vj",
        "colab": {
          "base_uri": "https://localhost:8080/"
        },
        "outputId": "f4d8d94e-17d1-4f8a-b641-4df96f49a1de"
      },
      "outputs": [
        {
          "output_type": "stream",
          "name": "stdout",
          "text": [
            "Downloading data from https://storage.googleapis.com/tensorflow/tf-keras-datasets/mnist.npz\n",
            "11493376/11490434 [==============================] - 1s 0us/step\n",
            "11501568/11490434 [==============================] - 1s 0us/step\n",
            "Number of original training examples: 60000\n",
            "Number of original testing examples: 10000\n"
          ]
        }
      ],
      "source": [
        "(x_training, y_training), (x_testing, y_testing) = tf.keras.datasets.mnist.load_data()\n",
        "\n",
        "# Rescale the images from [0,255] to the [0.0,1.0] range.\n",
        "x_training, x_testing = x_training[..., np.newaxis]/255.0, x_testing[..., np.newaxis]/255.0\n",
        "\n",
        "print(\"Number of original training examples:\", len(x_training))\n",
        "print(\"Number of original testing examples:\", len(x_testing))"
      ]
    },
    {
      "cell_type": "code",
      "execution_count": null,
      "metadata": {
        "id": "ASZN11VXi2vk"
      },
      "outputs": [],
      "source": [
        "def filter_07(r, n):\n",
        "    keep = (n == 0) | (n == 7)\n",
        "    r, n = r[keep], n[keep]\n",
        "    n = n == 0\n",
        "    return r,n"
      ]
    },
    {
      "cell_type": "code",
      "execution_count": null,
      "metadata": {
        "id": "0Cv7V0Ufi2vl",
        "colab": {
          "base_uri": "https://localhost:8080/"
        },
        "outputId": "f3216435-e711-4eb1-894c-70cdf2baffbb"
      },
      "outputs": [
        {
          "output_type": "stream",
          "name": "stdout",
          "text": [
            "Number of filtered training examples: 12188\n",
            "Number of filtered testing examples: 2008\n"
          ]
        }
      ],
      "source": [
        "x_training_07, y_training_07 = filter_07(x_training, y_training)\n",
        "x_testing_07, y_testing_07 = filter_07(x_testing, y_testing)\n",
        "\n",
        "print(\"Number of filtered training examples:\", len(x_training_07))\n",
        "print(\"Number of filtered testing examples:\", len(x_testing_07))"
      ]
    },
    {
      "cell_type": "code",
      "execution_count": null,
      "metadata": {
        "id": "wHBQBTf-i2vl",
        "colab": {
          "base_uri": "https://localhost:8080/",
          "height": 469
        },
        "outputId": "f87ee6a7-a58d-4307-97ea-b96f9fca2ee9"
      },
      "outputs": [
        {
          "output_type": "stream",
          "name": "stdout",
          "text": [
            "True\n"
          ]
        },
        {
          "output_type": "execute_result",
          "data": {
            "text/plain": [
              "<matplotlib.colorbar.Colorbar at 0x7f4c480c0070>"
            ]
          },
          "metadata": {},
          "execution_count": 9
        },
        {
          "output_type": "display_data",
          "data": {
            "text/plain": [
              "<Figure size 640x480 with 2 Axes>"
            ],
            "image/png": "[encoded data removed]"
          },
          "metadata": {}
        }
      ],
      "source": [
        "print(y_training_07[0])\n",
        "\n",
        "plt.imshow(x_training_07[0, :, :, 0])\n",
        "plt.colorbar()"
      ]
    },
    {
      "cell_type": "code",
      "execution_count": null,
      "metadata": {
        "id": "GSGtR8M3i2vl"
      },
      "outputs": [],
      "source": [
        "x_train_sized = tf.image.resize(x_training_07, (4,4)).numpy()\n",
        "x_test_sized = tf.image.resize(x_testing_07, (4,4)).numpy()"
      ]
    },
    {
      "cell_type": "code",
      "execution_count": null,
      "metadata": {
        "id": "EryL1ipCi2vl",
        "colab": {
          "base_uri": "https://localhost:8080/",
          "height": 469
        },
        "outputId": "4e3a55e8-9c92-499d-e4c3-bc5e0f5d05df"
      },
      "outputs": [
        {
          "output_type": "stream",
          "name": "stdout",
          "text": [
            "True\n"
          ]
        },
        {
          "output_type": "execute_result",
          "data": {
            "text/plain": [
              "<matplotlib.colorbar.Colorbar at 0x7f4c30cc6af0>"
            ]
          },
          "metadata": {},
          "execution_count": 11
        },
        {
          "output_type": "display_data",
          "data": {
            "text/plain": [
              "<Figure size 640x480 with 2 Axes>"
            ],
            "image/png": "[encoded data removed]"
          },
          "metadata": {}
        }
      ],
      "source": [
        "print(y_training_07[0])\n",
        "plt.imshow(x_train_sized[0,:,:,0], vmin=0, vmax=1)\n",
        "plt.colorbar() "
      ]
    },
    {
      "cell_type": "code",
      "execution_count": null,
      "metadata": {
        "id": "atwjNc1Zi2vm"
      },
      "outputs": [],
      "source": [
        "def remove_contradicting(xs, ys):\n",
        "    mapping = collections.defaultdict(set)\n",
        "    for x,y in zip(xs,ys):\n",
        "       mapping[tuple(x.flatten())].add(y)\n",
        "    \n",
        "    new_x = []\n",
        "    new_y = []\n",
        "    for x,y in zip(xs, ys):\n",
        "      labels = mapping[tuple(x.flatten())]\n",
        "      if len(labels) == 1:\n",
        "          new_x.append(x)\n",
        "          new_y.append(list(labels)[0])\n",
        "      else:\n",
        "          pass\n",
        "    \n",
        "    num_0 = sum(1 for value in mapping.values() if True in value)\n",
        "    num_7 = sum(1 for value in mapping.values() if False in value)\n",
        "    num_both = sum(1 for value in mapping.values() if len(value) == 2)\n",
        "\n",
        "    print(\"Number of unique images in the dataset:\", len(mapping.values()))\n",
        "    print(\"Number of zeroes: \", num_0)\n",
        "    print(\"Number of sevens: \", num_7)\n",
        "    print(\"Total Number of contradictory images: \", num_both)\n",
        "    print()\n",
        "    print(\"Initial number of examples in the datset: \", len(xs))\n",
        "    print(\"Remaining non-contradictory examples for use: \", len(new_x))\n",
        "    \n",
        "    return np.array(new_x), np.array(new_y)"
      ]
    },
    {
      "cell_type": "code",
      "execution_count": null,
      "metadata": {
        "id": "vnsGbZxji2vm",
        "colab": {
          "base_uri": "https://localhost:8080/"
        },
        "outputId": "ecd9e7f6-f94e-438e-d28f-6ac9a7ba4bae"
      },
      "outputs": [
        {
          "output_type": "stream",
          "name": "stdout",
          "text": [
            "Number of unique images in the dataset: 10491\n",
            "Number of zeroes:  5032\n",
            "Number of sevens:  5585\n",
            "Total Number of contradictory images:  126\n",
            "\n",
            "Initial number of examples in the datset:  12188\n",
            "Remaining non-contradictory examples for use:  11051\n"
          ]
        }
      ],
      "source": [
        "x_training_nocont, y_training_nocontt = remove_contradicting(x_train_sized, y_training_07)"
      ]
    },
    {
      "cell_type": "code",
      "execution_count": null,
      "metadata": {
        "id": "R3HK60Oli2vn"
      },
      "outputs": [],
      "source": [
        "Threshold = 0.5\n",
        "x_train_binary = np.array(x_training_nocont > Threshold, dtype=np.float32)\n",
        "x_test_binary = np.array(x_test_sized > Threshold, dtype=np.float32)"
      ]
    },
    {
      "cell_type": "code",
      "execution_count": null,
      "metadata": {
        "id": "a0hykDlPi2vn",
        "colab": {
          "base_uri": "https://localhost:8080/"
        },
        "outputId": "39b87f21-b6f7-4f2e-9640-e7bf0df71d07"
      },
      "outputs": [
        {
          "output_type": "execute_result",
          "data": {
            "text/plain": [
              "11051"
            ]
          },
          "metadata": {},
          "execution_count": 15
        }
      ],
      "source": [
        "len(x_train_binary)"
      ]
    },
    {
      "cell_type": "code",
      "execution_count": null,
      "metadata": {
        "id": "96uoj0zWi2vn",
        "colab": {
          "base_uri": "https://localhost:8080/"
        },
        "outputId": "6592e2a6-9739-4655-ba84-f57e88077fe6"
      },
      "outputs": [
        {
          "output_type": "stream",
          "name": "stdout",
          "text": [
            "Number of unique images in the dataset: 169\n",
            "Number of zeroes:  121\n",
            "Number of sevens:  105\n",
            "Total Number of contradictory images:  57\n",
            "\n",
            "Initial number of examples in the datset:  11051\n",
            "Remaining non-contradictory examples for use:  878\n"
          ]
        }
      ],
      "source": [
        " x_train_binary_nocont,y_training_nocont = remove_contradicting(x_train_binary, y_training_nocontt)"
      ]
    },
    {
      "cell_type": "code",
      "execution_count": null,
      "metadata": {
        "id": "kiDl0CPIi2vn"
      },
      "outputs": [],
      "source": [
        "\n",
        "def convert_to_circuit(image):\n",
        "    values = np.ndarray.flatten(image)\n",
        "    qubits = cirq.GridQubit.rect(4, 4)\n",
        "    circuit = cirq.Circuit()\n",
        "    for i, value in enumerate(values):\n",
        "        if value:\n",
        "            circuit.append(cirq.X(qubits[i]))\n",
        "    return circuit\n",
        "\n",
        "\n",
        "x_train_circuit = [convert_to_circuit(x) for x in x_train_binary_nocont]\n",
        "x_test_circuit = [convert_to_circuit(x) for x in x_test_binary]"
      ]
    },
    {
      "cell_type": "code",
      "execution_count": null,
      "metadata": {
        "id": "RLP4fFQdi2vo",
        "colab": {
          "base_uri": "https://localhost:8080/"
        },
        "outputId": "4284ede1-acf3-4a5b-a4b8-cc179a8ff557"
      },
      "outputs": [
        {
          "output_type": "execute_result",
          "data": {
            "text/plain": [
              "878"
            ]
          },
          "metadata": {},
          "execution_count": 18
        }
      ],
      "source": [
        "len(x_train_circuit)"
      ]
    },
    {
      "cell_type": "code",
      "execution_count": null,
      "metadata": {
        "id": "aoT_QpC1i2vo",
        "colab": {
          "base_uri": "https://localhost:8080/"
        },
        "outputId": "b80e5d44-dbec-4495-d5f0-74ccfd374745"
      },
      "outputs": [
        {
          "output_type": "execute_result",
          "data": {
            "text/plain": [
              "array([[1, 1]])"
            ]
          },
          "metadata": {},
          "execution_count": 19
        }
      ],
      "source": [
        "binary_image = x_train_binary[0,:,:,0]\n",
        "index = np.array(np.where(binary_image)).T\n",
        "index"
      ]
    },
    {
      "cell_type": "code",
      "execution_count": null,
      "metadata": {
        "id": "k-7u6llti2vo"
      },
      "outputs": [],
      "source": [
        "x_train_circuit_tensor = tfq.convert_to_tensor(x_train_circuit)\n",
        "x_test_circuit_tensor = tfq.convert_to_tensor(x_test_circuit)"
      ]
    },
    {
      "cell_type": "code",
      "execution_count": null,
      "metadata": {
        "id": "m5pMvVvPi2vo",
        "colab": {
          "base_uri": "https://localhost:8080/"
        },
        "outputId": "3407746b-102d-4dcd-a860-f04353c62be9"
      },
      "outputs": [
        {
          "output_type": "execute_result",
          "data": {
            "text/plain": [
              "(4, 4, 1)"
            ]
          },
          "metadata": {},
          "execution_count": 21
        }
      ],
      "source": [
        "x_train_binary[0].shape"
      ]
    },
    {
      "cell_type": "code",
      "execution_count": null,
      "metadata": {
        "id": "jD5-42DWi2vo"
      },
      "outputs": [],
      "source": [
        "class CircuitLayerBuilder():\n",
        "    def __init__(self, data_qubits, readout):\n",
        "        self.data_qubits = data_qubits\n",
        "        self.readout = readout\n",
        "    def add_layer(self, circuit, gate, prefix):\n",
        "        for i, qubit in enumerate(self.data_qubits):\n",
        "            symbol = sympy.Symbol(prefix + '-' + str(i))\n",
        "            circuit.append(gate(qubit, self.readout)**symbol)"
      ]
    },
    {
      "cell_type": "code",
      "execution_count": null,
      "metadata": {
        "id": "VUI-e6nIi2vo",
        "colab": {
          "base_uri": "https://localhost:8080/",
          "height": 492
        },
        "outputId": "a890dd97-5d48-46ef-adc5-d85449d46c4b"
      },
      "outputs": [
        {
          "output_type": "stream",
          "name": "stderr",
          "text": [
            "WARNING:matplotlib.font_manager:findfont: Font family 'Arial' not found.\n",
            "WARNING:matplotlib.font_manager:findfont: Font family 'Arial' not found.\n",
            "WARNING:matplotlib.font_manager:findfont: Font family 'Arial' not found.\n",
            "WARNING:matplotlib.font_manager:findfont: Font family 'Arial' not found.\n",
            "WARNING:matplotlib.font_manager:findfont: Font family 'Arial' not found.\n",
            "WARNING:matplotlib.font_manager:findfont: Font family 'Arial' not found.\n",
            "WARNING:matplotlib.font_manager:findfont: Font family 'Arial' not found.\n",
            "WARNING:matplotlib.font_manager:findfont: Font family 'Arial' not found.\n",
            "WARNING:matplotlib.font_manager:findfont: Font family 'Arial' not found.\n",
            "WARNING:matplotlib.font_manager:findfont: Font family 'Arial' not found.\n",
            "WARNING:matplotlib.font_manager:findfont: Font family 'Arial' not found.\n",
            "WARNING:matplotlib.font_manager:findfont: Font family 'Arial' not found.\n",
            "WARNING:matplotlib.font_manager:findfont: Font family 'Arial' not found.\n"
          ]
        },
        {
          "output_type": "execute_result",
          "data": {
            "text/plain": [
              "<cirq.contrib.svg.svg.SVGCircuit at 0x7f4c2cfeafd0>"
            ],
            "image/svg+xml": "<svg xmlns=\"http://www.w3.org/2000/svg\" width=\"522.59953125\" height=\"250.0\"><line x1=\"39.810625\" x2=\"492.59953125000004\" y1=\"25.0\" y2=\"25.0\" stroke=\"#1967d2\" stroke-width=\"1\" /><line x1=\"39.810625\" x2=\"492.59953125000004\" y1=\"75.0\" y2=\"75.0\" stroke=\"#1967d2\" stroke-width=\"1\" /><line x1=\"39.810625\" x2=\"492.59953125000004\" y1=\"125.0\" y2=\"125.0\" stroke=\"#1967d2\" stroke-width=\"1\" /><line x1=\"39.810625\" x2=\"492.59953125000004\" y1=\"175.0\" y2=\"175.0\" stroke=\"#1967d2\" stroke-width=\"1\" /><line x1=\"39.810625\" x2=\"492.59953125000004\" y1=\"225.0\" y2=\"225.0\" stroke=\"#1967d2\" stroke-width=\"1\" /><line x1=\"129.99353515625\" x2=\"129.99353515625\" y1=\"25.0\" y2=\"75.0\" stroke=\"black\" stroke-width=\"3\" /><line x1=\"230.73810546875004\" x2=\"230.73810546875004\" y1=\"25.0\" y2=\"125.0\" stroke=\"black\" stroke-width=\"3\" /><line x1=\"331.48267578125007\" x2=\"331.48267578125007\" y1=\"25.0\" y2=\"175.0\" stroke=\"black\" stroke-width=\"3\" /><line x1=\"432.22724609375007\" x2=\"432.22724609375007\" y1=\"25.0\" y2=\"225.0\" stroke=\"black\" stroke-width=\"3\" /><rect x=\"10.0\" y=\"5.0\" width=\"59.62125\" height=\"40\" stroke=\"black\" fill=\"white\" stroke-width=\"0\" /><text x=\"39.810625\" y=\"25.0\" dominant-baseline=\"middle\" text-anchor=\"middle\" font-size=\"14px\" font-family=\"Arial\">(-1, -1): </text><rect x=\"10.0\" y=\"55.0\" width=\"59.62125\" height=\"40\" stroke=\"black\" fill=\"white\" stroke-width=\"0\" /><text x=\"39.810625\" y=\"75.0\" dominant-baseline=\"middle\" text-anchor=\"middle\" font-size=\"14px\" font-family=\"Arial\">(0, 0): </text><rect x=\"10.0\" y=\"105.0\" width=\"59.62125\" height=\"40\" stroke=\"black\" fill=\"white\" stroke-width=\"0\" /><text x=\"39.810625\" y=\"125.0\" dominant-baseline=\"middle\" text-anchor=\"middle\" font-size=\"14px\" font-family=\"Arial\">(1, 0): </text><rect x=\"10.0\" y=\"155.0\" width=\"59.62125\" height=\"40\" stroke=\"black\" fill=\"white\" stroke-width=\"0\" /><text x=\"39.810625\" y=\"175.0\" dominant-baseline=\"middle\" text-anchor=\"middle\" font-size=\"14px\" font-family=\"Arial\">(2, 0): </text><rect x=\"10.0\" y=\"205.0\" width=\"59.62125\" height=\"40\" stroke=\"black\" fill=\"white\" stroke-width=\"0\" /><text x=\"39.810625\" y=\"225.0\" dominant-baseline=\"middle\" text-anchor=\"middle\" font-size=\"14px\" font-family=\"Arial\">(3, 0): </text><rect x=\"89.62125\" y=\"55.0\" width=\"80.74457031250002\" height=\"40\" stroke=\"black\" fill=\"white\" stroke-width=\"1\" /><text x=\"129.99353515625\" y=\"75.0\" dominant-baseline=\"middle\" text-anchor=\"middle\" font-size=\"14px\" font-family=\"Arial\">XX^(xx-0)</text><rect x=\"89.62125\" y=\"5.0\" width=\"80.74457031250002\" height=\"40\" stroke=\"black\" fill=\"white\" stroke-width=\"1\" /><text x=\"129.99353515625\" y=\"25.0\" dominant-baseline=\"middle\" text-anchor=\"middle\" font-size=\"14px\" font-family=\"Arial\">XX</text><rect x=\"190.36582031250003\" y=\"105.0\" width=\"80.74457031250002\" height=\"40\" stroke=\"black\" fill=\"white\" stroke-width=\"1\" /><text x=\"230.73810546875004\" y=\"125.0\" dominant-baseline=\"middle\" text-anchor=\"middle\" font-size=\"14px\" font-family=\"Arial\">XX^(xx-1)</text><rect x=\"190.36582031250003\" y=\"5.0\" width=\"80.74457031250002\" height=\"40\" stroke=\"black\" fill=\"white\" stroke-width=\"1\" /><text x=\"230.73810546875004\" y=\"25.0\" dominant-baseline=\"middle\" text-anchor=\"middle\" font-size=\"14px\" font-family=\"Arial\">XX</text><rect x=\"291.11039062500004\" y=\"155.0\" width=\"80.74457031250002\" height=\"40\" stroke=\"black\" fill=\"white\" stroke-width=\"1\" /><text x=\"331.48267578125007\" y=\"175.0\" dominant-baseline=\"middle\" text-anchor=\"middle\" font-size=\"14px\" font-family=\"Arial\">XX^(xx-2)</text><rect x=\"291.11039062500004\" y=\"5.0\" width=\"80.74457031250002\" height=\"40\" stroke=\"black\" fill=\"white\" stroke-width=\"1\" /><text x=\"331.48267578125007\" y=\"25.0\" dominant-baseline=\"middle\" text-anchor=\"middle\" font-size=\"14px\" font-family=\"Arial\">XX</text><rect x=\"391.85496093750004\" y=\"205.0\" width=\"80.74457031250002\" height=\"40\" stroke=\"black\" fill=\"white\" stroke-width=\"1\" /><text x=\"432.22724609375007\" y=\"225.0\" dominant-baseline=\"middle\" text-anchor=\"middle\" font-size=\"14px\" font-family=\"Arial\">XX^(xx-3)</text><rect x=\"391.85496093750004\" y=\"5.0\" width=\"80.74457031250002\" height=\"40\" stroke=\"black\" fill=\"white\" stroke-width=\"1\" /><text x=\"432.22724609375007\" y=\"25.0\" dominant-baseline=\"middle\" text-anchor=\"middle\" font-size=\"14px\" font-family=\"Arial\">XX</text></svg>"
          },
          "metadata": {},
          "execution_count": 23
        }
      ],
      "source": [
        "demo_circuit = CircuitLayerBuilder(data_qubits = cirq.GridQubit.rect(4,1),\n",
        "                                   readout=cirq.GridQubit(-1,-1))\n",
        "circ = cirq.Circuit()\n",
        "demo_circuit.add_layer(circ, gate = cirq.XX, prefix='xx')\n",
        "SVGCircuit(circ)"
      ]
    },
    {
      "cell_type": "code",
      "execution_count": null,
      "metadata": {
        "id": "6UZNfsFsi2vp"
      },
      "outputs": [],
      "source": [
        "def create_quantum_model():\n",
        "    data_qubits = cirq.GridQubit.rect(4, 4)  # a 4x4 grid.\n",
        "    readout = cirq.GridQubit(-1, -1)         # a single qubit at [-1,-1]\n",
        "    circuit = cirq.Circuit()\n",
        "    \n",
        "    circuit.append(cirq.X(readout))\n",
        "    circuit.append(cirq.H(readout))\n",
        "    \n",
        "    builder = CircuitLayerBuilder(\n",
        "        data_qubits = data_qubits,\n",
        "        readout=readout)\n",
        "\n",
        "    builder.add_layer(circuit, cirq.XX, \"xx1\")\n",
        "    builder.add_layer(circuit, cirq.ZZ, \"zz1\")\n",
        "\n",
        "    circuit.append(cirq.H(readout))\n",
        "    circuit.append(cirq.measure(readout))\n",
        "\n",
        "    return circuit, cirq.Z(readout)"
      ]
    },
    {
      "cell_type": "code",
      "execution_count": null,
      "metadata": {
        "id": "LafWx_JSi2vp"
      },
      "outputs": [],
      "source": [
        "model_circuit, model_readout = create_quantum_model()"
      ]
    },
    {
      "cell_type": "code",
      "execution_count": null,
      "metadata": {
        "id": "ql3xAUhRi2vp",
        "colab": {
          "base_uri": "https://localhost:8080/",
          "height": 1000
        },
        "outputId": "5e073f4e-fc72-4db4-80eb-33a651511c04"
      },
      "outputs": [
        {
          "output_type": "stream",
          "name": "stderr",
          "text": [
            "WARNING:matplotlib.font_manager:findfont: Font family 'Arial' not found.\n",
            "WARNING:matplotlib.font_manager:findfont: Font family 'Arial' not found.\n",
            "WARNING:matplotlib.font_manager:findfont: Font family 'Arial' not found.\n",
            "WARNING:matplotlib.font_manager:findfont: Font family 'Arial' not found.\n",
            "WARNING:matplotlib.font_manager:findfont: Font family 'Arial' not found.\n",
            "WARNING:matplotlib.font_manager:findfont: Font family 'Arial' not found.\n",
            "WARNING:matplotlib.font_manager:findfont: Font family 'Arial' not found.\n",
            "WARNING:matplotlib.font_manager:findfont: Font family 'Arial' not found.\n",
            "WARNING:matplotlib.font_manager:findfont: Font family 'Arial' not found.\n",
            "WARNING:matplotlib.font_manager:findfont: Font family 'Arial' not found.\n",
            "WARNING:matplotlib.font_manager:findfont: Font family 'Arial' not found.\n",
            "WARNING:matplotlib.font_manager:findfont: Font family 'Arial' not found.\n",
            "WARNING:matplotlib.font_manager:findfont: Font family 'Arial' not found.\n",
            "WARNING:matplotlib.font_manager:findfont: Font family 'Arial' not found.\n",
            "WARNING:matplotlib.font_manager:findfont: Font family 'Arial' not found.\n",
            "WARNING:matplotlib.font_manager:findfont: Font family 'Arial' not found.\n",
            "WARNING:matplotlib.font_manager:findfont: Font family 'Arial' not found.\n",
            "WARNING:matplotlib.font_manager:findfont: Font family 'Arial' not found.\n",
            "WARNING:matplotlib.font_manager:findfont: Font family 'Arial' not found.\n",
            "WARNING:matplotlib.font_manager:findfont: Font family 'Arial' not found.\n",
            "WARNING:matplotlib.font_manager:findfont: Font family 'Arial' not found.\n",
            "WARNING:matplotlib.font_manager:findfont: Font family 'Arial' not found.\n",
            "WARNING:matplotlib.font_manager:findfont: Font family 'Arial' not found.\n",
            "WARNING:matplotlib.font_manager:findfont: Font family 'Arial' not found.\n",
            "WARNING:matplotlib.font_manager:findfont: Font family 'Arial' not found.\n",
            "WARNING:matplotlib.font_manager:findfont: Font family 'Arial' not found.\n",
            "WARNING:matplotlib.font_manager:findfont: Font family 'Arial' not found.\n",
            "WARNING:matplotlib.font_manager:findfont: Font family 'Arial' not found.\n",
            "WARNING:matplotlib.font_manager:findfont: Font family 'Arial' not found.\n",
            "WARNING:matplotlib.font_manager:findfont: Font family 'Arial' not found.\n",
            "WARNING:matplotlib.font_manager:findfont: Font family 'Arial' not found.\n",
            "WARNING:matplotlib.font_manager:findfont: Font family 'Arial' not found.\n",
            "WARNING:matplotlib.font_manager:findfont: Font family 'Arial' not found.\n",
            "WARNING:matplotlib.font_manager:findfont: Font family 'Arial' not found.\n",
            "WARNING:matplotlib.font_manager:findfont: Font family 'Arial' not found.\n",
            "WARNING:matplotlib.font_manager:findfont: Font family 'Arial' not found.\n",
            "WARNING:matplotlib.font_manager:findfont: Font family 'Arial' not found.\n",
            "WARNING:matplotlib.font_manager:findfont: Font family 'Arial' not found.\n",
            "WARNING:matplotlib.font_manager:findfont: Font family 'Arial' not found.\n",
            "WARNING:matplotlib.font_manager:findfont: Font family 'Arial' not found.\n",
            "WARNING:matplotlib.font_manager:findfont: Font family 'Arial' not found.\n",
            "WARNING:matplotlib.font_manager:findfont: Font family 'Arial' not found.\n",
            "WARNING:matplotlib.font_manager:findfont: Font family 'Arial' not found.\n",
            "WARNING:matplotlib.font_manager:findfont: Font family 'Arial' not found.\n",
            "WARNING:matplotlib.font_manager:findfont: Font family 'Arial' not found.\n",
            "WARNING:matplotlib.font_manager:findfont: Font family 'Arial' not found.\n",
            "WARNING:matplotlib.font_manager:findfont: Font family 'Arial' not found.\n",
            "WARNING:matplotlib.font_manager:findfont: Font family 'Arial' not found.\n",
            "WARNING:matplotlib.font_manager:findfont: Font family 'Arial' not found.\n",
            "WARNING:matplotlib.font_manager:findfont: Font family 'Arial' not found.\n",
            "WARNING:matplotlib.font_manager:findfont: Font family 'Arial' not found.\n",
            "WARNING:matplotlib.font_manager:findfont: Font family 'Arial' not found.\n",
            "WARNING:matplotlib.font_manager:findfont: Font family 'Arial' not found.\n",
            "WARNING:matplotlib.font_manager:findfont: Font family 'Arial' not found.\n",
            "WARNING:matplotlib.font_manager:findfont: Font family 'Arial' not found.\n",
            "WARNING:matplotlib.font_manager:findfont: Font family 'Arial' not found.\n",
            "WARNING:matplotlib.font_manager:findfont: Font family 'Arial' not found.\n",
            "WARNING:matplotlib.font_manager:findfont: Font family 'Arial' not found.\n",
            "WARNING:matplotlib.font_manager:findfont: Font family 'Arial' not found.\n",
            "WARNING:matplotlib.font_manager:findfont: Font family 'Arial' not found.\n",
            "WARNING:matplotlib.font_manager:findfont: Font family 'Arial' not found.\n",
            "WARNING:matplotlib.font_manager:findfont: Font family 'Arial' not found.\n",
            "WARNING:matplotlib.font_manager:findfont: Font family 'Arial' not found.\n",
            "WARNING:matplotlib.font_manager:findfont: Font family 'Arial' not found.\n",
            "WARNING:matplotlib.font_manager:findfont: Font family 'Arial' not found.\n",
            "WARNING:matplotlib.font_manager:findfont: Font family 'Arial' not found.\n",
            "WARNING:matplotlib.font_manager:findfont: Font family 'Arial' not found.\n",
            "WARNING:matplotlib.font_manager:findfont: Font family 'Arial' not found.\n",
            "WARNING:matplotlib.font_manager:findfont: Font family 'Arial' not found.\n",
            "WARNING:matplotlib.font_manager:findfont: Font family 'Arial' not found.\n",
            "WARNING:matplotlib.font_manager:findfont: Font family 'Arial' not found.\n",
            "WARNING:matplotlib.font_manager:findfont: Font family 'Arial' not found.\n",
            "WARNING:matplotlib.font_manager:findfont: Font family 'Arial' not found.\n",
            "WARNING:matplotlib.font_manager:findfont: Font family 'Arial' not found.\n",
            "WARNING:matplotlib.font_manager:findfont: Font family 'Arial' not found.\n",
            "WARNING:matplotlib.font_manager:findfont: Font family 'Arial' not found.\n",
            "WARNING:matplotlib.font_manager:findfont: Font family 'Arial' not found.\n",
            "WARNING:matplotlib.font_manager:findfont: Font family 'Arial' not found.\n",
            "WARNING:matplotlib.font_manager:findfont: Font family 'Arial' not found.\n",
            "WARNING:matplotlib.font_manager:findfont: Font family 'Arial' not found.\n",
            "WARNING:matplotlib.font_manager:findfont: Font family 'Arial' not found.\n",
            "WARNING:matplotlib.font_manager:findfont: Font family 'Arial' not found.\n",
            "WARNING:matplotlib.font_manager:findfont: Font family 'Arial' not found.\n",
            "WARNING:matplotlib.font_manager:findfont: Font family 'Arial' not found.\n",
            "WARNING:matplotlib.font_manager:findfont: Font family 'Arial' not found.\n"
          ]
        },
        {
          "output_type": "execute_result",
          "data": {
            "text/plain": [
              "<cirq.contrib.svg.svg.SVGCircuit at 0x7f4c2cfea880>"
            ],
            "image/svg+xml": "<svg xmlns=\"http://www.w3.org/2000/svg\" width=\"3942.001718750002\" height=\"850.0\"><line x1=\"39.810625\" x2=\"3912.001718750002\" y1=\"25.0\" y2=\"25.0\" stroke=\"#1967d2\" stroke-width=\"1\" /><line x1=\"39.810625\" x2=\"3912.001718750002\" y1=\"75.0\" y2=\"75.0\" stroke=\"#1967d2\" stroke-width=\"1\" /><line x1=\"39.810625\" x2=\"3912.001718750002\" y1=\"125.0\" y2=\"125.0\" stroke=\"#1967d2\" stroke-width=\"1\" /><line x1=\"39.810625\" x2=\"3912.001718750002\" y1=\"175.0\" y2=\"175.0\" stroke=\"#1967d2\" stroke-width=\"1\" /><line x1=\"39.810625\" x2=\"3912.001718750002\" y1=\"225.0\" y2=\"225.0\" stroke=\"#1967d2\" stroke-width=\"1\" /><line x1=\"39.810625\" x2=\"3912.001718750002\" y1=\"275.0\" y2=\"275.0\" stroke=\"#1967d2\" stroke-width=\"1\" /><line x1=\"39.810625\" x2=\"3912.001718750002\" y1=\"325.0\" y2=\"325.0\" stroke=\"#1967d2\" stroke-width=\"1\" /><line x1=\"39.810625\" x2=\"3912.001718750002\" y1=\"375.0\" y2=\"375.0\" stroke=\"#1967d2\" stroke-width=\"1\" /><line x1=\"39.810625\" x2=\"3912.001718750002\" y1=\"425.0\" y2=\"425.0\" stroke=\"#1967d2\" stroke-width=\"1\" /><line x1=\"39.810625\" x2=\"3912.001718750002\" y1=\"475.0\" y2=\"475.0\" stroke=\"#1967d2\" stroke-width=\"1\" /><line x1=\"39.810625\" x2=\"3912.001718750002\" y1=\"525.0\" y2=\"525.0\" stroke=\"#1967d2\" stroke-width=\"1\" /><line x1=\"39.810625\" x2=\"3912.001718750002\" y1=\"575.0\" y2=\"575.0\" stroke=\"#1967d2\" stroke-width=\"1\" /><line x1=\"39.810625\" x2=\"3912.001718750002\" y1=\"625.0\" y2=\"625.0\" stroke=\"#1967d2\" stroke-width=\"1\" /><line x1=\"39.810625\" x2=\"3912.001718750002\" y1=\"675.0\" y2=\"675.0\" stroke=\"#1967d2\" stroke-width=\"1\" /><line x1=\"39.810625\" x2=\"3912.001718750002\" y1=\"725.0\" y2=\"725.0\" stroke=\"#1967d2\" stroke-width=\"1\" /><line x1=\"39.810625\" x2=\"3912.001718750002\" y1=\"775.0\" y2=\"775.0\" stroke=\"#1967d2\" stroke-width=\"1\" /><line x1=\"39.810625\" x2=\"3912.001718750002\" y1=\"825.0\" y2=\"825.0\" stroke=\"#1967d2\" stroke-width=\"1\" /><line x1=\"254.4471484375\" x2=\"254.4471484375\" y1=\"25.0\" y2=\"75.0\" stroke=\"black\" stroke-width=\"3\" /><line x1=\"364.09894531250006\" x2=\"364.09894531250006\" y1=\"25.0\" y2=\"125.0\" stroke=\"black\" stroke-width=\"3\" /><line x1=\"473.75074218750007\" x2=\"473.75074218750007\" y1=\"25.0\" y2=\"175.0\" stroke=\"black\" stroke-width=\"3\" /><line x1=\"583.4025390625001\" x2=\"583.4025390625001\" y1=\"25.0\" y2=\"225.0\" stroke=\"black\" stroke-width=\"3\" /><line x1=\"693.0543359375001\" x2=\"693.0543359375001\" y1=\"25.0\" y2=\"275.0\" stroke=\"black\" stroke-width=\"3\" /><line x1=\"802.7061328125002\" x2=\"802.7061328125002\" y1=\"25.0\" y2=\"325.0\" stroke=\"black\" stroke-width=\"3\" /><line x1=\"912.3579296875002\" x2=\"912.3579296875002\" y1=\"25.0\" y2=\"375.0\" stroke=\"black\" stroke-width=\"3\" /><line x1=\"1022.0097265625003\" x2=\"1022.0097265625003\" y1=\"25.0\" y2=\"425.0\" stroke=\"black\" stroke-width=\"3\" /><line x1=\"1131.6615234375004\" x2=\"1131.6615234375004\" y1=\"25.0\" y2=\"475.0\" stroke=\"black\" stroke-width=\"3\" /><line x1=\"1241.3133203125003\" x2=\"1241.3133203125003\" y1=\"25.0\" y2=\"525.0\" stroke=\"black\" stroke-width=\"3\" /><line x1=\"1355.4187304687503\" x2=\"1355.4187304687503\" y1=\"25.0\" y2=\"575.0\" stroke=\"black\" stroke-width=\"3\" /><line x1=\"1473.9777539062502\" x2=\"1473.9777539062502\" y1=\"25.0\" y2=\"625.0\" stroke=\"black\" stroke-width=\"3\" /><line x1=\"1592.5367773437501\" x2=\"1592.5367773437501\" y1=\"25.0\" y2=\"675.0\" stroke=\"black\" stroke-width=\"3\" /><line x1=\"1711.09580078125\" x2=\"1711.09580078125\" y1=\"25.0\" y2=\"725.0\" stroke=\"black\" stroke-width=\"3\" /><line x1=\"1829.65482421875\" x2=\"1829.65482421875\" y1=\"25.0\" y2=\"775.0\" stroke=\"black\" stroke-width=\"3\" /><line x1=\"1948.21384765625\" x2=\"1948.21384765625\" y1=\"25.0\" y2=\"825.0\" stroke=\"black\" stroke-width=\"3\" /><line x1=\"2061.276640625\" x2=\"2061.276640625\" y1=\"25.0\" y2=\"75.0\" stroke=\"black\" stroke-width=\"3\" /><line x1=\"2168.843203125\" x2=\"2168.843203125\" y1=\"25.0\" y2=\"125.0\" stroke=\"black\" stroke-width=\"3\" /><line x1=\"2276.409765625\" x2=\"2276.409765625\" y1=\"25.0\" y2=\"175.0\" stroke=\"black\" stroke-width=\"3\" /><line x1=\"2383.9763281250002\" x2=\"2383.9763281250002\" y1=\"25.0\" y2=\"225.0\" stroke=\"black\" stroke-width=\"3\" /><line x1=\"2491.5428906250004\" x2=\"2491.5428906250004\" y1=\"25.0\" y2=\"275.0\" stroke=\"black\" stroke-width=\"3\" /><line x1=\"2599.1094531250005\" x2=\"2599.1094531250005\" y1=\"25.0\" y2=\"325.0\" stroke=\"black\" stroke-width=\"3\" /><line x1=\"2706.6760156250007\" x2=\"2706.6760156250007\" y1=\"25.0\" y2=\"375.0\" stroke=\"black\" stroke-width=\"3\" /><line x1=\"2814.242578125001\" x2=\"2814.242578125001\" y1=\"25.0\" y2=\"425.0\" stroke=\"black\" stroke-width=\"3\" /><line x1=\"2921.809140625001\" x2=\"2921.809140625001\" y1=\"25.0\" y2=\"475.0\" stroke=\"black\" stroke-width=\"3\" /><line x1=\"3029.375703125001\" x2=\"3029.375703125001\" y1=\"25.0\" y2=\"525.0\" stroke=\"black\" stroke-width=\"3\" /><line x1=\"3141.3958789062513\" x2=\"3141.3958789062513\" y1=\"25.0\" y2=\"575.0\" stroke=\"black\" stroke-width=\"3\" /><line x1=\"3257.8696679687514\" x2=\"3257.8696679687514\" y1=\"25.0\" y2=\"625.0\" stroke=\"black\" stroke-width=\"3\" /><line x1=\"3374.3434570312515\" x2=\"3374.3434570312515\" y1=\"25.0\" y2=\"675.0\" stroke=\"black\" stroke-width=\"3\" /><line x1=\"3490.8172460937517\" x2=\"3490.8172460937517\" y1=\"25.0\" y2=\"725.0\" stroke=\"black\" stroke-width=\"3\" /><line x1=\"3607.291035156252\" x2=\"3607.291035156252\" y1=\"25.0\" y2=\"775.0\" stroke=\"black\" stroke-width=\"3\" /><line x1=\"3723.764824218752\" x2=\"3723.764824218752\" y1=\"25.0\" y2=\"825.0\" stroke=\"black\" stroke-width=\"3\" /><rect x=\"10.0\" y=\"5.0\" width=\"59.62125\" height=\"40\" stroke=\"black\" fill=\"white\" stroke-width=\"0\" /><text x=\"39.810625\" y=\"25.0\" dominant-baseline=\"middle\" text-anchor=\"middle\" font-size=\"14px\" font-family=\"Arial\">(-1, -1): </text><rect x=\"10.0\" y=\"55.0\" width=\"59.62125\" height=\"40\" stroke=\"black\" fill=\"white\" stroke-width=\"0\" /><text x=\"39.810625\" y=\"75.0\" dominant-baseline=\"middle\" text-anchor=\"middle\" font-size=\"14px\" font-family=\"Arial\">(0, 0): </text><rect x=\"10.0\" y=\"105.0\" width=\"59.62125\" height=\"40\" stroke=\"black\" fill=\"white\" stroke-width=\"0\" /><text x=\"39.810625\" y=\"125.0\" dominant-baseline=\"middle\" text-anchor=\"middle\" font-size=\"14px\" font-family=\"Arial\">(0, 1): </text><rect x=\"10.0\" y=\"155.0\" width=\"59.62125\" height=\"40\" stroke=\"black\" fill=\"white\" stroke-width=\"0\" /><text x=\"39.810625\" y=\"175.0\" dominant-baseline=\"middle\" text-anchor=\"middle\" font-size=\"14px\" font-family=\"Arial\">(0, 2): </text><rect x=\"10.0\" y=\"205.0\" width=\"59.62125\" height=\"40\" stroke=\"black\" fill=\"white\" stroke-width=\"0\" /><text x=\"39.810625\" y=\"225.0\" dominant-baseline=\"middle\" text-anchor=\"middle\" font-size=\"14px\" font-family=\"Arial\">(0, 3): </text><rect x=\"10.0\" y=\"255.0\" width=\"59.62125\" height=\"40\" stroke=\"black\" fill=\"white\" stroke-width=\"0\" /><text x=\"39.810625\" y=\"275.0\" dominant-baseline=\"middle\" text-anchor=\"middle\" font-size=\"14px\" font-family=\"Arial\">(1, 0): </text><rect x=\"10.0\" y=\"305.0\" width=\"59.62125\" height=\"40\" stroke=\"black\" fill=\"white\" stroke-width=\"0\" /><text x=\"39.810625\" y=\"325.0\" dominant-baseline=\"middle\" text-anchor=\"middle\" font-size=\"14px\" font-family=\"Arial\">(1, 1): </text><rect x=\"10.0\" y=\"355.0\" width=\"59.62125\" height=\"40\" stroke=\"black\" fill=\"white\" stroke-width=\"0\" /><text x=\"39.810625\" y=\"375.0\" dominant-baseline=\"middle\" text-anchor=\"middle\" font-size=\"14px\" font-family=\"Arial\">(1, 2): </text><rect x=\"10.0\" y=\"405.0\" width=\"59.62125\" height=\"40\" stroke=\"black\" fill=\"white\" stroke-width=\"0\" /><text x=\"39.810625\" y=\"425.0\" dominant-baseline=\"middle\" text-anchor=\"middle\" font-size=\"14px\" font-family=\"Arial\">(1, 3): </text><rect x=\"10.0\" y=\"455.0\" width=\"59.62125\" height=\"40\" stroke=\"black\" fill=\"white\" stroke-width=\"0\" /><text x=\"39.810625\" y=\"475.0\" dominant-baseline=\"middle\" text-anchor=\"middle\" font-size=\"14px\" font-family=\"Arial\">(2, 0): </text><rect x=\"10.0\" y=\"505.0\" width=\"59.62125\" height=\"40\" stroke=\"black\" fill=\"white\" stroke-width=\"0\" /><text x=\"39.810625\" y=\"525.0\" dominant-baseline=\"middle\" text-anchor=\"middle\" font-size=\"14px\" font-family=\"Arial\">(2, 1): </text><rect x=\"10.0\" y=\"555.0\" width=\"59.62125\" height=\"40\" stroke=\"black\" fill=\"white\" stroke-width=\"0\" /><text x=\"39.810625\" y=\"575.0\" dominant-baseline=\"middle\" text-anchor=\"middle\" font-size=\"14px\" font-family=\"Arial\">(2, 2): </text><rect x=\"10.0\" y=\"605.0\" width=\"59.62125\" height=\"40\" stroke=\"black\" fill=\"white\" stroke-width=\"0\" /><text x=\"39.810625\" y=\"625.0\" dominant-baseline=\"middle\" text-anchor=\"middle\" font-size=\"14px\" font-family=\"Arial\">(2, 3): </text><rect x=\"10.0\" y=\"655.0\" width=\"59.62125\" height=\"40\" stroke=\"black\" fill=\"white\" stroke-width=\"0\" /><text x=\"39.810625\" y=\"675.0\" dominant-baseline=\"middle\" text-anchor=\"middle\" font-size=\"14px\" font-family=\"Arial\">(3, 0): </text><rect x=\"10.0\" y=\"705.0\" width=\"59.62125\" height=\"40\" stroke=\"black\" fill=\"white\" stroke-width=\"0\" /><text x=\"39.810625\" y=\"725.0\" dominant-baseline=\"middle\" text-anchor=\"middle\" font-size=\"14px\" font-family=\"Arial\">(3, 1): </text><rect x=\"10.0\" y=\"755.0\" width=\"59.62125\" height=\"40\" stroke=\"black\" fill=\"white\" stroke-width=\"0\" /><text x=\"39.810625\" y=\"775.0\" dominant-baseline=\"middle\" text-anchor=\"middle\" font-size=\"14px\" font-family=\"Arial\">(3, 2): </text><rect x=\"10.0\" y=\"805.0\" width=\"59.62125\" height=\"40\" stroke=\"black\" fill=\"white\" stroke-width=\"0\" /><text x=\"39.810625\" y=\"825.0\" dominant-baseline=\"middle\" text-anchor=\"middle\" font-size=\"14px\" font-family=\"Arial\">(3, 3): </text><rect x=\"89.62125\" y=\"5.0\" width=\"40\" height=\"40\" stroke=\"black\" fill=\"white\" stroke-width=\"1\" /><text x=\"109.62125\" y=\"25.0\" dominant-baseline=\"middle\" text-anchor=\"middle\" font-size=\"18px\" font-family=\"Arial\">X</text><rect x=\"149.62125\" y=\"5.0\" width=\"40\" height=\"40\" stroke=\"black\" fill=\"white\" stroke-width=\"1\" /><text x=\"169.62125\" y=\"25.0\" dominant-baseline=\"middle\" text-anchor=\"middle\" font-size=\"18px\" font-family=\"Arial\">H</text><rect x=\"209.62125\" y=\"55.0\" width=\"89.65179687500002\" height=\"40\" stroke=\"black\" fill=\"white\" stroke-width=\"1\" /><text x=\"254.4471484375\" y=\"75.0\" dominant-baseline=\"middle\" text-anchor=\"middle\" font-size=\"14px\" font-family=\"Arial\">XX^(xx1-0)</text><rect x=\"209.62125\" y=\"5.0\" width=\"89.65179687500002\" height=\"40\" stroke=\"black\" fill=\"white\" stroke-width=\"1\" /><text x=\"254.4471484375\" y=\"25.0\" dominant-baseline=\"middle\" text-anchor=\"middle\" font-size=\"14px\" font-family=\"Arial\">XX</text><rect x=\"319.27304687500003\" y=\"105.0\" width=\"89.65179687500002\" height=\"40\" stroke=\"black\" fill=\"white\" stroke-width=\"1\" /><text x=\"364.09894531250006\" y=\"125.0\" dominant-baseline=\"middle\" text-anchor=\"middle\" font-size=\"14px\" font-family=\"Arial\">XX^(xx1-1)</text><rect x=\"319.27304687500003\" y=\"5.0\" width=\"89.65179687500002\" height=\"40\" stroke=\"black\" fill=\"white\" stroke-width=\"1\" /><text x=\"364.09894531250006\" y=\"25.0\" dominant-baseline=\"middle\" text-anchor=\"middle\" font-size=\"14px\" font-family=\"Arial\">XX</text><rect x=\"428.92484375000004\" y=\"155.0\" width=\"89.65179687500002\" height=\"40\" stroke=\"black\" fill=\"white\" stroke-width=\"1\" /><text x=\"473.75074218750007\" y=\"175.0\" dominant-baseline=\"middle\" text-anchor=\"middle\" font-size=\"14px\" font-family=\"Arial\">XX^(xx1-2)</text><rect x=\"428.92484375000004\" y=\"5.0\" width=\"89.65179687500002\" height=\"40\" stroke=\"black\" fill=\"white\" stroke-width=\"1\" /><text x=\"473.75074218750007\" y=\"25.0\" dominant-baseline=\"middle\" text-anchor=\"middle\" font-size=\"14px\" font-family=\"Arial\">XX</text><rect x=\"538.5766406250001\" y=\"205.0\" width=\"89.65179687500002\" height=\"40\" stroke=\"black\" fill=\"white\" stroke-width=\"1\" /><text x=\"583.4025390625001\" y=\"225.0\" dominant-baseline=\"middle\" text-anchor=\"middle\" font-size=\"14px\" font-family=\"Arial\">XX^(xx1-3)</text><rect x=\"538.5766406250001\" y=\"5.0\" width=\"89.65179687500002\" height=\"40\" stroke=\"black\" fill=\"white\" stroke-width=\"1\" /><text x=\"583.4025390625001\" y=\"25.0\" dominant-baseline=\"middle\" text-anchor=\"middle\" font-size=\"14px\" font-family=\"Arial\">XX</text><rect x=\"648.2284375000002\" y=\"255.0\" width=\"89.65179687500002\" height=\"40\" stroke=\"black\" fill=\"white\" stroke-width=\"1\" /><text x=\"693.0543359375001\" y=\"275.0\" dominant-baseline=\"middle\" text-anchor=\"middle\" font-size=\"14px\" font-family=\"Arial\">XX^(xx1-4)</text><rect x=\"648.2284375000002\" y=\"5.0\" width=\"89.65179687500002\" height=\"40\" stroke=\"black\" fill=\"white\" stroke-width=\"1\" /><text x=\"693.0543359375001\" y=\"25.0\" dominant-baseline=\"middle\" text-anchor=\"middle\" font-size=\"14px\" font-family=\"Arial\">XX</text><rect x=\"757.8802343750002\" y=\"305.0\" width=\"89.65179687500002\" height=\"40\" stroke=\"black\" fill=\"white\" stroke-width=\"1\" /><text x=\"802.7061328125002\" y=\"325.0\" dominant-baseline=\"middle\" text-anchor=\"middle\" font-size=\"14px\" font-family=\"Arial\">XX^(xx1-5)</text><rect x=\"757.8802343750002\" y=\"5.0\" width=\"89.65179687500002\" height=\"40\" stroke=\"black\" fill=\"white\" stroke-width=\"1\" /><text x=\"802.7061328125002\" y=\"25.0\" dominant-baseline=\"middle\" text-anchor=\"middle\" font-size=\"14px\" font-family=\"Arial\">XX</text><rect x=\"867.5320312500003\" y=\"355.0\" width=\"89.65179687500002\" height=\"40\" stroke=\"black\" fill=\"white\" stroke-width=\"1\" /><text x=\"912.3579296875002\" y=\"375.0\" dominant-baseline=\"middle\" text-anchor=\"middle\" font-size=\"14px\" font-family=\"Arial\">XX^(xx1-6)</text><rect x=\"867.5320312500003\" y=\"5.0\" width=\"89.65179687500002\" height=\"40\" stroke=\"black\" fill=\"white\" stroke-width=\"1\" /><text x=\"912.3579296875002\" y=\"25.0\" dominant-baseline=\"middle\" text-anchor=\"middle\" font-size=\"14px\" font-family=\"Arial\">XX</text><rect x=\"977.1838281250003\" y=\"405.0\" width=\"89.65179687500002\" height=\"40\" stroke=\"black\" fill=\"white\" stroke-width=\"1\" /><text x=\"1022.0097265625003\" y=\"425.0\" dominant-baseline=\"middle\" text-anchor=\"middle\" font-size=\"14px\" font-family=\"Arial\">XX^(xx1-7)</text><rect x=\"977.1838281250003\" y=\"5.0\" width=\"89.65179687500002\" height=\"40\" stroke=\"black\" fill=\"white\" stroke-width=\"1\" /><text x=\"1022.0097265625003\" y=\"25.0\" dominant-baseline=\"middle\" text-anchor=\"middle\" font-size=\"14px\" font-family=\"Arial\">XX</text><rect x=\"1086.8356250000004\" y=\"455.0\" width=\"89.65179687500002\" height=\"40\" stroke=\"black\" fill=\"white\" stroke-width=\"1\" /><text x=\"1131.6615234375004\" y=\"475.0\" dominant-baseline=\"middle\" text-anchor=\"middle\" font-size=\"14px\" font-family=\"Arial\">XX^(xx1-8)</text><rect x=\"1086.8356250000004\" y=\"5.0\" width=\"89.65179687500002\" height=\"40\" stroke=\"black\" fill=\"white\" stroke-width=\"1\" /><text x=\"1131.6615234375004\" y=\"25.0\" dominant-baseline=\"middle\" text-anchor=\"middle\" font-size=\"14px\" font-family=\"Arial\">XX</text><rect x=\"1196.4874218750003\" y=\"505.0\" width=\"89.65179687500002\" height=\"40\" stroke=\"black\" fill=\"white\" stroke-width=\"1\" /><text x=\"1241.3133203125003\" y=\"525.0\" dominant-baseline=\"middle\" text-anchor=\"middle\" font-size=\"14px\" font-family=\"Arial\">XX^(xx1-9)</text><rect x=\"1196.4874218750003\" y=\"5.0\" width=\"89.65179687500002\" height=\"40\" stroke=\"black\" fill=\"white\" stroke-width=\"1\" /><text x=\"1241.3133203125003\" y=\"25.0\" dominant-baseline=\"middle\" text-anchor=\"middle\" font-size=\"14px\" font-family=\"Arial\">XX</text><rect x=\"1306.1392187500003\" y=\"555.0\" width=\"98.55902343750002\" height=\"40\" stroke=\"black\" fill=\"white\" stroke-width=\"1\" /><text x=\"1355.4187304687503\" y=\"575.0\" dominant-baseline=\"middle\" text-anchor=\"middle\" font-size=\"14px\" font-family=\"Arial\">XX^(xx1-10)</text><rect x=\"1306.1392187500003\" y=\"5.0\" width=\"98.55902343750002\" height=\"40\" stroke=\"black\" fill=\"white\" stroke-width=\"1\" /><text x=\"1355.4187304687503\" y=\"25.0\" dominant-baseline=\"middle\" text-anchor=\"middle\" font-size=\"14px\" font-family=\"Arial\">XX</text><rect x=\"1424.6982421875002\" y=\"605.0\" width=\"98.55902343750002\" height=\"40\" stroke=\"black\" fill=\"white\" stroke-width=\"1\" /><text x=\"1473.9777539062502\" y=\"625.0\" dominant-baseline=\"middle\" text-anchor=\"middle\" font-size=\"14px\" font-family=\"Arial\">XX^(xx1-11)</text><rect x=\"1424.6982421875002\" y=\"5.0\" width=\"98.55902343750002\" height=\"40\" stroke=\"black\" fill=\"white\" stroke-width=\"1\" /><text x=\"1473.9777539062502\" y=\"25.0\" dominant-baseline=\"middle\" text-anchor=\"middle\" font-size=\"14px\" font-family=\"Arial\">XX</text><rect x=\"1543.2572656250002\" y=\"655.0\" width=\"98.55902343750002\" height=\"40\" stroke=\"black\" fill=\"white\" stroke-width=\"1\" /><text x=\"1592.5367773437501\" y=\"675.0\" dominant-baseline=\"middle\" text-anchor=\"middle\" font-size=\"14px\" font-family=\"Arial\">XX^(xx1-12)</text><rect x=\"1543.2572656250002\" y=\"5.0\" width=\"98.55902343750002\" height=\"40\" stroke=\"black\" fill=\"white\" stroke-width=\"1\" /><text x=\"1592.5367773437501\" y=\"25.0\" dominant-baseline=\"middle\" text-anchor=\"middle\" font-size=\"14px\" font-family=\"Arial\">XX</text><rect x=\"1661.8162890625001\" y=\"705.0\" width=\"98.55902343750002\" height=\"40\" stroke=\"black\" fill=\"white\" stroke-width=\"1\" /><text x=\"1711.09580078125\" y=\"725.0\" dominant-baseline=\"middle\" text-anchor=\"middle\" font-size=\"14px\" font-family=\"Arial\">XX^(xx1-13)</text><rect x=\"1661.8162890625001\" y=\"5.0\" width=\"98.55902343750002\" height=\"40\" stroke=\"black\" fill=\"white\" stroke-width=\"1\" /><text x=\"1711.09580078125\" y=\"25.0\" dominant-baseline=\"middle\" text-anchor=\"middle\" font-size=\"14px\" font-family=\"Arial\">XX</text><rect x=\"1780.3753125\" y=\"755.0\" width=\"98.55902343750002\" height=\"40\" stroke=\"black\" fill=\"white\" stroke-width=\"1\" /><text x=\"1829.65482421875\" y=\"775.0\" dominant-baseline=\"middle\" text-anchor=\"middle\" font-size=\"14px\" font-family=\"Arial\">XX^(xx1-14)</text><rect x=\"1780.3753125\" y=\"5.0\" width=\"98.55902343750002\" height=\"40\" stroke=\"black\" fill=\"white\" stroke-width=\"1\" /><text x=\"1829.65482421875\" y=\"25.0\" dominant-baseline=\"middle\" text-anchor=\"middle\" font-size=\"14px\" font-family=\"Arial\">XX</text><rect x=\"1898.9343359375\" y=\"805.0\" width=\"98.55902343750002\" height=\"40\" stroke=\"black\" fill=\"white\" stroke-width=\"1\" /><text x=\"1948.21384765625\" y=\"825.0\" dominant-baseline=\"middle\" text-anchor=\"middle\" font-size=\"14px\" font-family=\"Arial\">XX^(xx1-15)</text><rect x=\"1898.9343359375\" y=\"5.0\" width=\"98.55902343750002\" height=\"40\" stroke=\"black\" fill=\"white\" stroke-width=\"1\" /><text x=\"1948.21384765625\" y=\"25.0\" dominant-baseline=\"middle\" text-anchor=\"middle\" font-size=\"14px\" font-family=\"Arial\">XX</text><rect x=\"2017.4933593749997\" y=\"55.0\" width=\"87.56656250000002\" height=\"40\" stroke=\"black\" fill=\"white\" stroke-width=\"1\" /><text x=\"2061.276640625\" y=\"75.0\" dominant-baseline=\"middle\" text-anchor=\"middle\" font-size=\"14px\" font-family=\"Arial\">ZZ^(zz1-0)</text><rect x=\"2017.4933593749997\" y=\"5.0\" width=\"87.56656250000002\" height=\"40\" stroke=\"black\" fill=\"white\" stroke-width=\"1\" /><text x=\"2061.276640625\" y=\"25.0\" dominant-baseline=\"middle\" text-anchor=\"middle\" font-size=\"14px\" font-family=\"Arial\">ZZ</text><rect x=\"2125.059921875\" y=\"105.0\" width=\"87.56656250000002\" height=\"40\" stroke=\"black\" fill=\"white\" stroke-width=\"1\" /><text x=\"2168.843203125\" y=\"125.0\" dominant-baseline=\"middle\" text-anchor=\"middle\" font-size=\"14px\" font-family=\"Arial\">ZZ^(zz1-1)</text><rect x=\"2125.059921875\" y=\"5.0\" width=\"87.56656250000002\" height=\"40\" stroke=\"black\" fill=\"white\" stroke-width=\"1\" /><text x=\"2168.843203125\" y=\"25.0\" dominant-baseline=\"middle\" text-anchor=\"middle\" font-size=\"14px\" font-family=\"Arial\">ZZ</text><rect x=\"2232.626484375\" y=\"155.0\" width=\"87.56656250000002\" height=\"40\" stroke=\"black\" fill=\"white\" stroke-width=\"1\" /><text x=\"2276.409765625\" y=\"175.0\" dominant-baseline=\"middle\" text-anchor=\"middle\" font-size=\"14px\" font-family=\"Arial\">ZZ^(zz1-2)</text><rect x=\"2232.626484375\" y=\"5.0\" width=\"87.56656250000002\" height=\"40\" stroke=\"black\" fill=\"white\" stroke-width=\"1\" /><text x=\"2276.409765625\" y=\"25.0\" dominant-baseline=\"middle\" text-anchor=\"middle\" font-size=\"14px\" font-family=\"Arial\">ZZ</text><rect x=\"2340.193046875\" y=\"205.0\" width=\"87.56656250000002\" height=\"40\" stroke=\"black\" fill=\"white\" stroke-width=\"1\" /><text x=\"2383.9763281250002\" y=\"225.0\" dominant-baseline=\"middle\" text-anchor=\"middle\" font-size=\"14px\" font-family=\"Arial\">ZZ^(zz1-3)</text><rect x=\"2340.193046875\" y=\"5.0\" width=\"87.56656250000002\" height=\"40\" stroke=\"black\" fill=\"white\" stroke-width=\"1\" /><text x=\"2383.9763281250002\" y=\"25.0\" dominant-baseline=\"middle\" text-anchor=\"middle\" font-size=\"14px\" font-family=\"Arial\">ZZ</text><rect x=\"2447.7596093750003\" y=\"255.0\" width=\"87.56656250000002\" height=\"40\" stroke=\"black\" fill=\"white\" stroke-width=\"1\" /><text x=\"2491.5428906250004\" y=\"275.0\" dominant-baseline=\"middle\" text-anchor=\"middle\" font-size=\"14px\" font-family=\"Arial\">ZZ^(zz1-4)</text><rect x=\"2447.7596093750003\" y=\"5.0\" width=\"87.56656250000002\" height=\"40\" stroke=\"black\" fill=\"white\" stroke-width=\"1\" /><text x=\"2491.5428906250004\" y=\"25.0\" dominant-baseline=\"middle\" text-anchor=\"middle\" font-size=\"14px\" font-family=\"Arial\">ZZ</text><rect x=\"2555.3261718750005\" y=\"305.0\" width=\"87.56656250000002\" height=\"40\" stroke=\"black\" fill=\"white\" stroke-width=\"1\" /><text x=\"2599.1094531250005\" y=\"325.0\" dominant-baseline=\"middle\" text-anchor=\"middle\" font-size=\"14px\" font-family=\"Arial\">ZZ^(zz1-5)</text><rect x=\"2555.3261718750005\" y=\"5.0\" width=\"87.56656250000002\" height=\"40\" stroke=\"black\" fill=\"white\" stroke-width=\"1\" /><text x=\"2599.1094531250005\" y=\"25.0\" dominant-baseline=\"middle\" text-anchor=\"middle\" font-size=\"14px\" font-family=\"Arial\">ZZ</text><rect x=\"2662.8927343750006\" y=\"355.0\" width=\"87.56656250000002\" height=\"40\" stroke=\"black\" fill=\"white\" stroke-width=\"1\" /><text x=\"2706.6760156250007\" y=\"375.0\" dominant-baseline=\"middle\" text-anchor=\"middle\" font-size=\"14px\" font-family=\"Arial\">ZZ^(zz1-6)</text><rect x=\"2662.8927343750006\" y=\"5.0\" width=\"87.56656250000002\" height=\"40\" stroke=\"black\" fill=\"white\" stroke-width=\"1\" /><text x=\"2706.6760156250007\" y=\"25.0\" dominant-baseline=\"middle\" text-anchor=\"middle\" font-size=\"14px\" font-family=\"Arial\">ZZ</text><rect x=\"2770.4592968750007\" y=\"405.0\" width=\"87.56656250000002\" height=\"40\" stroke=\"black\" fill=\"white\" stroke-width=\"1\" /><text x=\"2814.242578125001\" y=\"425.0\" dominant-baseline=\"middle\" text-anchor=\"middle\" font-size=\"14px\" font-family=\"Arial\">ZZ^(zz1-7)</text><rect x=\"2770.4592968750007\" y=\"5.0\" width=\"87.56656250000002\" height=\"40\" stroke=\"black\" fill=\"white\" stroke-width=\"1\" /><text x=\"2814.242578125001\" y=\"25.0\" dominant-baseline=\"middle\" text-anchor=\"middle\" font-size=\"14px\" font-family=\"Arial\">ZZ</text><rect x=\"2878.025859375001\" y=\"455.0\" width=\"87.56656250000002\" height=\"40\" stroke=\"black\" fill=\"white\" stroke-width=\"1\" /><text x=\"2921.809140625001\" y=\"475.0\" dominant-baseline=\"middle\" text-anchor=\"middle\" font-size=\"14px\" font-family=\"Arial\">ZZ^(zz1-8)</text><rect x=\"2878.025859375001\" y=\"5.0\" width=\"87.56656250000002\" height=\"40\" stroke=\"black\" fill=\"white\" stroke-width=\"1\" /><text x=\"2921.809140625001\" y=\"25.0\" dominant-baseline=\"middle\" text-anchor=\"middle\" font-size=\"14px\" font-family=\"Arial\">ZZ</text><rect x=\"2985.592421875001\" y=\"505.0\" width=\"87.56656250000002\" height=\"40\" stroke=\"black\" fill=\"white\" stroke-width=\"1\" /><text x=\"3029.375703125001\" y=\"525.0\" dominant-baseline=\"middle\" text-anchor=\"middle\" font-size=\"14px\" font-family=\"Arial\">ZZ^(zz1-9)</text><rect x=\"2985.592421875001\" y=\"5.0\" width=\"87.56656250000002\" height=\"40\" stroke=\"black\" fill=\"white\" stroke-width=\"1\" /><text x=\"3029.375703125001\" y=\"25.0\" dominant-baseline=\"middle\" text-anchor=\"middle\" font-size=\"14px\" font-family=\"Arial\">ZZ</text><rect x=\"3093.158984375001\" y=\"555.0\" width=\"96.47378906250002\" height=\"40\" stroke=\"black\" fill=\"white\" stroke-width=\"1\" /><text x=\"3141.3958789062513\" y=\"575.0\" dominant-baseline=\"middle\" text-anchor=\"middle\" font-size=\"14px\" font-family=\"Arial\">ZZ^(zz1-10)</text><rect x=\"3093.158984375001\" y=\"5.0\" width=\"96.47378906250002\" height=\"40\" stroke=\"black\" fill=\"white\" stroke-width=\"1\" /><text x=\"3141.3958789062513\" y=\"25.0\" dominant-baseline=\"middle\" text-anchor=\"middle\" font-size=\"14px\" font-family=\"Arial\">ZZ</text><rect x=\"3209.6327734375013\" y=\"605.0\" width=\"96.47378906250002\" height=\"40\" stroke=\"black\" fill=\"white\" stroke-width=\"1\" /><text x=\"3257.8696679687514\" y=\"625.0\" dominant-baseline=\"middle\" text-anchor=\"middle\" font-size=\"14px\" font-family=\"Arial\">ZZ^(zz1-11)</text><rect x=\"3209.6327734375013\" y=\"5.0\" width=\"96.47378906250002\" height=\"40\" stroke=\"black\" fill=\"white\" stroke-width=\"1\" /><text x=\"3257.8696679687514\" y=\"25.0\" dominant-baseline=\"middle\" text-anchor=\"middle\" font-size=\"14px\" font-family=\"Arial\">ZZ</text><rect x=\"3326.1065625000015\" y=\"655.0\" width=\"96.47378906250002\" height=\"40\" stroke=\"black\" fill=\"white\" stroke-width=\"1\" /><text x=\"3374.3434570312515\" y=\"675.0\" dominant-baseline=\"middle\" text-anchor=\"middle\" font-size=\"14px\" font-family=\"Arial\">ZZ^(zz1-12)</text><rect x=\"3326.1065625000015\" y=\"5.0\" width=\"96.47378906250002\" height=\"40\" stroke=\"black\" fill=\"white\" stroke-width=\"1\" /><text x=\"3374.3434570312515\" y=\"25.0\" dominant-baseline=\"middle\" text-anchor=\"middle\" font-size=\"14px\" font-family=\"Arial\">ZZ</text><rect x=\"3442.5803515625016\" y=\"705.0\" width=\"96.47378906250002\" height=\"40\" stroke=\"black\" fill=\"white\" stroke-width=\"1\" /><text x=\"3490.8172460937517\" y=\"725.0\" dominant-baseline=\"middle\" text-anchor=\"middle\" font-size=\"14px\" font-family=\"Arial\">ZZ^(zz1-13)</text><rect x=\"3442.5803515625016\" y=\"5.0\" width=\"96.47378906250002\" height=\"40\" stroke=\"black\" fill=\"white\" stroke-width=\"1\" /><text x=\"3490.8172460937517\" y=\"25.0\" dominant-baseline=\"middle\" text-anchor=\"middle\" font-size=\"14px\" font-family=\"Arial\">ZZ</text><rect x=\"3559.0541406250018\" y=\"755.0\" width=\"96.47378906250002\" height=\"40\" stroke=\"black\" fill=\"white\" stroke-width=\"1\" /><text x=\"3607.291035156252\" y=\"775.0\" dominant-baseline=\"middle\" text-anchor=\"middle\" font-size=\"14px\" font-family=\"Arial\">ZZ^(zz1-14)</text><rect x=\"3559.0541406250018\" y=\"5.0\" width=\"96.47378906250002\" height=\"40\" stroke=\"black\" fill=\"white\" stroke-width=\"1\" /><text x=\"3607.291035156252\" y=\"25.0\" dominant-baseline=\"middle\" text-anchor=\"middle\" font-size=\"14px\" font-family=\"Arial\">ZZ</text><rect x=\"3675.527929687502\" y=\"805.0\" width=\"96.47378906250002\" height=\"40\" stroke=\"black\" fill=\"white\" stroke-width=\"1\" /><text x=\"3723.764824218752\" y=\"825.0\" dominant-baseline=\"middle\" text-anchor=\"middle\" font-size=\"14px\" font-family=\"Arial\">ZZ^(zz1-15)</text><rect x=\"3675.527929687502\" y=\"5.0\" width=\"96.47378906250002\" height=\"40\" stroke=\"black\" fill=\"white\" stroke-width=\"1\" /><text x=\"3723.764824218752\" y=\"25.0\" dominant-baseline=\"middle\" text-anchor=\"middle\" font-size=\"14px\" font-family=\"Arial\">ZZ</text><rect x=\"3792.001718750002\" y=\"5.0\" width=\"40\" height=\"40\" stroke=\"black\" fill=\"white\" stroke-width=\"1\" /><text x=\"3812.001718750002\" y=\"25.0\" dominant-baseline=\"middle\" text-anchor=\"middle\" font-size=\"18px\" font-family=\"Arial\">H</text><rect x=\"3852.001718750002\" y=\"5.0\" width=\"40\" height=\"40\" stroke=\"black\" fill=\"white\" stroke-width=\"1\" /><text x=\"3872.001718750002\" y=\"25.0\" dominant-baseline=\"middle\" text-anchor=\"middle\" font-size=\"18px\" font-family=\"Arial\">M</text></svg>"
          },
          "metadata": {},
          "execution_count": 26
        }
      ],
      "source": [
        "SVGCircuit(model_circuit)"
      ]
    },
    {
      "cell_type": "code",
      "execution_count": null,
      "metadata": {
        "id": "KNuRsXbRi2vp"
      },
      "outputs": [],
      "source": [
        "model = tf.keras.Sequential([\n",
        "    tf.keras.layers.Input(shape=(), dtype=tf.string),\n",
        "    tfq.layers.PQC(model_circuit, model_readout),    \n",
        "])"
      ]
    },
    {
      "cell_type": "code",
      "execution_count": null,
      "metadata": {
        "id": "O-rWPLNSi2vp"
      },
      "outputs": [],
      "source": [
        "y_training_hinge = 2.0*y_training_nocont-1.0\n",
        "y_testing_hinge = 2.0*y_testing_07-1.0"
      ]
    },
    {
      "cell_type": "code",
      "execution_count": null,
      "metadata": {
        "id": "1DNwdy-ui2vp",
        "colab": {
          "base_uri": "https://localhost:8080/"
        },
        "outputId": "0cdd8389-1ec7-4ab5-c9dd-b21f7304b633"
      },
      "outputs": [
        {
          "output_type": "execute_result",
          "data": {
            "text/plain": [
              "array([False,  True,  True, ...,  True, False,  True])"
            ]
          },
          "metadata": {},
          "execution_count": 29
        }
      ],
      "source": [
        "y_testing_07"
      ]
    },
    {
      "cell_type": "code",
      "execution_count": null,
      "metadata": {
        "id": "FLOHQpTDi2vp"
      },
      "outputs": [],
      "source": [
        "def measure_hinge_accuracy(y_true, y_predicted):\n",
        "    y_true = tf.squeeze(y_true) > 0.0\n",
        "    y_predicted = tf.squeeze(y_predicted) > 0.0\n",
        "    result = tf.cast(y_true == y_predicted, tf.float32)\n",
        "\n",
        "    return tf.reduce_mean(result)"
      ]
    },
    {
      "cell_type": "code",
      "execution_count": null,
      "metadata": {
        "id": "SaD6qe6wi2vq",
        "colab": {
          "base_uri": "https://localhost:8080/"
        },
        "outputId": "20644a3b-5c83-49ad-d4f5-c3e55e90b388"
      },
      "outputs": [
        {
          "output_type": "stream",
          "name": "stderr",
          "text": [
            "/usr/local/lib/python3.9/dist-packages/keras/optimizer_v2/adam.py:105: UserWarning: The `lr` argument is deprecated, use `learning_rate` instead.\n",
            "  super(Adam, self).__init__(name, **kwargs)\n"
          ]
        }
      ],
      "source": [
        "model.compile(\n",
        "    loss=tf.keras.losses.mean_squared_error,\n",
        "    optimizer=tf.keras.optimizers.Adam(lr=0.01),\n",
        "    metrics=[measure_hinge_accuracy])"
      ]
    },
    {
      "cell_type": "code",
      "execution_count": null,
      "metadata": {
        "id": "lLVOBifUi2vq",
        "colab": {
          "base_uri": "https://localhost:8080/"
        },
        "outputId": "b27bb77b-fdc7-462f-c211-a667d36be15e"
      },
      "outputs": [
        {
          "output_type": "stream",
          "name": "stdout",
          "text": [
            "Model: \"sequential\"\n",
            "_________________________________________________________________\n",
            " Layer (type)                Output Shape              Param #   \n",
            "=================================================================\n",
            " pqc (PQC)                   (None, 1)                 32        \n",
            "                                                                 \n",
            "=================================================================\n",
            "Total params: 32\n",
            "Trainable params: 32\n",
            "Non-trainable params: 0\n",
            "_________________________________________________________________\n",
            "None\n"
          ]
        }
      ],
      "source": [
        "print(model.summary())"
      ]
    },
    {
      "cell_type": "code",
      "execution_count": null,
      "metadata": {
        "id": "2EQF5ObSi2vq"
      },
      "outputs": [],
      "source": [
        "EPOCHS = 10\n",
        "BATCH_SIZE = 32\n",
        "\n",
        "NUM_EXAMPLES = len(x_train_circuit_tensor)"
      ]
    },
    {
      "cell_type": "code",
      "execution_count": null,
      "metadata": {
        "id": "fawFVAbFi2vq",
        "colab": {
          "base_uri": "https://localhost:8080/"
        },
        "outputId": "8547be24-6638-4b81-848b-a4d2a3ece2cd"
      },
      "outputs": [
        {
          "output_type": "execute_result",
          "data": {
            "text/plain": [
              "2008"
            ]
          },
          "metadata": {},
          "execution_count": 34
        }
      ],
      "source": [
        "len(x_test_circuit_tensor)"
      ]
    },
    {
      "cell_type": "code",
      "execution_count": null,
      "metadata": {
        "id": "ZrIMVQTIi2vq"
      },
      "outputs": [],
      "source": [
        "x_train_circuit_tensor_subset = x_train_circuit_tensor[:NUM_EXAMPLES]\n",
        "y_train_hinge_subset = y_training_hinge[:NUM_EXAMPLES]"
      ]
    },
    {
      "cell_type": "code",
      "execution_count": null,
      "metadata": {
        "id": "J-9i7jiyi2vq",
        "colab": {
          "base_uri": "https://localhost:8080/"
        },
        "outputId": "c7030516-ed32-416b-d09f-b77887d3cdc1"
      },
      "outputs": [
        {
          "output_type": "execute_result",
          "data": {
            "text/plain": [
              "878"
            ]
          },
          "metadata": {},
          "execution_count": 36
        }
      ],
      "source": [
        "len(x_train_circuit_tensor_subset)"
      ]
    },
    {
      "cell_type": "code",
      "execution_count": null,
      "metadata": {
        "id": "aUieVY9Ei2vq"
      },
      "outputs": [],
      "source": [
        "class LossHistory(tf.keras.callbacks.Callback):\n",
        "    def on_train_begin(self, logs={}):\n",
        "        self.losses = []\n",
        " \n",
        "    def on_batch_end(self, batch, logs={}):\n",
        "        self.losses.append(logs.get('loss'))"
      ]
    },
    {
      "cell_type": "code",
      "execution_count": null,
      "metadata": {
        "colab": {
          "base_uri": "https://localhost:8080/"
        },
        "id": "O1EYKIc9i2vq",
        "outputId": "5beeb18c-7ef5-4ffb-9177-cf765508b350"
      },
      "outputs": [
        {
          "output_type": "stream",
          "name": "stdout",
          "text": [
            "Epoch 1/10\n",
            "28/28 [==============================] - 101s 4s/step - loss: 0.8583 - measure_hinge_accuracy: 0.6725 - val_loss: 0.8044 - val_measure_hinge_accuracy: 0.7145\n",
            "Epoch 2/10\n",
            "28/28 [==============================] - 86s 3s/step - loss: 0.4708 - measure_hinge_accuracy: 0.8717 - val_loss: 1.1470 - val_measure_hinge_accuracy: 0.5559\n",
            "Epoch 3/10\n",
            "28/28 [==============================] - 86s 3s/step - loss: 0.1968 - measure_hinge_accuracy: 0.9506 - val_loss: 1.3817 - val_measure_hinge_accuracy: 0.5432\n",
            "Epoch 4/10\n",
            "28/28 [==============================] - 82s 3s/step - loss: 0.1334 - measure_hinge_accuracy: 0.9777 - val_loss: 1.1521 - val_measure_hinge_accuracy: 0.5893\n",
            "Epoch 5/10\n",
            "28/28 [==============================] - 88s 3s/step - loss: 0.1173 - measure_hinge_accuracy: 0.9799 - val_loss: 1.0883 - val_measure_hinge_accuracy: 0.6518\n",
            "Epoch 6/10\n",
            "28/28 [==============================] - 86s 3s/step - loss: 0.1030 - measure_hinge_accuracy: 0.9833 - val_loss: 1.1171 - val_measure_hinge_accuracy: 0.6151\n",
            "Epoch 7/10\n",
            "28/28 [==============================] - 82s 3s/step - loss: 0.0981 - measure_hinge_accuracy: 0.9855 - val_loss: 1.0350 - val_measure_hinge_accuracy: 0.6553\n",
            "Epoch 8/10\n",
            "28/28 [==============================] - 86s 3s/step - loss: 0.0926 - measure_hinge_accuracy: 0.9844 - val_loss: 1.0482 - val_measure_hinge_accuracy: 0.6493\n",
            "Epoch 9/10\n",
            "28/28 [==============================] - 85s 3s/step - loss: 0.0948 - measure_hinge_accuracy: 0.9855 - val_loss: 1.0157 - val_measure_hinge_accuracy: 0.6493\n",
            "Epoch 10/10\n",
            "28/28 [==============================] - 85s 3s/step - loss: 0.0857 - measure_hinge_accuracy: 0.9844 - val_loss: 1.0464 - val_measure_hinge_accuracy: 0.6412\n",
            "the cost time is 922.5115783214569\n",
            "63/63 [==============================] - 24s 374ms/step - loss: 0.3528 - measure_hinge_accuracy: 0.6412\n"
          ]
        }
      ],
      "source": [
        "import time\n",
        "history = LossHistory()\n",
        "begin_time = time.time()\n",
        "qnn_history = model.fit(\n",
        "      x_train_circuit_tensor_subset, y_train_hinge_subset,\n",
        "      batch_size=32,\n",
        "      epochs=EPOCHS,\n",
        "      verbose=1,\n",
        "      validation_data=(x_test_circuit_tensor, y_testing_hinge),\n",
        "      callbacks=[history])\n",
        "end_time = time.time()\n",
        "print('the cost time is '+str(end_time-begin_time))\n",
        "QNN_results= model.evaluate(x_test_circuit_tensor, y_testing_07)"
      ]
    },
    {
      "cell_type": "code",
      "source": [
        "loss = qnn_history.history['loss']\n",
        "hinge_acc = qnn_history.history['measure_hinge_accuracy']\n",
        "\n",
        "val_hinge_acc = qnn_history.history['val_measure_hinge_accuracy']\n",
        "val_loss = qnn_history.history['val_loss']"
      ],
      "metadata": {
        "id": "ZoTUV_BVZ_lk"
      },
      "execution_count": null,
      "outputs": []
    },
    {
      "cell_type": "code",
      "source": [
        "epochs_arr = range(1, len(hinge_acc) + 1)\n",
        "plt.plot(epochs_arr, hinge_acc, 'r', label='Training acc')\n",
        "plt.plot(epochs_arr, val_hinge_acc, 'b', label='Validation acc')\n",
        "plt.title('Training and validation accuracy')\n",
        "plt.legend()\n",
        "plt.show()"
      ],
      "metadata": {
        "colab": {
          "base_uri": "https://localhost:8080/",
          "height": 452
        },
        "id": "rQhyebnZbKgb",
        "outputId": "5b47b486-491f-44e0-9eb7-a684f4091c64"
      },
      "execution_count": null,
      "outputs": [
        {
          "output_type": "display_data",
          "data": {
            "text/plain": [
              "<Figure size 640x480 with 1 Axes>"
            ],
            "image/png": "[encoded data removed]"
          },
          "metadata": {}
        }
      ]
    },
    {
      "cell_type": "code",
      "source": [
        "plt.plot(epochs_arr, loss, 'r', label='Training loss')\n",
        "plt.plot(epochs_arr, val_loss, 'b', label='Validation loss')\n",
        "plt.title('Training and validation loss')\n",
        "plt.legend()\n",
        "plt.show()"
      ],
      "metadata": {
        "colab": {
          "base_uri": "https://localhost:8080/",
          "height": 452
        },
        "id": "HfK7lcSbb4xl",
        "outputId": "8bf10b4d-f41a-45d4-d5e3-e1c350d7e970"
      },
      "execution_count": null,
      "outputs": [
        {
          "output_type": "display_data",
          "data": {
            "text/plain": [
              "<Figure size 640x480 with 1 Axes>"
            ],
            "image/png": "[encoded data removed]"
          },
          "metadata": {}
        }
      ]
    },
    {
      "cell_type": "code",
      "execution_count": null,
      "metadata": {
        "id": "bPLY45BXi2vr"
      },
      "outputs": [],
      "source": [
        "# import time\n",
        "# history = LossHistory()\n",
        "# begin_time = time.time()\n",
        "# qnn_history = model.fit(\n",
        "#       x_train_circuit_tensor_subset[:200], y_train_hinge_subset[:200],\n",
        "#       batch_size=20,\n",
        "#       epochs=EPOCHS,\n",
        "#       verbose=1,\n",
        "#       validation_data=(x_test_circuit_tensor[:100], y_testing_hinge[:100]),\n",
        "#       callbacks=[history])\n",
        "# end_time = time.time()\n",
        "# print('the cost time is '+str(end_time-begin_time))"
      ]
    },
    {
      "cell_type": "code",
      "execution_count": null,
      "metadata": {
        "colab": {
          "base_uri": "https://localhost:8080/"
        },
        "id": "UE0FlLpZi2vr",
        "outputId": "6692a0c0-512a-4fbd-8211-21556d0cfd2f"
      },
      "outputs": [
        {
          "output_type": "execute_result",
          "data": {
            "text/plain": [
              "[0.3527505695819855, 0.6412037014961243]"
            ]
          },
          "metadata": {},
          "execution_count": 43
        }
      ],
      "source": [
        "QNN_results"
      ]
    },
    {
      "cell_type": "code",
      "source": [
        "len(x_train_binary)"
      ],
      "metadata": {
        "colab": {
          "base_uri": "https://localhost:8080/"
        },
        "id": "vJ8241Stq4id",
        "outputId": "44c6e375-e18f-482c-a9d0-4101724317d1"
      },
      "execution_count": null,
      "outputs": [
        {
          "output_type": "execute_result",
          "data": {
            "text/plain": [
              "11051"
            ]
          },
          "metadata": {},
          "execution_count": 44
        }
      ]
    },
    {
      "cell_type": "code",
      "source": [
        "len(x_test_binary)"
      ],
      "metadata": {
        "colab": {
          "base_uri": "https://localhost:8080/"
        },
        "id": "9Il0kxL8rRCC",
        "outputId": "a5033d9b-d4e9-4274-a70f-8c063050b287"
      },
      "execution_count": null,
      "outputs": [
        {
          "output_type": "execute_result",
          "data": {
            "text/plain": [
              "2008"
            ]
          },
          "metadata": {},
          "execution_count": 45
        }
      ]
    },
    {
      "cell_type": "code",
      "source": [
        "len( y_training_07)"
      ],
      "metadata": {
        "colab": {
          "base_uri": "https://localhost:8080/"
        },
        "id": "Dte_s54yrQ1g",
        "outputId": "ae1592f1-2912-426a-8c3b-99a5466f2335"
      },
      "execution_count": null,
      "outputs": [
        {
          "output_type": "execute_result",
          "data": {
            "text/plain": [
              "12188"
            ]
          },
          "metadata": {},
          "execution_count": 46
        }
      ]
    },
    {
      "cell_type": "code",
      "source": [
        "len(y_training_nocont)"
      ],
      "metadata": {
        "colab": {
          "base_uri": "https://localhost:8080/"
        },
        "id": "4Cj5MLYAq4CY",
        "outputId": "2af19745-6d02-4574-dca5-29b78ba95cb0"
      },
      "execution_count": null,
      "outputs": [
        {
          "output_type": "execute_result",
          "data": {
            "text/plain": [
              "878"
            ]
          },
          "metadata": {},
          "execution_count": 47
        }
      ]
    },
    {
      "cell_type": "code",
      "execution_count": null,
      "metadata": {
        "colab": {
          "base_uri": "https://localhost:8080/"
        },
        "id": "lSeyKJEQi2vr",
        "outputId": "86cf98fa-babb-42fd-fc29-6f1f38542053"
      },
      "outputs": [
        {
          "output_type": "stream",
          "name": "stdout",
          "text": [
            "63/63 [==============================] - 28s 434ms/step - loss: 0.3528 - measure_hinge_accuracy: 0.6412\n"
          ]
        },
        {
          "output_type": "execute_result",
          "data": {
            "text/plain": [
              "[0.3527505695819855, 0.6412037014961243]"
            ]
          },
          "metadata": {},
          "execution_count": 48
        }
      ],
      "source": [
        "model.evaluate(x_test_circuit_tensor, y_testing_07)"
      ]
    },
    {
      "cell_type": "markdown",
      "source": [
        "# Classical CNN Model"
      ],
      "metadata": {
        "id": "g_WiVjFCJv_X"
      }
    },
    {
      "cell_type": "code",
      "execution_count": null,
      "metadata": {
        "id": "eBQrquv-i2vr"
      },
      "outputs": [],
      "source": [
        "# def CNN_model():\n",
        "#     model = tf.keras.Sequential()\n",
        "#     model.add(tf.keras.layers.Conv2D(32, [3, 3], activation='relu', input_shape=(28,28,1)))\n",
        "#     model.add(tf.keras.layers.Conv2D(64, [3, 3], activation='relu'))\n",
        "#     model.add(tf.keras.layers.MaxPooling2D(pool_size=(2, 2)))\n",
        "#     model.add(tf.keras.layers.Dropout(0.25))\n",
        "#     model.add(tf.keras.layers.Flatten())\n",
        "#     model.add(tf.keras.layers.Dense(128, activation='relu'))\n",
        "#     model.add(tf.keras.layers.Dropout(0.5))\n",
        "#     model.add(tf.keras.layers.Dense(1))\n",
        "#     return model\n",
        "\n",
        "\n",
        "# model = CNN_model()\n",
        "# model.compile(loss=tf.keras.losses.BinaryCrossentropy(from_logits=True),\n",
        "#               optimizer=tf.keras.optimizers.Adam(),\n",
        "#               metrics=['accuracy'])\n",
        "\n",
        "# model.summary()"
      ]
    },
    {
      "cell_type": "code",
      "execution_count": null,
      "metadata": {
        "colab": {
          "base_uri": "https://localhost:8080/"
        },
        "id": "cJ5mPTQMi2vr",
        "outputId": "9184d620-4061-47b1-e43d-7472db3a657d"
      },
      "outputs": [
        {
          "output_type": "stream",
          "name": "stdout",
          "text": [
            "Model: \"sequential_1\"\n",
            "_________________________________________________________________\n",
            " Layer (type)                Output Shape              Param #   \n",
            "=================================================================\n",
            " conv2d (Conv2D)             (None, 26, 26, 32)        320       \n",
            "                                                                 \n",
            " conv2d_1 (Conv2D)           (None, 24, 24, 64)        18496     \n",
            "                                                                 \n",
            " max_pooling2d (MaxPooling2D  (None, 12, 12, 64)       0         \n",
            " )                                                               \n",
            "                                                                 \n",
            " dropout (Dropout)           (None, 12, 12, 64)        0         \n",
            "                                                                 \n",
            " flatten (Flatten)           (None, 9216)              0         \n",
            "                                                                 \n",
            " dense (Dense)               (None, 128)               1179776   \n",
            "                                                                 \n",
            " dropout_1 (Dropout)         (None, 128)               0         \n",
            "                                                                 \n",
            " dense_1 (Dense)             (None, 1)                 129       \n",
            "                                                                 \n",
            "=================================================================\n",
            "Total params: 1,198,721\n",
            "Trainable params: 1,198,721\n",
            "Non-trainable params: 0\n",
            "_________________________________________________________________\n"
          ]
        }
      ],
      "source": [
        "def CNN_model():\n",
        "    model = tf.keras.Sequential()\n",
        "    model.add(tf.keras.layers.Conv2D(32, [3, 3], activation='relu', input_shape=(28,28,1)))\n",
        "    model.add(tf.keras.layers.Conv2D(64, [3, 3], activation='relu'))\n",
        "    model.add(tf.keras.layers.MaxPooling2D(pool_size=(2, 2)))\n",
        "    model.add(tf.keras.layers.Dropout(0.25))\n",
        "    model.add(tf.keras.layers.Flatten())\n",
        "    model.add(tf.keras.layers.Dense(128, activation='relu'))\n",
        "    model.add(tf.keras.layers.Dropout(0.5))\n",
        "    model.add(tf.keras.layers.Dense(1))\n",
        "    return model\n",
        "\n",
        "\n",
        "model = CNN_model()\n",
        "model.compile(loss=tf.keras.losses.BinaryCrossentropy(from_logits=True),\n",
        "              optimizer=tf.keras.optimizers.Adam(),\n",
        "              metrics=['accuracy'])\n",
        "\n",
        "model.summary()"
      ]
    },
    {
      "cell_type": "code",
      "execution_count": null,
      "metadata": {
        "colab": {
          "base_uri": "https://localhost:8080/"
        },
        "id": "_AuDeBfFi2vr",
        "outputId": "a42a2f8e-ca79-40a4-cf6c-6a1f2a82fad1"
      },
      "outputs": [
        {
          "output_type": "stream",
          "name": "stdout",
          "text": [
            "Epoch 1/5\n",
            "96/96 [==============================] - 10s 14ms/step - loss: 0.0345 - accuracy: 0.9879 - val_loss: 0.0132 - val_accuracy: 0.9955\n",
            "Epoch 2/5\n",
            "96/96 [==============================] - 1s 11ms/step - loss: 0.0047 - accuracy: 0.9981 - val_loss: 0.0092 - val_accuracy: 0.9970\n",
            "Epoch 3/5\n",
            "96/96 [==============================] - 1s 11ms/step - loss: 0.0020 - accuracy: 0.9995 - val_loss: 0.0144 - val_accuracy: 0.9970\n",
            "Epoch 4/5\n",
            "96/96 [==============================] - 1s 11ms/step - loss: 0.0019 - accuracy: 0.9993 - val_loss: 0.0057 - val_accuracy: 0.9990\n",
            "Epoch 5/5\n",
            "96/96 [==============================] - 1s 11ms/step - loss: 0.0013 - accuracy: 0.9997 - val_loss: 0.0072 - val_accuracy: 0.9985\n",
            "the cost time is 14.7696213722229\n",
            "63/63 [==============================] - 0s 5ms/step - loss: 0.0072 - accuracy: 0.9985\n"
          ]
        }
      ],
      "source": [
        "history = LossHistory()\n",
        "begin_time = time.time()\n",
        "model.fit(x_training_07,\n",
        "          y_training_07,\n",
        "          batch_size=128,\n",
        "          epochs=5,\n",
        "          verbose=1,\n",
        "          validation_data=(x_testing_07, y_testing_07),\n",
        "          callbacks=[history])\n",
        "end_time = time.time()\n",
        "print('the cost time is '+str(end_time-begin_time))\n",
        "CNN_results = model.evaluate(x_testing_07, y_testing_07)"
      ]
    },
    {
      "cell_type": "code",
      "execution_count": null,
      "metadata": {
        "colab": {
          "base_uri": "https://localhost:8080/"
        },
        "id": "XYU6IZsIi2vr",
        "outputId": "c87eb48b-d3a4-4b0b-d1a5-b0febc4d5a7a"
      },
      "outputs": [
        {
          "output_type": "execute_result",
          "data": {
            "text/plain": [
              "480"
            ]
          },
          "metadata": {},
          "execution_count": 52
        }
      ],
      "source": [
        "len(history.losses)"
      ]
    },
    {
      "cell_type": "markdown",
      "source": [
        "# Classical ANN Model"
      ],
      "metadata": {
        "id": "A4bUZsyPKi6J"
      }
    },
    {
      "cell_type": "code",
      "execution_count": null,
      "metadata": {
        "colab": {
          "base_uri": "https://localhost:8080/"
        },
        "id": "7cXW2tZCi2vs",
        "outputId": "1a782de4-2380-4235-f3c0-f07ce3b54a91"
      },
      "outputs": [
        {
          "output_type": "stream",
          "name": "stdout",
          "text": [
            "Model: \"sequential_2\"\n",
            "_________________________________________________________________\n",
            " Layer (type)                Output Shape              Param #   \n",
            "=================================================================\n",
            " flatten_1 (Flatten)         (None, 16)                0         \n",
            "                                                                 \n",
            " dense_2 (Dense)             (None, 2)                 34        \n",
            "                                                                 \n",
            " dense_3 (Dense)             (None, 1)                 3         \n",
            "                                                                 \n",
            "=================================================================\n",
            "Total params: 37\n",
            "Trainable params: 37\n",
            "Non-trainable params: 0\n",
            "_________________________________________________________________\n"
          ]
        }
      ],
      "source": [
        "def ANN_model():\n",
        "    model = tf.keras.Sequential()\n",
        "    model.add(tf.keras.layers.Flatten(input_shape=(4,4,1)))\n",
        "    model.add(tf.keras.layers.Dense(2, activation='relu'))\n",
        "    model.add(tf.keras.layers.Dense(1))\n",
        "    return model\n",
        "\n",
        "\n",
        "model = ANN_model()\n",
        "model.compile(loss=tf.keras.losses.BinaryCrossentropy(from_logits=True),\n",
        "              optimizer=tf.keras.optimizers.Adam(),\n",
        "              metrics=['accuracy'])\n",
        "\n",
        "model.summary()"
      ]
    },
    {
      "cell_type": "code",
      "execution_count": null,
      "metadata": {
        "colab": {
          "base_uri": "https://localhost:8080/"
        },
        "id": "zSqf8EWhi2vs",
        "outputId": "075dc7fc-43e9-490d-d281-27b2b3134ad7"
      },
      "outputs": [
        {
          "output_type": "stream",
          "name": "stdout",
          "text": [
            "Epoch 1/20\n",
            "87/87 - 1s - loss: 0.7105 - accuracy: 0.5205 - val_loss: 0.6957 - val_accuracy: 0.5120 - 1s/epoch - 13ms/step\n",
            "Epoch 2/20\n",
            "87/87 - 0s - loss: 0.6831 - accuracy: 0.5247 - val_loss: 0.6716 - val_accuracy: 0.5120 - 353ms/epoch - 4ms/step\n",
            "Epoch 3/20\n",
            "87/87 - 0s - loss: 0.6586 - accuracy: 0.5247 - val_loss: 0.6465 - val_accuracy: 0.5120 - 407ms/epoch - 5ms/step\n",
            "Epoch 4/20\n",
            "87/87 - 0s - loss: 0.6326 - accuracy: 0.5247 - val_loss: 0.6185 - val_accuracy: 0.5120 - 301ms/epoch - 3ms/step\n",
            "Epoch 5/20\n",
            "87/87 - 0s - loss: 0.6048 - accuracy: 0.5361 - val_loss: 0.5895 - val_accuracy: 0.5528 - 233ms/epoch - 3ms/step\n",
            "Epoch 6/20\n",
            "87/87 - 0s - loss: 0.5764 - accuracy: 0.5718 - val_loss: 0.5592 - val_accuracy: 0.5772 - 257ms/epoch - 3ms/step\n",
            "Epoch 7/20\n",
            "87/87 - 0s - loss: 0.5484 - accuracy: 0.6481 - val_loss: 0.5316 - val_accuracy: 0.7032 - 290ms/epoch - 3ms/step\n",
            "Epoch 8/20\n",
            "87/87 - 0s - loss: 0.5241 - accuracy: 0.7084 - val_loss: 0.5080 - val_accuracy: 0.7112 - 249ms/epoch - 3ms/step\n",
            "Epoch 9/20\n",
            "87/87 - 0s - loss: 0.5046 - accuracy: 0.7178 - val_loss: 0.4900 - val_accuracy: 0.7271 - 241ms/epoch - 3ms/step\n",
            "Epoch 10/20\n",
            "87/87 - 0s - loss: 0.4899 - accuracy: 0.7439 - val_loss: 0.4768 - val_accuracy: 0.7565 - 286ms/epoch - 3ms/step\n",
            "Epoch 11/20\n",
            "87/87 - 0s - loss: 0.4791 - accuracy: 0.7615 - val_loss: 0.4673 - val_accuracy: 0.7883 - 238ms/epoch - 3ms/step\n",
            "Epoch 12/20\n",
            "87/87 - 0s - loss: 0.4718 - accuracy: 0.7771 - val_loss: 0.4611 - val_accuracy: 0.7893 - 255ms/epoch - 3ms/step\n",
            "Epoch 13/20\n",
            "87/87 - 0s - loss: 0.4667 - accuracy: 0.7772 - val_loss: 0.4566 - val_accuracy: 0.7893 - 287ms/epoch - 3ms/step\n",
            "Epoch 14/20\n",
            "87/87 - 0s - loss: 0.4634 - accuracy: 0.7770 - val_loss: 0.4539 - val_accuracy: 0.7908 - 302ms/epoch - 3ms/step\n",
            "Epoch 15/20\n",
            "87/87 - 0s - loss: 0.4612 - accuracy: 0.7795 - val_loss: 0.4522 - val_accuracy: 0.7908 - 293ms/epoch - 3ms/step\n",
            "Epoch 16/20\n",
            "87/87 - 0s - loss: 0.4596 - accuracy: 0.7793 - val_loss: 0.4510 - val_accuracy: 0.7908 - 277ms/epoch - 3ms/step\n",
            "Epoch 17/20\n",
            "87/87 - 0s - loss: 0.4586 - accuracy: 0.7795 - val_loss: 0.4501 - val_accuracy: 0.7908 - 268ms/epoch - 3ms/step\n",
            "Epoch 18/20\n",
            "87/87 - 0s - loss: 0.4577 - accuracy: 0.7795 - val_loss: 0.4495 - val_accuracy: 0.7908 - 269ms/epoch - 3ms/step\n",
            "Epoch 19/20\n",
            "87/87 - 0s - loss: 0.4571 - accuracy: 0.7798 - val_loss: 0.4491 - val_accuracy: 0.7923 - 249ms/epoch - 3ms/step\n",
            "Epoch 20/20\n",
            "87/87 - 0s - loss: 0.4567 - accuracy: 0.7801 - val_loss: 0.4489 - val_accuracy: 0.7918 - 286ms/epoch - 3ms/step\n",
            "63/63 [==============================] - 0s 2ms/step - loss: 0.4489 - accuracy: 0.7918\n"
          ]
        }
      ],
      "source": [
        "model.fit(x_train_binary,\n",
        "          y_training_nocontt,\n",
        "          batch_size=128,\n",
        "          epochs=20,\n",
        "          verbose=2,\n",
        "          validation_data=(x_test_binary, y_testing_07))\n",
        "\n",
        "ANN_results = model.evaluate(x_test_binary, y_testing_07)"
      ]
    },
    {
      "cell_type": "code",
      "execution_count": null,
      "metadata": {
        "colab": {
          "base_uri": "https://localhost:8080/"
        },
        "id": "fJKH78n4i2vs",
        "outputId": "eec4ed77-5eb4-48e0-82b2-6e110c5255e3"
      },
      "outputs": [
        {
          "output_type": "execute_result",
          "data": {
            "text/plain": [
              "0.791832685470581"
            ]
          },
          "metadata": {},
          "execution_count": 55
        }
      ],
      "source": [
        "ANN_results[1]"
      ]
    },
    {
      "cell_type": "code",
      "execution_count": null,
      "metadata": {
        "colab": {
          "base_uri": "https://localhost:8080/",
          "height": 447
        },
        "id": "sf1ghHGFi2vs",
        "outputId": "ac129bba-e142-44b2-e03c-23dfda8db1c6"
      },
      "outputs": [
        {
          "output_type": "execute_result",
          "data": {
            "text/plain": [
              "<BarContainer object of 3 artists>"
            ]
          },
          "metadata": {},
          "execution_count": 56
        },
        {
          "output_type": "display_data",
          "data": {
            "text/plain": [
              "<Figure size 640x480 with 1 Axes>"
            ],
            "image/png": "[encoded data removed]"
          },
          "metadata": {}
        }
      ],
      "source": [
        "QNN_accuracy = QNN_results[1]\n",
        "CNN_accuracy = CNN_results[1]\n",
        "ANN_accuracy = ANN_results[1]\n",
        "\n",
        "plt.bar([\"QNN\", \"CNN\", \"ANN\"],[QNN_accuracy, CNN_accuracy, ANN_accuracy])"
      ]
    },
    {
      "cell_type": "markdown",
      "metadata": {
        "id": "BvezlfHGi2vs"
      },
      "source": [
        "# QCNN"
      ]
    },
    {
      "cell_type": "code",
      "execution_count": null,
      "metadata": {
        "id": "BXDs78oqi2vt"
      },
      "outputs": [],
      "source": [
        "def cluster_state_circuit(bits):\n",
        "    circuit = cirq.Circuit()\n",
        "    circuit.append(cirq.H.on_each(bits))\n",
        "    for this_bit, next_bit in zip(bits, bits[1:] + [bits[0]]):\n",
        "        circuit.append(cirq.CZ(this_bit, next_bit))\n",
        "    return circuit"
      ]
    },
    {
      "cell_type": "code",
      "execution_count": null,
      "metadata": {
        "colab": {
          "base_uri": "https://localhost:8080/",
          "height": 493
        },
        "id": "AUJ6XBc3i2vt",
        "outputId": "45ac080e-8f9f-4826-ecd1-05df59a9ebfc"
      },
      "outputs": [
        {
          "output_type": "stream",
          "name": "stderr",
          "text": [
            "WARNING:matplotlib.font_manager:findfont: Font family 'Arial' not found.\n",
            "WARNING:matplotlib.font_manager:findfont: Font family 'Arial' not found.\n",
            "WARNING:matplotlib.font_manager:findfont: Font family 'Arial' not found.\n",
            "WARNING:matplotlib.font_manager:findfont: Font family 'Arial' not found.\n",
            "WARNING:matplotlib.font_manager:findfont: Font family 'Arial' not found.\n",
            "WARNING:matplotlib.font_manager:findfont: Font family 'Arial' not found.\n",
            "WARNING:matplotlib.font_manager:findfont: Font family 'Arial' not found.\n",
            "WARNING:matplotlib.font_manager:findfont: Font family 'Arial' not found.\n",
            "WARNING:matplotlib.font_manager:findfont: Font family 'Arial' not found.\n",
            "WARNING:matplotlib.font_manager:findfont: Font family 'Arial' not found.\n",
            "WARNING:matplotlib.font_manager:findfont: Font family 'Arial' not found.\n",
            "WARNING:matplotlib.font_manager:findfont: Font family 'Arial' not found.\n",
            "WARNING:matplotlib.font_manager:findfont: Font family 'Arial' not found.\n",
            "WARNING:matplotlib.font_manager:findfont: Font family 'Arial' not found.\n",
            "WARNING:matplotlib.font_manager:findfont: Font family 'Arial' not found.\n",
            "WARNING:matplotlib.font_manager:findfont: Font family 'Arial' not found.\n"
          ]
        },
        {
          "output_type": "execute_result",
          "data": {
            "text/plain": [
              "<cirq.contrib.svg.svg.SVGCircuit at 0x7f4c2c310af0>"
            ],
            "image/svg+xml": "<svg xmlns=\"http://www.w3.org/2000/svg\" width=\"409.51773437500003\" height=\"200.0\"><line x1=\"34.7588671875\" x2=\"379.51773437500003\" y1=\"25.0\" y2=\"25.0\" stroke=\"#1967d2\" stroke-width=\"1\" /><line x1=\"34.7588671875\" x2=\"379.51773437500003\" y1=\"75.0\" y2=\"75.0\" stroke=\"#1967d2\" stroke-width=\"1\" /><line x1=\"34.7588671875\" x2=\"379.51773437500003\" y1=\"125.0\" y2=\"125.0\" stroke=\"#1967d2\" stroke-width=\"1\" /><line x1=\"34.7588671875\" x2=\"379.51773437500003\" y1=\"175.0\" y2=\"175.0\" stroke=\"#1967d2\" stroke-width=\"1\" /><line x1=\"159.517734375\" x2=\"159.517734375\" y1=\"25.0\" y2=\"75.0\" stroke=\"black\" stroke-width=\"3\" /><line x1=\"219.517734375\" x2=\"219.517734375\" y1=\"75.0\" y2=\"125.0\" stroke=\"black\" stroke-width=\"3\" /><line x1=\"279.51773437500003\" x2=\"279.51773437500003\" y1=\"125.0\" y2=\"175.0\" stroke=\"black\" stroke-width=\"3\" /><line x1=\"339.51773437500003\" x2=\"339.51773437500003\" y1=\"25.0\" y2=\"175.0\" stroke=\"black\" stroke-width=\"3\" /><rect x=\"10.0\" y=\"5.0\" width=\"49.517734375\" height=\"40\" stroke=\"black\" fill=\"white\" stroke-width=\"0\" /><text x=\"34.7588671875\" y=\"25.0\" dominant-baseline=\"middle\" text-anchor=\"middle\" font-size=\"14px\" font-family=\"Arial\">(0, 0): </text><rect x=\"10.0\" y=\"55.0\" width=\"49.517734375\" height=\"40\" stroke=\"black\" fill=\"white\" stroke-width=\"0\" /><text x=\"34.7588671875\" y=\"75.0\" dominant-baseline=\"middle\" text-anchor=\"middle\" font-size=\"14px\" font-family=\"Arial\">(0, 2): </text><rect x=\"10.0\" y=\"105.0\" width=\"49.517734375\" height=\"40\" stroke=\"black\" fill=\"white\" stroke-width=\"0\" /><text x=\"34.7588671875\" y=\"125.0\" dominant-baseline=\"middle\" text-anchor=\"middle\" font-size=\"14px\" font-family=\"Arial\">(0, 4): </text><rect x=\"10.0\" y=\"155.0\" width=\"49.517734375\" height=\"40\" stroke=\"black\" fill=\"white\" stroke-width=\"0\" /><text x=\"34.7588671875\" y=\"175.0\" dominant-baseline=\"middle\" text-anchor=\"middle\" font-size=\"14px\" font-family=\"Arial\">(0, 6): </text><rect x=\"79.517734375\" y=\"5.0\" width=\"40\" height=\"40\" stroke=\"black\" fill=\"white\" stroke-width=\"1\" /><text x=\"99.517734375\" y=\"25.0\" dominant-baseline=\"middle\" text-anchor=\"middle\" font-size=\"18px\" font-family=\"Arial\">H</text><rect x=\"79.517734375\" y=\"55.0\" width=\"40\" height=\"40\" stroke=\"black\" fill=\"white\" stroke-width=\"1\" /><text x=\"99.517734375\" y=\"75.0\" dominant-baseline=\"middle\" text-anchor=\"middle\" font-size=\"18px\" font-family=\"Arial\">H</text><rect x=\"79.517734375\" y=\"105.0\" width=\"40\" height=\"40\" stroke=\"black\" fill=\"white\" stroke-width=\"1\" /><text x=\"99.517734375\" y=\"125.0\" dominant-baseline=\"middle\" text-anchor=\"middle\" font-size=\"18px\" font-family=\"Arial\">H</text><rect x=\"79.517734375\" y=\"155.0\" width=\"40\" height=\"40\" stroke=\"black\" fill=\"white\" stroke-width=\"1\" /><text x=\"99.517734375\" y=\"175.0\" dominant-baseline=\"middle\" text-anchor=\"middle\" font-size=\"18px\" font-family=\"Arial\">H</text><circle cx=\"159.517734375\" cy=\"25.0\" r=\"10.0\" /><circle cx=\"159.517734375\" cy=\"75.0\" r=\"10.0\" /><circle cx=\"219.517734375\" cy=\"75.0\" r=\"10.0\" /><circle cx=\"219.517734375\" cy=\"125.0\" r=\"10.0\" /><circle cx=\"279.51773437500003\" cy=\"125.0\" r=\"10.0\" /><circle cx=\"279.51773437500003\" cy=\"175.0\" r=\"10.0\" /><circle cx=\"339.51773437500003\" cy=\"175.0\" r=\"10.0\" /><circle cx=\"339.51773437500003\" cy=\"25.0\" r=\"10.0\" /></svg>"
          },
          "metadata": {},
          "execution_count": 58
        }
      ],
      "source": [
        "SVGCircuit(cluster_state_circuit(cirq.GridQubit.rect(1, 8)[0::2]))"
      ]
    },
    {
      "cell_type": "code",
      "execution_count": null,
      "metadata": {
        "id": "1LJ7QJEqi2vt"
      },
      "outputs": [],
      "source": [
        "def one_qubit_unitary(bit, symbols):\n",
        "    return cirq.Circuit(\n",
        "        cirq.X(bit)**symbols[0],\n",
        "        cirq.Y(bit)**symbols[1],\n",
        "        cirq.Z(bit)**symbols[2])\n",
        "\n",
        "\n",
        "def two_qubit_unitary(bits, symbols):\n",
        "    circuit = cirq.Circuit()\n",
        "    circuit += one_qubit_unitary(bits[0], symbols[0:3])\n",
        "    circuit += one_qubit_unitary(bits[1], symbols[3:6])\n",
        "    circuit += [cirq.ZZ(*bits)**symbols[7]]\n",
        "    circuit += [cirq.YY(*bits)**symbols[8]]\n",
        "    circuit += [cirq.XX(*bits)**symbols[9]]\n",
        "    circuit += one_qubit_unitary(bits[0], symbols[9:12])\n",
        "    circuit += one_qubit_unitary(bits[1], symbols[12:])\n",
        "    return circuit\n",
        "\n",
        "\n",
        "def two_qubit_pool(source_qubit, sink_qubit, symbols):\n",
        "    pool_circuit = cirq.Circuit()\n",
        "    sink_basis_selector = one_qubit_unitary(sink_qubit, symbols[0:3])\n",
        "    source_basis_selector = one_qubit_unitary(source_qubit, symbols[3:6])\n",
        "    pool_circuit.append(sink_basis_selector)\n",
        "    pool_circuit.append(source_basis_selector)\n",
        "    pool_circuit.append(cirq.CNOT(control=source_qubit, target=sink_qubit))\n",
        "    pool_circuit.append(sink_basis_selector**-1)\n",
        "    return pool_circuit"
      ]
    },
    {
      "cell_type": "code",
      "execution_count": null,
      "metadata": {
        "id": "uSA5VF5Ci2vt"
      },
      "outputs": [],
      "source": [
        "def quantum_conv_circuit(bits, symbols):\n",
        "    circuit = cirq.Circuit()\n",
        "    for first, second in zip(bits[0::2], bits[1::2]):\n",
        "        circuit += two_qubit_unitary([first, second], symbols)\n",
        "    for first, second in zip(bits[1::2], bits[2::2] + [bits[0]]):\n",
        "        circuit += two_qubit_unitary([first, second], symbols)\n",
        "    return circuit"
      ]
    },
    {
      "cell_type": "code",
      "execution_count": null,
      "metadata": {
        "colab": {
          "base_uri": "https://localhost:8080/",
          "height": 342
        },
        "id": "ASZjAb1Si2vt",
        "outputId": "b031927b-1729-4222-ec65-7f03bed61bd4"
      },
      "outputs": [
        {
          "output_type": "stream",
          "name": "stderr",
          "text": [
            "WARNING:matplotlib.font_manager:findfont: Font family 'Arial' not found.\n",
            "WARNING:matplotlib.font_manager:findfont: Font family 'Arial' not found.\n",
            "WARNING:matplotlib.font_manager:findfont: Font family 'Arial' not found.\n",
            "WARNING:matplotlib.font_manager:findfont: Font family 'Arial' not found.\n",
            "WARNING:matplotlib.font_manager:findfont: Font family 'Arial' not found.\n",
            "WARNING:matplotlib.font_manager:findfont: Font family 'Arial' not found.\n",
            "WARNING:matplotlib.font_manager:findfont: Font family 'Arial' not found.\n",
            "WARNING:matplotlib.font_manager:findfont: Font family 'Arial' not found.\n",
            "WARNING:matplotlib.font_manager:findfont: Font family 'Arial' not found.\n",
            "WARNING:matplotlib.font_manager:findfont: Font family 'Arial' not found.\n",
            "WARNING:matplotlib.font_manager:findfont: Font family 'Arial' not found.\n",
            "WARNING:matplotlib.font_manager:findfont: Font family 'Arial' not found.\n",
            "WARNING:matplotlib.font_manager:findfont: Font family 'Arial' not found.\n"
          ]
        },
        {
          "output_type": "execute_result",
          "data": {
            "text/plain": [
              "<cirq.contrib.svg.svg.SVGCircuit at 0x7f4c2c324400>"
            ],
            "image/svg+xml": "<svg xmlns=\"http://www.w3.org/2000/svg\" width=\"1123.7324609375\" height=\"100.0\"><line x1=\"34.7588671875\" x2=\"1093.7324609375\" y1=\"25.0\" y2=\"25.0\" stroke=\"#1967d2\" stroke-width=\"1\" /><line x1=\"34.7588671875\" x2=\"1093.7324609375\" y1=\"75.0\" y2=\"75.0\" stroke=\"#1967d2\" stroke-width=\"1\" /><line x1=\"703.864296875\" x2=\"703.864296875\" y1=\"25.0\" y2=\"75.0\" stroke=\"black\" stroke-width=\"3\" /><rect x=\"10.0\" y=\"5.0\" width=\"49.517734375\" height=\"40\" stroke=\"black\" fill=\"white\" stroke-width=\"0\" /><text x=\"34.7588671875\" y=\"25.0\" dominant-baseline=\"middle\" text-anchor=\"middle\" font-size=\"14px\" font-family=\"Arial\">(0, 0): </text><rect x=\"10.0\" y=\"55.0\" width=\"49.517734375\" height=\"40\" stroke=\"black\" fill=\"white\" stroke-width=\"0\" /><text x=\"34.7588671875\" y=\"75.0\" dominant-baseline=\"middle\" text-anchor=\"middle\" font-size=\"14px\" font-family=\"Arial\">(0, 2): </text><rect x=\"79.517734375\" y=\"55.0\" width=\"81.18890625000002\" height=\"40\" stroke=\"black\" fill=\"white\" stroke-width=\"1\" /><text x=\"120.1121875\" y=\"75.0\" dominant-baseline=\"middle\" text-anchor=\"middle\" font-size=\"14px\" font-family=\"Arial\">X^qconv0</text><rect x=\"180.70664062500003\" y=\"55.0\" width=\"80.23296875\" height=\"40\" stroke=\"black\" fill=\"white\" stroke-width=\"1\" /><text x=\"220.82312500000003\" y=\"75.0\" dominant-baseline=\"middle\" text-anchor=\"middle\" font-size=\"14px\" font-family=\"Arial\">Y^qconv1</text><rect x=\"280.93960937500003\" y=\"55.0\" width=\"80.50421875\" height=\"40\" stroke=\"black\" fill=\"white\" stroke-width=\"1\" /><text x=\"321.19171875000006\" y=\"75.0\" dominant-baseline=\"middle\" text-anchor=\"middle\" font-size=\"14px\" font-family=\"Arial\">Z^qconv2</text><rect x=\"381.443828125\" y=\"5.0\" width=\"80.99640625\" height=\"40\" stroke=\"black\" fill=\"white\" stroke-width=\"1\" /><text x=\"421.94203125\" y=\"25.0\" dominant-baseline=\"middle\" text-anchor=\"middle\" font-size=\"14px\" font-family=\"Arial\">X^qconv3</text><rect x=\"482.44023437500005\" y=\"5.0\" width=\"80.74046875\" height=\"40\" stroke=\"black\" fill=\"white\" stroke-width=\"1\" /><text x=\"522.81046875\" y=\"25.0\" dominant-baseline=\"middle\" text-anchor=\"middle\" font-size=\"14px\" font-family=\"Arial\">Y^qconv4</text><rect x=\"583.180703125\" y=\"5.0\" width=\"80.68359375000001\" height=\"40\" stroke=\"black\" fill=\"white\" stroke-width=\"1\" /><text x=\"623.5225\" y=\"25.0\" dominant-baseline=\"middle\" text-anchor=\"middle\" font-size=\"14px\" font-family=\"Arial\">Z^qconv5</text><circle cx=\"703.864296875\" cy=\"25.0\" r=\"10.0\" /><rect x=\"683.864296875\" y=\"55.0\" width=\"40\" height=\"40\" stroke=\"black\" fill=\"white\" stroke-width=\"1\" /><text x=\"703.864296875\" y=\"75.0\" dominant-baseline=\"middle\" text-anchor=\"middle\" font-size=\"18px\" font-family=\"Arial\">X</text><rect x=\"743.864296875\" y=\"55.0\" width=\"96.67886718750002\" height=\"40\" stroke=\"black\" fill=\"white\" stroke-width=\"1\" /><text x=\"792.20373046875\" y=\"75.0\" dominant-baseline=\"middle\" text-anchor=\"middle\" font-size=\"14px\" font-family=\"Arial\">Z^(-qconv2)</text><rect x=\"860.5431640625001\" y=\"55.0\" width=\"96.29824218750001\" height=\"40\" stroke=\"black\" fill=\"white\" stroke-width=\"1\" /><text x=\"908.69228515625\" y=\"75.0\" dominant-baseline=\"middle\" text-anchor=\"middle\" font-size=\"14px\" font-family=\"Arial\">Y^(-qconv1)</text><rect x=\"976.8414062500001\" y=\"55.0\" width=\"96.89105468750002\" height=\"40\" stroke=\"black\" fill=\"white\" stroke-width=\"1\" /><text x=\"1025.28693359375\" y=\"75.0\" dominant-baseline=\"middle\" text-anchor=\"middle\" font-size=\"14px\" font-family=\"Arial\">X^(-qconv0)</text></svg>"
          },
          "metadata": {},
          "execution_count": 61
        }
      ],
      "source": [
        "qubits=cirq.GridQubit.rect(1, 8)[0::2][0]\n",
        "symbols = sympy.symbols('qconv0:63')\n",
        "xxx=two_qubit_pool(cirq.GridQubit.rect(1, 8)[0::2][0],cirq.GridQubit.rect(1, 8)[0::2][1], symbols[0:12])\n",
        "SVGCircuit(xxx)"
      ]
    },
    {
      "cell_type": "code",
      "execution_count": null,
      "metadata": {
        "id": "Gai0-xoYi2vu"
      },
      "outputs": [],
      "source": [
        "def quantum_pool_circuit(source_bits, sink_bits, symbols):\n",
        "    circuit = cirq.Circuit()\n",
        "    for source, sink in zip(source_bits, sink_bits):\n",
        "        circuit += two_qubit_pool(source, sink, symbols)\n",
        "    return circuit"
      ]
    },
    {
      "cell_type": "code",
      "execution_count": null,
      "metadata": {
        "id": "GtEfAjr-i2vu",
        "colab": {
          "base_uri": "https://localhost:8080/",
          "height": 1000
        },
        "outputId": "2f325fc6-e51a-4e6d-d44f-e67016e970e6"
      },
      "outputs": [
        {
          "output_type": "stream",
          "name": "stderr",
          "text": [
            "WARNING:matplotlib.font_manager:findfont: Font family 'Arial' not found.\n",
            "WARNING:matplotlib.font_manager:findfont: Font family 'Arial' not found.\n",
            "WARNING:matplotlib.font_manager:findfont: Font family 'Arial' not found.\n",
            "WARNING:matplotlib.font_manager:findfont: Font family 'Arial' not found.\n",
            "WARNING:matplotlib.font_manager:findfont: Font family 'Arial' not found.\n",
            "WARNING:matplotlib.font_manager:findfont: Font family 'Arial' not found.\n",
            "WARNING:matplotlib.font_manager:findfont: Font family 'Arial' not found.\n",
            "WARNING:matplotlib.font_manager:findfont: Font family 'Arial' not found.\n",
            "WARNING:matplotlib.font_manager:findfont: Font family 'Arial' not found.\n",
            "WARNING:matplotlib.font_manager:findfont: Font family 'Arial' not found.\n",
            "WARNING:matplotlib.font_manager:findfont: Font family 'Arial' not found.\n",
            "WARNING:matplotlib.font_manager:findfont: Font family 'Arial' not found.\n",
            "WARNING:matplotlib.font_manager:findfont: Font family 'Arial' not found.\n",
            "WARNING:matplotlib.font_manager:findfont: Font family 'Arial' not found.\n",
            "WARNING:matplotlib.font_manager:findfont: Font family 'Arial' not found.\n",
            "WARNING:matplotlib.font_manager:findfont: Font family 'Arial' not found.\n",
            "WARNING:matplotlib.font_manager:findfont: Font family 'Arial' not found.\n",
            "WARNING:matplotlib.font_manager:findfont: Font family 'Arial' not found.\n",
            "WARNING:matplotlib.font_manager:findfont: Font family 'Arial' not found.\n",
            "WARNING:matplotlib.font_manager:findfont: Font family 'Arial' not found.\n",
            "WARNING:matplotlib.font_manager:findfont: Font family 'Arial' not found.\n",
            "WARNING:matplotlib.font_manager:findfont: Font family 'Arial' not found.\n",
            "WARNING:matplotlib.font_manager:findfont: Font family 'Arial' not found.\n",
            "WARNING:matplotlib.font_manager:findfont: Font family 'Arial' not found.\n",
            "WARNING:matplotlib.font_manager:findfont: Font family 'Arial' not found.\n",
            "WARNING:matplotlib.font_manager:findfont: Font family 'Arial' not found.\n",
            "WARNING:matplotlib.font_manager:findfont: Font family 'Arial' not found.\n",
            "WARNING:matplotlib.font_manager:findfont: Font family 'Arial' not found.\n",
            "WARNING:matplotlib.font_manager:findfont: Font family 'Arial' not found.\n",
            "WARNING:matplotlib.font_manager:findfont: Font family 'Arial' not found.\n",
            "WARNING:matplotlib.font_manager:findfont: Font family 'Arial' not found.\n",
            "WARNING:matplotlib.font_manager:findfont: Font family 'Arial' not found.\n",
            "WARNING:matplotlib.font_manager:findfont: Font family 'Arial' not found.\n",
            "WARNING:matplotlib.font_manager:findfont: Font family 'Arial' not found.\n",
            "WARNING:matplotlib.font_manager:findfont: Font family 'Arial' not found.\n",
            "WARNING:matplotlib.font_manager:findfont: Font family 'Arial' not found.\n",
            "WARNING:matplotlib.font_manager:findfont: Font family 'Arial' not found.\n",
            "WARNING:matplotlib.font_manager:findfont: Font family 'Arial' not found.\n",
            "WARNING:matplotlib.font_manager:findfont: Font family 'Arial' not found.\n",
            "WARNING:matplotlib.font_manager:findfont: Font family 'Arial' not found.\n",
            "WARNING:matplotlib.font_manager:findfont: Font family 'Arial' not found.\n",
            "WARNING:matplotlib.font_manager:findfont: Font family 'Arial' not found.\n",
            "WARNING:matplotlib.font_manager:findfont: Font family 'Arial' not found.\n",
            "WARNING:matplotlib.font_manager:findfont: Font family 'Arial' not found.\n",
            "WARNING:matplotlib.font_manager:findfont: Font family 'Arial' not found.\n",
            "WARNING:matplotlib.font_manager:findfont: Font family 'Arial' not found.\n",
            "WARNING:matplotlib.font_manager:findfont: Font family 'Arial' not found.\n",
            "WARNING:matplotlib.font_manager:findfont: Font family 'Arial' not found.\n",
            "WARNING:matplotlib.font_manager:findfont: Font family 'Arial' not found.\n",
            "WARNING:matplotlib.font_manager:findfont: Font family 'Arial' not found.\n",
            "WARNING:matplotlib.font_manager:findfont: Font family 'Arial' not found.\n",
            "WARNING:matplotlib.font_manager:findfont: Font family 'Arial' not found.\n"
          ]
        },
        {
          "output_type": "execute_result",
          "data": {
            "text/plain": [
              "<cirq.contrib.svg.svg.SVGCircuit at 0x7f4c2c2b3c70>"
            ],
            "image/svg+xml": "<svg xmlns=\"http://www.w3.org/2000/svg\" width=\"4166.376640625\" height=\"400.0\"><line x1=\"34.7588671875\" x2=\"4136.376640625\" y1=\"25.0\" y2=\"25.0\" stroke=\"#1967d2\" stroke-width=\"1\" /><line x1=\"34.7588671875\" x2=\"4136.376640625\" y1=\"75.0\" y2=\"75.0\" stroke=\"#1967d2\" stroke-width=\"1\" /><line x1=\"34.7588671875\" x2=\"4136.376640625\" y1=\"125.0\" y2=\"125.0\" stroke=\"#1967d2\" stroke-width=\"1\" /><line x1=\"34.7588671875\" x2=\"4136.376640625\" y1=\"175.0\" y2=\"175.0\" stroke=\"#1967d2\" stroke-width=\"1\" /><line x1=\"34.7588671875\" x2=\"4136.376640625\" y1=\"225.0\" y2=\"225.0\" stroke=\"#1967d2\" stroke-width=\"1\" /><line x1=\"34.7588671875\" x2=\"4136.376640625\" y1=\"275.0\" y2=\"275.0\" stroke=\"#1967d2\" stroke-width=\"1\" /><line x1=\"34.7588671875\" x2=\"4136.376640625\" y1=\"325.0\" y2=\"325.0\" stroke=\"#1967d2\" stroke-width=\"1\" /><line x1=\"34.7588671875\" x2=\"4136.376640625\" y1=\"375.0\" y2=\"375.0\" stroke=\"#1967d2\" stroke-width=\"1\" /><line x1=\"703.864296875\" x2=\"703.864296875\" y1=\"25.0\" y2=\"225.0\" stroke=\"black\" stroke-width=\"3\" /><line x1=\"1718.0790234375002\" x2=\"1718.0790234375002\" y1=\"75.0\" y2=\"275.0\" stroke=\"black\" stroke-width=\"3\" /><line x1=\"2732.29375\" x2=\"2732.29375\" y1=\"125.0\" y2=\"325.0\" stroke=\"black\" stroke-width=\"3\" /><line x1=\"3746.5084765624997\" x2=\"3746.5084765624997\" y1=\"175.0\" y2=\"375.0\" stroke=\"black\" stroke-width=\"3\" /><rect x=\"10.0\" y=\"5.0\" width=\"49.517734375\" height=\"40\" stroke=\"black\" fill=\"white\" stroke-width=\"0\" /><text x=\"34.7588671875\" y=\"25.0\" dominant-baseline=\"middle\" text-anchor=\"middle\" font-size=\"14px\" font-family=\"Arial\">(0, 0): </text><rect x=\"10.0\" y=\"55.0\" width=\"49.517734375\" height=\"40\" stroke=\"black\" fill=\"white\" stroke-width=\"0\" /><text x=\"34.7588671875\" y=\"75.0\" dominant-baseline=\"middle\" text-anchor=\"middle\" font-size=\"14px\" font-family=\"Arial\">(0, 1): </text><rect x=\"10.0\" y=\"105.0\" width=\"49.517734375\" height=\"40\" stroke=\"black\" fill=\"white\" stroke-width=\"0\" /><text x=\"34.7588671875\" y=\"125.0\" dominant-baseline=\"middle\" text-anchor=\"middle\" font-size=\"14px\" font-family=\"Arial\">(0, 2): </text><rect x=\"10.0\" y=\"155.0\" width=\"49.517734375\" height=\"40\" stroke=\"black\" fill=\"white\" stroke-width=\"0\" /><text x=\"34.7588671875\" y=\"175.0\" dominant-baseline=\"middle\" text-anchor=\"middle\" font-size=\"14px\" font-family=\"Arial\">(0, 3): </text><rect x=\"10.0\" y=\"205.0\" width=\"49.517734375\" height=\"40\" stroke=\"black\" fill=\"white\" stroke-width=\"0\" /><text x=\"34.7588671875\" y=\"225.0\" dominant-baseline=\"middle\" text-anchor=\"middle\" font-size=\"14px\" font-family=\"Arial\">(0, 4): </text><rect x=\"10.0\" y=\"255.0\" width=\"49.517734375\" height=\"40\" stroke=\"black\" fill=\"white\" stroke-width=\"0\" /><text x=\"34.7588671875\" y=\"275.0\" dominant-baseline=\"middle\" text-anchor=\"middle\" font-size=\"14px\" font-family=\"Arial\">(0, 5): </text><rect x=\"10.0\" y=\"305.0\" width=\"49.517734375\" height=\"40\" stroke=\"black\" fill=\"white\" stroke-width=\"0\" /><text x=\"34.7588671875\" y=\"325.0\" dominant-baseline=\"middle\" text-anchor=\"middle\" font-size=\"14px\" font-family=\"Arial\">(0, 6): </text><rect x=\"10.0\" y=\"355.0\" width=\"49.517734375\" height=\"40\" stroke=\"black\" fill=\"white\" stroke-width=\"0\" /><text x=\"34.7588671875\" y=\"375.0\" dominant-baseline=\"middle\" text-anchor=\"middle\" font-size=\"14px\" font-family=\"Arial\">(0, 7): </text><rect x=\"79.517734375\" y=\"205.0\" width=\"81.18890625000002\" height=\"40\" stroke=\"black\" fill=\"white\" stroke-width=\"1\" /><text x=\"120.1121875\" y=\"225.0\" dominant-baseline=\"middle\" text-anchor=\"middle\" font-size=\"14px\" font-family=\"Arial\">X^qconv0</text><rect x=\"180.70664062500003\" y=\"205.0\" width=\"80.23296875\" height=\"40\" stroke=\"black\" fill=\"white\" stroke-width=\"1\" /><text x=\"220.82312500000003\" y=\"225.0\" dominant-baseline=\"middle\" text-anchor=\"middle\" font-size=\"14px\" font-family=\"Arial\">Y^qconv1</text><rect x=\"280.93960937500003\" y=\"205.0\" width=\"80.50421875\" height=\"40\" stroke=\"black\" fill=\"white\" stroke-width=\"1\" /><text x=\"321.19171875000006\" y=\"225.0\" dominant-baseline=\"middle\" text-anchor=\"middle\" font-size=\"14px\" font-family=\"Arial\">Z^qconv2</text><rect x=\"381.443828125\" y=\"5.0\" width=\"80.99640625\" height=\"40\" stroke=\"black\" fill=\"white\" stroke-width=\"1\" /><text x=\"421.94203125\" y=\"25.0\" dominant-baseline=\"middle\" text-anchor=\"middle\" font-size=\"14px\" font-family=\"Arial\">X^qconv3</text><rect x=\"482.44023437500005\" y=\"5.0\" width=\"80.74046875\" height=\"40\" stroke=\"black\" fill=\"white\" stroke-width=\"1\" /><text x=\"522.81046875\" y=\"25.0\" dominant-baseline=\"middle\" text-anchor=\"middle\" font-size=\"14px\" font-family=\"Arial\">Y^qconv4</text><rect x=\"583.180703125\" y=\"5.0\" width=\"80.68359375000001\" height=\"40\" stroke=\"black\" fill=\"white\" stroke-width=\"1\" /><text x=\"623.5225\" y=\"25.0\" dominant-baseline=\"middle\" text-anchor=\"middle\" font-size=\"14px\" font-family=\"Arial\">Z^qconv5</text><circle cx=\"703.864296875\" cy=\"25.0\" r=\"10.0\" /><rect x=\"683.864296875\" y=\"205.0\" width=\"40\" height=\"40\" stroke=\"black\" fill=\"white\" stroke-width=\"1\" /><text x=\"703.864296875\" y=\"225.0\" dominant-baseline=\"middle\" text-anchor=\"middle\" font-size=\"18px\" font-family=\"Arial\">X</text><rect x=\"743.864296875\" y=\"205.0\" width=\"96.67886718750002\" height=\"40\" stroke=\"black\" fill=\"white\" stroke-width=\"1\" /><text x=\"792.20373046875\" y=\"225.0\" dominant-baseline=\"middle\" text-anchor=\"middle\" font-size=\"14px\" font-family=\"Arial\">Z^(-qconv2)</text><rect x=\"860.5431640625001\" y=\"205.0\" width=\"96.29824218750001\" height=\"40\" stroke=\"black\" fill=\"white\" stroke-width=\"1\" /><text x=\"908.69228515625\" y=\"225.0\" dominant-baseline=\"middle\" text-anchor=\"middle\" font-size=\"14px\" font-family=\"Arial\">Y^(-qconv1)</text><rect x=\"976.8414062500001\" y=\"205.0\" width=\"96.89105468750002\" height=\"40\" stroke=\"black\" fill=\"white\" stroke-width=\"1\" /><text x=\"1025.28693359375\" y=\"225.0\" dominant-baseline=\"middle\" text-anchor=\"middle\" font-size=\"14px\" font-family=\"Arial\">X^(-qconv0)</text><rect x=\"1093.7324609375\" y=\"255.0\" width=\"81.18890625000002\" height=\"40\" stroke=\"black\" fill=\"white\" stroke-width=\"1\" /><text x=\"1134.3269140625\" y=\"275.0\" dominant-baseline=\"middle\" text-anchor=\"middle\" font-size=\"14px\" font-family=\"Arial\">X^qconv0</text><rect x=\"1194.9213671875\" y=\"255.0\" width=\"80.23296875\" height=\"40\" stroke=\"black\" fill=\"white\" stroke-width=\"1\" /><text x=\"1235.0378515625\" y=\"275.0\" dominant-baseline=\"middle\" text-anchor=\"middle\" font-size=\"14px\" font-family=\"Arial\">Y^qconv1</text><rect x=\"1295.1543359375\" y=\"255.0\" width=\"80.50421875\" height=\"40\" stroke=\"black\" fill=\"white\" stroke-width=\"1\" /><text x=\"1335.4064453125\" y=\"275.0\" dominant-baseline=\"middle\" text-anchor=\"middle\" font-size=\"14px\" font-family=\"Arial\">Z^qconv2</text><rect x=\"1395.6585546875\" y=\"55.0\" width=\"80.99640625\" height=\"40\" stroke=\"black\" fill=\"white\" stroke-width=\"1\" /><text x=\"1436.1567578125\" y=\"75.0\" dominant-baseline=\"middle\" text-anchor=\"middle\" font-size=\"14px\" font-family=\"Arial\">X^qconv3</text><rect x=\"1496.6549609375002\" y=\"55.0\" width=\"80.74046875\" height=\"40\" stroke=\"black\" fill=\"white\" stroke-width=\"1\" /><text x=\"1537.0251953125003\" y=\"75.0\" dominant-baseline=\"middle\" text-anchor=\"middle\" font-size=\"14px\" font-family=\"Arial\">Y^qconv4</text><rect x=\"1597.3954296875002\" y=\"55.0\" width=\"80.68359375000001\" height=\"40\" stroke=\"black\" fill=\"white\" stroke-width=\"1\" /><text x=\"1637.7372265625002\" y=\"75.0\" dominant-baseline=\"middle\" text-anchor=\"middle\" font-size=\"14px\" font-family=\"Arial\">Z^qconv5</text><circle cx=\"1718.0790234375002\" cy=\"75.0\" r=\"10.0\" /><rect x=\"1698.0790234375002\" y=\"255.0\" width=\"40\" height=\"40\" stroke=\"black\" fill=\"white\" stroke-width=\"1\" /><text x=\"1718.0790234375002\" y=\"275.0\" dominant-baseline=\"middle\" text-anchor=\"middle\" font-size=\"18px\" font-family=\"Arial\">X</text><rect x=\"1758.0790234375002\" y=\"255.0\" width=\"96.67886718750002\" height=\"40\" stroke=\"black\" fill=\"white\" stroke-width=\"1\" /><text x=\"1806.4184570312502\" y=\"275.0\" dominant-baseline=\"middle\" text-anchor=\"middle\" font-size=\"14px\" font-family=\"Arial\">Z^(-qconv2)</text><rect x=\"1874.757890625\" y=\"255.0\" width=\"96.29824218750001\" height=\"40\" stroke=\"black\" fill=\"white\" stroke-width=\"1\" /><text x=\"1922.90701171875\" y=\"275.0\" dominant-baseline=\"middle\" text-anchor=\"middle\" font-size=\"14px\" font-family=\"Arial\">Y^(-qconv1)</text><rect x=\"1991.0561328125\" y=\"255.0\" width=\"96.89105468750002\" height=\"40\" stroke=\"black\" fill=\"white\" stroke-width=\"1\" /><text x=\"2039.50166015625\" y=\"275.0\" dominant-baseline=\"middle\" text-anchor=\"middle\" font-size=\"14px\" font-family=\"Arial\">X^(-qconv0)</text><rect x=\"2107.9471875\" y=\"305.0\" width=\"81.18890625000002\" height=\"40\" stroke=\"black\" fill=\"white\" stroke-width=\"1\" /><text x=\"2148.541640625\" y=\"325.0\" dominant-baseline=\"middle\" text-anchor=\"middle\" font-size=\"14px\" font-family=\"Arial\">X^qconv0</text><rect x=\"2209.13609375\" y=\"305.0\" width=\"80.23296875\" height=\"40\" stroke=\"black\" fill=\"white\" stroke-width=\"1\" /><text x=\"2249.2525781249997\" y=\"325.0\" dominant-baseline=\"middle\" text-anchor=\"middle\" font-size=\"14px\" font-family=\"Arial\">Y^qconv1</text><rect x=\"2309.3690625\" y=\"305.0\" width=\"80.50421875\" height=\"40\" stroke=\"black\" fill=\"white\" stroke-width=\"1\" /><text x=\"2349.621171875\" y=\"325.0\" dominant-baseline=\"middle\" text-anchor=\"middle\" font-size=\"14px\" font-family=\"Arial\">Z^qconv2</text><rect x=\"2409.8732812499998\" y=\"105.0\" width=\"80.99640625\" height=\"40\" stroke=\"black\" fill=\"white\" stroke-width=\"1\" /><text x=\"2450.371484375\" y=\"125.0\" dominant-baseline=\"middle\" text-anchor=\"middle\" font-size=\"14px\" font-family=\"Arial\">X^qconv3</text><rect x=\"2510.8696874999996\" y=\"105.0\" width=\"80.74046875\" height=\"40\" stroke=\"black\" fill=\"white\" stroke-width=\"1\" /><text x=\"2551.2399218749997\" y=\"125.0\" dominant-baseline=\"middle\" text-anchor=\"middle\" font-size=\"14px\" font-family=\"Arial\">Y^qconv4</text><rect x=\"2611.61015625\" y=\"105.0\" width=\"80.68359375000001\" height=\"40\" stroke=\"black\" fill=\"white\" stroke-width=\"1\" /><text x=\"2651.951953125\" y=\"125.0\" dominant-baseline=\"middle\" text-anchor=\"middle\" font-size=\"14px\" font-family=\"Arial\">Z^qconv5</text><circle cx=\"2732.29375\" cy=\"125.0\" r=\"10.0\" /><rect x=\"2712.29375\" y=\"305.0\" width=\"40\" height=\"40\" stroke=\"black\" fill=\"white\" stroke-width=\"1\" /><text x=\"2732.29375\" y=\"325.0\" dominant-baseline=\"middle\" text-anchor=\"middle\" font-size=\"18px\" font-family=\"Arial\">X</text><rect x=\"2772.29375\" y=\"305.0\" width=\"96.67886718750002\" height=\"40\" stroke=\"black\" fill=\"white\" stroke-width=\"1\" /><text x=\"2820.63318359375\" y=\"325.0\" dominant-baseline=\"middle\" text-anchor=\"middle\" font-size=\"14px\" font-family=\"Arial\">Z^(-qconv2)</text><rect x=\"2888.9726171875\" y=\"305.0\" width=\"96.29824218750001\" height=\"40\" stroke=\"black\" fill=\"white\" stroke-width=\"1\" /><text x=\"2937.12173828125\" y=\"325.0\" dominant-baseline=\"middle\" text-anchor=\"middle\" font-size=\"14px\" font-family=\"Arial\">Y^(-qconv1)</text><rect x=\"3005.270859375\" y=\"305.0\" width=\"96.89105468750002\" height=\"40\" stroke=\"black\" fill=\"white\" stroke-width=\"1\" /><text x=\"3053.71638671875\" y=\"325.0\" dominant-baseline=\"middle\" text-anchor=\"middle\" font-size=\"14px\" font-family=\"Arial\">X^(-qconv0)</text><rect x=\"3122.1619140625\" y=\"355.0\" width=\"81.18890625000002\" height=\"40\" stroke=\"black\" fill=\"white\" stroke-width=\"1\" /><text x=\"3162.7563671875\" y=\"375.0\" dominant-baseline=\"middle\" text-anchor=\"middle\" font-size=\"14px\" font-family=\"Arial\">X^qconv0</text><rect x=\"3223.3508203124998\" y=\"355.0\" width=\"80.23296875\" height=\"40\" stroke=\"black\" fill=\"white\" stroke-width=\"1\" /><text x=\"3263.4673046874996\" y=\"375.0\" dominant-baseline=\"middle\" text-anchor=\"middle\" font-size=\"14px\" font-family=\"Arial\">Y^qconv1</text><rect x=\"3323.5837890625\" y=\"355.0\" width=\"80.50421875\" height=\"40\" stroke=\"black\" fill=\"white\" stroke-width=\"1\" /><text x=\"3363.8358984375\" y=\"375.0\" dominant-baseline=\"middle\" text-anchor=\"middle\" font-size=\"14px\" font-family=\"Arial\">Z^qconv2</text><rect x=\"3424.0880078124997\" y=\"155.0\" width=\"80.99640625\" height=\"40\" stroke=\"black\" fill=\"white\" stroke-width=\"1\" /><text x=\"3464.5862109375\" y=\"175.0\" dominant-baseline=\"middle\" text-anchor=\"middle\" font-size=\"14px\" font-family=\"Arial\">X^qconv3</text><rect x=\"3525.0844140624995\" y=\"155.0\" width=\"80.74046875\" height=\"40\" stroke=\"black\" fill=\"white\" stroke-width=\"1\" /><text x=\"3565.4546484374996\" y=\"175.0\" dominant-baseline=\"middle\" text-anchor=\"middle\" font-size=\"14px\" font-family=\"Arial\">Y^qconv4</text><rect x=\"3625.8248828124997\" y=\"155.0\" width=\"80.68359375000001\" height=\"40\" stroke=\"black\" fill=\"white\" stroke-width=\"1\" /><text x=\"3666.1666796874997\" y=\"175.0\" dominant-baseline=\"middle\" text-anchor=\"middle\" font-size=\"14px\" font-family=\"Arial\">Z^qconv5</text><circle cx=\"3746.5084765624997\" cy=\"175.0\" r=\"10.0\" /><rect x=\"3726.5084765624997\" y=\"355.0\" width=\"40\" height=\"40\" stroke=\"black\" fill=\"white\" stroke-width=\"1\" /><text x=\"3746.5084765624997\" y=\"375.0\" dominant-baseline=\"middle\" text-anchor=\"middle\" font-size=\"18px\" font-family=\"Arial\">X</text><rect x=\"3786.5084765624997\" y=\"355.0\" width=\"96.67886718750002\" height=\"40\" stroke=\"black\" fill=\"white\" stroke-width=\"1\" /><text x=\"3834.84791015625\" y=\"375.0\" dominant-baseline=\"middle\" text-anchor=\"middle\" font-size=\"14px\" font-family=\"Arial\">Z^(-qconv2)</text><rect x=\"3903.18734375\" y=\"355.0\" width=\"96.29824218750001\" height=\"40\" stroke=\"black\" fill=\"white\" stroke-width=\"1\" /><text x=\"3951.33646484375\" y=\"375.0\" dominant-baseline=\"middle\" text-anchor=\"middle\" font-size=\"14px\" font-family=\"Arial\">Y^(-qconv1)</text><rect x=\"4019.4855859374998\" y=\"355.0\" width=\"96.89105468750002\" height=\"40\" stroke=\"black\" fill=\"white\" stroke-width=\"1\" /><text x=\"4067.93111328125\" y=\"375.0\" dominant-baseline=\"middle\" text-anchor=\"middle\" font-size=\"14px\" font-family=\"Arial\">X^(-qconv0)</text></svg>"
          },
          "metadata": {},
          "execution_count": 63
        }
      ],
      "source": [
        "qubits=cirq.GridQubit.rect(1, 8)[0::2][0]\n",
        "symbols = sympy.symbols('qconv0:63')\n",
        "xxx=quantum_pool_circuit(cirq.GridQubit.rect(1, 8)[:4],cirq.GridQubit.rect(1, 8)[4:], symbols[0:12])\n",
        "SVGCircuit(xxx)"
      ]
    },
    {
      "cell_type": "code",
      "execution_count": null,
      "metadata": {
        "id": "w0IuEJPii2vu"
      },
      "outputs": [],
      "source": [
        "qubits=cirq.GridQubit.rect(1, 8)\n",
        "symbols = sympy.symbols('qconv0:63')\n",
        "xxx=quantum_conv_circuit(qubits, symbols[0:15])"
      ]
    },
    {
      "cell_type": "code",
      "execution_count": null,
      "metadata": {
        "id": "rXzzexH4i2vu",
        "colab": {
          "base_uri": "https://localhost:8080/",
          "height": 1000
        },
        "outputId": "b2cb82b6-9ed3-42cb-a66c-8a20dd1ab390"
      },
      "outputs": [
        {
          "output_type": "stream",
          "name": "stderr",
          "text": [
            "WARNING:matplotlib.font_manager:findfont: Font family 'Arial' not found.\n",
            "WARNING:matplotlib.font_manager:findfont: Font family 'Arial' not found.\n",
            "WARNING:matplotlib.font_manager:findfont: Font family 'Arial' not found.\n",
            "WARNING:matplotlib.font_manager:findfont: Font family 'Arial' not found.\n",
            "WARNING:matplotlib.font_manager:findfont: Font family 'Arial' not found.\n",
            "WARNING:matplotlib.font_manager:findfont: Font family 'Arial' not found.\n",
            "WARNING:matplotlib.font_manager:findfont: Font family 'Arial' not found.\n",
            "WARNING:matplotlib.font_manager:findfont: Font family 'Arial' not found.\n",
            "WARNING:matplotlib.font_manager:findfont: Font family 'Arial' not found.\n",
            "WARNING:matplotlib.font_manager:findfont: Font family 'Arial' not found.\n",
            "WARNING:matplotlib.font_manager:findfont: Font family 'Arial' not found.\n",
            "WARNING:matplotlib.font_manager:findfont: Font family 'Arial' not found.\n",
            "WARNING:matplotlib.font_manager:findfont: Font family 'Arial' not found.\n",
            "WARNING:matplotlib.font_manager:findfont: Font family 'Arial' not found.\n",
            "WARNING:matplotlib.font_manager:findfont: Font family 'Arial' not found.\n",
            "WARNING:matplotlib.font_manager:findfont: Font family 'Arial' not found.\n",
            "WARNING:matplotlib.font_manager:findfont: Font family 'Arial' not found.\n",
            "WARNING:matplotlib.font_manager:findfont: Font family 'Arial' not found.\n",
            "WARNING:matplotlib.font_manager:findfont: Font family 'Arial' not found.\n",
            "WARNING:matplotlib.font_manager:findfont: Font family 'Arial' not found.\n",
            "WARNING:matplotlib.font_manager:findfont: Font family 'Arial' not found.\n",
            "WARNING:matplotlib.font_manager:findfont: Font family 'Arial' not found.\n",
            "WARNING:matplotlib.font_manager:findfont: Font family 'Arial' not found.\n",
            "WARNING:matplotlib.font_manager:findfont: Font family 'Arial' not found.\n",
            "WARNING:matplotlib.font_manager:findfont: Font family 'Arial' not found.\n",
            "WARNING:matplotlib.font_manager:findfont: Font family 'Arial' not found.\n",
            "WARNING:matplotlib.font_manager:findfont: Font family 'Arial' not found.\n",
            "WARNING:matplotlib.font_manager:findfont: Font family 'Arial' not found.\n",
            "WARNING:matplotlib.font_manager:findfont: Font family 'Arial' not found.\n",
            "WARNING:matplotlib.font_manager:findfont: Font family 'Arial' not found.\n",
            "WARNING:matplotlib.font_manager:findfont: Font family 'Arial' not found.\n",
            "WARNING:matplotlib.font_manager:findfont: Font family 'Arial' not found.\n",
            "WARNING:matplotlib.font_manager:findfont: Font family 'Arial' not found.\n",
            "WARNING:matplotlib.font_manager:findfont: Font family 'Arial' not found.\n",
            "WARNING:matplotlib.font_manager:findfont: Font family 'Arial' not found.\n",
            "WARNING:matplotlib.font_manager:findfont: Font family 'Arial' not found.\n",
            "WARNING:matplotlib.font_manager:findfont: Font family 'Arial' not found.\n",
            "WARNING:matplotlib.font_manager:findfont: Font family 'Arial' not found.\n",
            "WARNING:matplotlib.font_manager:findfont: Font family 'Arial' not found.\n",
            "WARNING:matplotlib.font_manager:findfont: Font family 'Arial' not found.\n",
            "WARNING:matplotlib.font_manager:findfont: Font family 'Arial' not found.\n",
            "WARNING:matplotlib.font_manager:findfont: Font family 'Arial' not found.\n",
            "WARNING:matplotlib.font_manager:findfont: Font family 'Arial' not found.\n",
            "WARNING:matplotlib.font_manager:findfont: Font family 'Arial' not found.\n",
            "WARNING:matplotlib.font_manager:findfont: Font family 'Arial' not found.\n",
            "WARNING:matplotlib.font_manager:findfont: Font family 'Arial' not found.\n",
            "WARNING:matplotlib.font_manager:findfont: Font family 'Arial' not found.\n",
            "WARNING:matplotlib.font_manager:findfont: Font family 'Arial' not found.\n",
            "WARNING:matplotlib.font_manager:findfont: Font family 'Arial' not found.\n",
            "WARNING:matplotlib.font_manager:findfont: Font family 'Arial' not found.\n",
            "WARNING:matplotlib.font_manager:findfont: Font family 'Arial' not found.\n",
            "WARNING:matplotlib.font_manager:findfont: Font family 'Arial' not found.\n",
            "WARNING:matplotlib.font_manager:findfont: Font family 'Arial' not found.\n",
            "WARNING:matplotlib.font_manager:findfont: Font family 'Arial' not found.\n",
            "WARNING:matplotlib.font_manager:findfont: Font family 'Arial' not found.\n",
            "WARNING:matplotlib.font_manager:findfont: Font family 'Arial' not found.\n",
            "WARNING:matplotlib.font_manager:findfont: Font family 'Arial' not found.\n",
            "WARNING:matplotlib.font_manager:findfont: Font family 'Arial' not found.\n",
            "WARNING:matplotlib.font_manager:findfont: Font family 'Arial' not found.\n",
            "WARNING:matplotlib.font_manager:findfont: Font family 'Arial' not found.\n",
            "WARNING:matplotlib.font_manager:findfont: Font family 'Arial' not found.\n",
            "WARNING:matplotlib.font_manager:findfont: Font family 'Arial' not found.\n",
            "WARNING:matplotlib.font_manager:findfont: Font family 'Arial' not found.\n",
            "WARNING:matplotlib.font_manager:findfont: Font family 'Arial' not found.\n",
            "WARNING:matplotlib.font_manager:findfont: Font family 'Arial' not found.\n",
            "WARNING:matplotlib.font_manager:findfont: Font family 'Arial' not found.\n",
            "WARNING:matplotlib.font_manager:findfont: Font family 'Arial' not found.\n",
            "WARNING:matplotlib.font_manager:findfont: Font family 'Arial' not found.\n",
            "WARNING:matplotlib.font_manager:findfont: Font family 'Arial' not found.\n",
            "WARNING:matplotlib.font_manager:findfont: Font family 'Arial' not found.\n",
            "WARNING:matplotlib.font_manager:findfont: Font family 'Arial' not found.\n",
            "WARNING:matplotlib.font_manager:findfont: Font family 'Arial' not found.\n",
            "WARNING:matplotlib.font_manager:findfont: Font family 'Arial' not found.\n",
            "WARNING:matplotlib.font_manager:findfont: Font family 'Arial' not found.\n",
            "WARNING:matplotlib.font_manager:findfont: Font family 'Arial' not found.\n",
            "WARNING:matplotlib.font_manager:findfont: Font family 'Arial' not found.\n",
            "WARNING:matplotlib.font_manager:findfont: Font family 'Arial' not found.\n",
            "WARNING:matplotlib.font_manager:findfont: Font family 'Arial' not found.\n",
            "WARNING:matplotlib.font_manager:findfont: Font family 'Arial' not found.\n",
            "WARNING:matplotlib.font_manager:findfont: Font family 'Arial' not found.\n",
            "WARNING:matplotlib.font_manager:findfont: Font family 'Arial' not found.\n",
            "WARNING:matplotlib.font_manager:findfont: Font family 'Arial' not found.\n",
            "WARNING:matplotlib.font_manager:findfont: Font family 'Arial' not found.\n",
            "WARNING:matplotlib.font_manager:findfont: Font family 'Arial' not found.\n",
            "WARNING:matplotlib.font_manager:findfont: Font family 'Arial' not found.\n",
            "WARNING:matplotlib.font_manager:findfont: Font family 'Arial' not found.\n",
            "WARNING:matplotlib.font_manager:findfont: Font family 'Arial' not found.\n",
            "WARNING:matplotlib.font_manager:findfont: Font family 'Arial' not found.\n",
            "WARNING:matplotlib.font_manager:findfont: Font family 'Arial' not found.\n",
            "WARNING:matplotlib.font_manager:findfont: Font family 'Arial' not found.\n",
            "WARNING:matplotlib.font_manager:findfont: Font family 'Arial' not found.\n",
            "WARNING:matplotlib.font_manager:findfont: Font family 'Arial' not found.\n",
            "WARNING:matplotlib.font_manager:findfont: Font family 'Arial' not found.\n",
            "WARNING:matplotlib.font_manager:findfont: Font family 'Arial' not found.\n",
            "WARNING:matplotlib.font_manager:findfont: Font family 'Arial' not found.\n",
            "WARNING:matplotlib.font_manager:findfont: Font family 'Arial' not found.\n",
            "WARNING:matplotlib.font_manager:findfont: Font family 'Arial' not found.\n",
            "WARNING:matplotlib.font_manager:findfont: Font family 'Arial' not found.\n",
            "WARNING:matplotlib.font_manager:findfont: Font family 'Arial' not found.\n",
            "WARNING:matplotlib.font_manager:findfont: Font family 'Arial' not found.\n",
            "WARNING:matplotlib.font_manager:findfont: Font family 'Arial' not found.\n",
            "WARNING:matplotlib.font_manager:findfont: Font family 'Arial' not found.\n",
            "WARNING:matplotlib.font_manager:findfont: Font family 'Arial' not found.\n",
            "WARNING:matplotlib.font_manager:findfont: Font family 'Arial' not found.\n",
            "WARNING:matplotlib.font_manager:findfont: Font family 'Arial' not found.\n",
            "WARNING:matplotlib.font_manager:findfont: Font family 'Arial' not found.\n",
            "WARNING:matplotlib.font_manager:findfont: Font family 'Arial' not found.\n",
            "WARNING:matplotlib.font_manager:findfont: Font family 'Arial' not found.\n",
            "WARNING:matplotlib.font_manager:findfont: Font family 'Arial' not found.\n",
            "WARNING:matplotlib.font_manager:findfont: Font family 'Arial' not found.\n",
            "WARNING:matplotlib.font_manager:findfont: Font family 'Arial' not found.\n",
            "WARNING:matplotlib.font_manager:findfont: Font family 'Arial' not found.\n",
            "WARNING:matplotlib.font_manager:findfont: Font family 'Arial' not found.\n",
            "WARNING:matplotlib.font_manager:findfont: Font family 'Arial' not found.\n",
            "WARNING:matplotlib.font_manager:findfont: Font family 'Arial' not found.\n",
            "WARNING:matplotlib.font_manager:findfont: Font family 'Arial' not found.\n",
            "WARNING:matplotlib.font_manager:findfont: Font family 'Arial' not found.\n",
            "WARNING:matplotlib.font_manager:findfont: Font family 'Arial' not found.\n",
            "WARNING:matplotlib.font_manager:findfont: Font family 'Arial' not found.\n",
            "WARNING:matplotlib.font_manager:findfont: Font family 'Arial' not found.\n",
            "WARNING:matplotlib.font_manager:findfont: Font family 'Arial' not found.\n",
            "WARNING:matplotlib.font_manager:findfont: Font family 'Arial' not found.\n",
            "WARNING:matplotlib.font_manager:findfont: Font family 'Arial' not found.\n",
            "WARNING:matplotlib.font_manager:findfont: Font family 'Arial' not found.\n",
            "WARNING:matplotlib.font_manager:findfont: Font family 'Arial' not found.\n",
            "WARNING:matplotlib.font_manager:findfont: Font family 'Arial' not found.\n",
            "WARNING:matplotlib.font_manager:findfont: Font family 'Arial' not found.\n",
            "WARNING:matplotlib.font_manager:findfont: Font family 'Arial' not found.\n",
            "WARNING:matplotlib.font_manager:findfont: Font family 'Arial' not found.\n",
            "WARNING:matplotlib.font_manager:findfont: Font family 'Arial' not found.\n",
            "WARNING:matplotlib.font_manager:findfont: Font family 'Arial' not found.\n",
            "WARNING:matplotlib.font_manager:findfont: Font family 'Arial' not found.\n",
            "WARNING:matplotlib.font_manager:findfont: Font family 'Arial' not found.\n",
            "WARNING:matplotlib.font_manager:findfont: Font family 'Arial' not found.\n",
            "WARNING:matplotlib.font_manager:findfont: Font family 'Arial' not found.\n",
            "WARNING:matplotlib.font_manager:findfont: Font family 'Arial' not found.\n",
            "WARNING:matplotlib.font_manager:findfont: Font family 'Arial' not found.\n",
            "WARNING:matplotlib.font_manager:findfont: Font family 'Arial' not found.\n",
            "WARNING:matplotlib.font_manager:findfont: Font family 'Arial' not found.\n",
            "WARNING:matplotlib.font_manager:findfont: Font family 'Arial' not found.\n",
            "WARNING:matplotlib.font_manager:findfont: Font family 'Arial' not found.\n",
            "WARNING:matplotlib.font_manager:findfont: Font family 'Arial' not found.\n",
            "WARNING:matplotlib.font_manager:findfont: Font family 'Arial' not found.\n",
            "WARNING:matplotlib.font_manager:findfont: Font family 'Arial' not found.\n",
            "WARNING:matplotlib.font_manager:findfont: Font family 'Arial' not found.\n",
            "WARNING:matplotlib.font_manager:findfont: Font family 'Arial' not found.\n",
            "WARNING:matplotlib.font_manager:findfont: Font family 'Arial' not found.\n",
            "WARNING:matplotlib.font_manager:findfont: Font family 'Arial' not found.\n",
            "WARNING:matplotlib.font_manager:findfont: Font family 'Arial' not found.\n",
            "WARNING:matplotlib.font_manager:findfont: Font family 'Arial' not found.\n",
            "WARNING:matplotlib.font_manager:findfont: Font family 'Arial' not found.\n",
            "WARNING:matplotlib.font_manager:findfont: Font family 'Arial' not found.\n"
          ]
        },
        {
          "output_type": "execute_result",
          "data": {
            "text/plain": [
              "<cirq.contrib.svg.svg.SVGCircuit at 0x7f4c2c2b3eb0>"
            ],
            "image/svg+xml": "<svg xmlns=\"http://www.w3.org/2000/svg\" width=\"12778.420234375004\" height=\"400.0\"><line x1=\"34.7588671875\" x2=\"12748.420234375004\" y1=\"25.0\" y2=\"25.0\" stroke=\"#1967d2\" stroke-width=\"1\" /><line x1=\"34.7588671875\" x2=\"12748.420234375004\" y1=\"75.0\" y2=\"75.0\" stroke=\"#1967d2\" stroke-width=\"1\" /><line x1=\"34.7588671875\" x2=\"12748.420234375004\" y1=\"125.0\" y2=\"125.0\" stroke=\"#1967d2\" stroke-width=\"1\" /><line x1=\"34.7588671875\" x2=\"12748.420234375004\" y1=\"175.0\" y2=\"175.0\" stroke=\"#1967d2\" stroke-width=\"1\" /><line x1=\"34.7588671875\" x2=\"12748.420234375004\" y1=\"225.0\" y2=\"225.0\" stroke=\"#1967d2\" stroke-width=\"1\" /><line x1=\"34.7588671875\" x2=\"12748.420234375004\" y1=\"275.0\" y2=\"275.0\" stroke=\"#1967d2\" stroke-width=\"1\" /><line x1=\"34.7588671875\" x2=\"12748.420234375004\" y1=\"325.0\" y2=\"325.0\" stroke=\"#1967d2\" stroke-width=\"1\" /><line x1=\"34.7588671875\" x2=\"12748.420234375004\" y1=\"375.0\" y2=\"375.0\" stroke=\"#1967d2\" stroke-width=\"1\" /><line x1=\"729.0146289062501\" x2=\"729.0146289062501\" y1=\"25.0\" y2=\"75.0\" stroke=\"black\" stroke-width=\"3\" /><line x1=\"838.72466796875\" x2=\"838.72466796875\" y1=\"25.0\" y2=\"75.0\" stroke=\"black\" stroke-width=\"3\" /><line x1=\"948.64689453125\" x2=\"948.64689453125\" y1=\"25.0\" y2=\"75.0\" stroke=\"black\" stroke-width=\"3\" /><line x1=\"2312.6274414062505\" x2=\"2312.6274414062505\" y1=\"125.0\" y2=\"175.0\" stroke=\"black\" stroke-width=\"3\" /><line x1=\"2422.3374804687505\" x2=\"2422.3374804687505\" y1=\"125.0\" y2=\"175.0\" stroke=\"black\" stroke-width=\"3\" /><line x1=\"2532.2597070312504\" x2=\"2532.2597070312504\" y1=\"125.0\" y2=\"175.0\" stroke=\"black\" stroke-width=\"3\" /><line x1=\"3896.2402539062496\" x2=\"3896.2402539062496\" y1=\"225.0\" y2=\"275.0\" stroke=\"black\" stroke-width=\"3\" /><line x1=\"4005.9502929687496\" x2=\"4005.9502929687496\" y1=\"225.0\" y2=\"275.0\" stroke=\"black\" stroke-width=\"3\" /><line x1=\"4115.872519531249\" x2=\"4115.872519531249\" y1=\"225.0\" y2=\"275.0\" stroke=\"black\" stroke-width=\"3\" /><line x1=\"5479.853066406252\" x2=\"5479.853066406252\" y1=\"325.0\" y2=\"375.0\" stroke=\"black\" stroke-width=\"3\" /><line x1=\"5589.563105468751\" x2=\"5589.563105468751\" y1=\"325.0\" y2=\"375.0\" stroke=\"black\" stroke-width=\"3\" /><line x1=\"5699.485332031251\" x2=\"5699.485332031251\" y1=\"325.0\" y2=\"375.0\" stroke=\"black\" stroke-width=\"3\" /><line x1=\"7063.465878906254\" x2=\"7063.465878906254\" y1=\"75.0\" y2=\"125.0\" stroke=\"black\" stroke-width=\"3\" /><line x1=\"7173.175917968753\" x2=\"7173.175917968753\" y1=\"75.0\" y2=\"125.0\" stroke=\"black\" stroke-width=\"3\" /><line x1=\"7283.098144531254\" x2=\"7283.098144531254\" y1=\"75.0\" y2=\"125.0\" stroke=\"black\" stroke-width=\"3\" /><line x1=\"8647.078691406256\" x2=\"8647.078691406256\" y1=\"175.0\" y2=\"225.0\" stroke=\"black\" stroke-width=\"3\" /><line x1=\"8756.788730468757\" x2=\"8756.788730468757\" y1=\"175.0\" y2=\"225.0\" stroke=\"black\" stroke-width=\"3\" /><line x1=\"8866.710957031257\" x2=\"8866.710957031257\" y1=\"175.0\" y2=\"225.0\" stroke=\"black\" stroke-width=\"3\" /><line x1=\"10230.691503906255\" x2=\"10230.691503906255\" y1=\"275.0\" y2=\"325.0\" stroke=\"black\" stroke-width=\"3\" /><line x1=\"10340.401542968757\" x2=\"10340.401542968757\" y1=\"275.0\" y2=\"325.0\" stroke=\"black\" stroke-width=\"3\" /><line x1=\"10450.323769531256\" x2=\"10450.323769531256\" y1=\"275.0\" y2=\"325.0\" stroke=\"black\" stroke-width=\"3\" /><line x1=\"11814.304316406255\" x2=\"11814.304316406255\" y1=\"25.0\" y2=\"375.0\" stroke=\"black\" stroke-width=\"3\" /><line x1=\"11924.014355468757\" x2=\"11924.014355468757\" y1=\"25.0\" y2=\"375.0\" stroke=\"black\" stroke-width=\"3\" /><line x1=\"12033.936582031256\" x2=\"12033.936582031256\" y1=\"25.0\" y2=\"375.0\" stroke=\"black\" stroke-width=\"3\" /><rect x=\"10.0\" y=\"5.0\" width=\"49.517734375\" height=\"40\" stroke=\"black\" fill=\"white\" stroke-width=\"0\" /><text x=\"34.7588671875\" y=\"25.0\" dominant-baseline=\"middle\" text-anchor=\"middle\" font-size=\"14px\" font-family=\"Arial\">(0, 0): </text><rect x=\"10.0\" y=\"55.0\" width=\"49.517734375\" height=\"40\" stroke=\"black\" fill=\"white\" stroke-width=\"0\" /><text x=\"34.7588671875\" y=\"75.0\" dominant-baseline=\"middle\" text-anchor=\"middle\" font-size=\"14px\" font-family=\"Arial\">(0, 1): </text><rect x=\"10.0\" y=\"105.0\" width=\"49.517734375\" height=\"40\" stroke=\"black\" fill=\"white\" stroke-width=\"0\" /><text x=\"34.7588671875\" y=\"125.0\" dominant-baseline=\"middle\" text-anchor=\"middle\" font-size=\"14px\" font-family=\"Arial\">(0, 2): </text><rect x=\"10.0\" y=\"155.0\" width=\"49.517734375\" height=\"40\" stroke=\"black\" fill=\"white\" stroke-width=\"0\" /><text x=\"34.7588671875\" y=\"175.0\" dominant-baseline=\"middle\" text-anchor=\"middle\" font-size=\"14px\" font-family=\"Arial\">(0, 3): </text><rect x=\"10.0\" y=\"205.0\" width=\"49.517734375\" height=\"40\" stroke=\"black\" fill=\"white\" stroke-width=\"0\" /><text x=\"34.7588671875\" y=\"225.0\" dominant-baseline=\"middle\" text-anchor=\"middle\" font-size=\"14px\" font-family=\"Arial\">(0, 4): </text><rect x=\"10.0\" y=\"255.0\" width=\"49.517734375\" height=\"40\" stroke=\"black\" fill=\"white\" stroke-width=\"0\" /><text x=\"34.7588671875\" y=\"275.0\" dominant-baseline=\"middle\" text-anchor=\"middle\" font-size=\"14px\" font-family=\"Arial\">(0, 5): </text><rect x=\"10.0\" y=\"305.0\" width=\"49.517734375\" height=\"40\" stroke=\"black\" fill=\"white\" stroke-width=\"0\" /><text x=\"34.7588671875\" y=\"325.0\" dominant-baseline=\"middle\" text-anchor=\"middle\" font-size=\"14px\" font-family=\"Arial\">(0, 6): </text><rect x=\"10.0\" y=\"355.0\" width=\"49.517734375\" height=\"40\" stroke=\"black\" fill=\"white\" stroke-width=\"0\" /><text x=\"34.7588671875\" y=\"375.0\" dominant-baseline=\"middle\" text-anchor=\"middle\" font-size=\"14px\" font-family=\"Arial\">(0, 7): </text><rect x=\"79.517734375\" y=\"5.0\" width=\"81.18890625000002\" height=\"40\" stroke=\"black\" fill=\"white\" stroke-width=\"1\" /><text x=\"120.1121875\" y=\"25.0\" dominant-baseline=\"middle\" text-anchor=\"middle\" font-size=\"14px\" font-family=\"Arial\">X^qconv0</text><rect x=\"180.70664062500003\" y=\"5.0\" width=\"80.23296875\" height=\"40\" stroke=\"black\" fill=\"white\" stroke-width=\"1\" /><text x=\"220.82312500000003\" y=\"25.0\" dominant-baseline=\"middle\" text-anchor=\"middle\" font-size=\"14px\" font-family=\"Arial\">Y^qconv1</text><rect x=\"280.93960937500003\" y=\"5.0\" width=\"80.50421875\" height=\"40\" stroke=\"black\" fill=\"white\" stroke-width=\"1\" /><text x=\"321.19171875000006\" y=\"25.0\" dominant-baseline=\"middle\" text-anchor=\"middle\" font-size=\"14px\" font-family=\"Arial\">Z^qconv2</text><rect x=\"381.443828125\" y=\"55.0\" width=\"80.99640625\" height=\"40\" stroke=\"black\" fill=\"white\" stroke-width=\"1\" /><text x=\"421.94203125\" y=\"75.0\" dominant-baseline=\"middle\" text-anchor=\"middle\" font-size=\"14px\" font-family=\"Arial\">X^qconv3</text><rect x=\"482.44023437500005\" y=\"55.0\" width=\"80.74046875\" height=\"40\" stroke=\"black\" fill=\"white\" stroke-width=\"1\" /><text x=\"522.81046875\" y=\"75.0\" dominant-baseline=\"middle\" text-anchor=\"middle\" font-size=\"14px\" font-family=\"Arial\">Y^qconv4</text><rect x=\"583.180703125\" y=\"55.0\" width=\"80.68359375000001\" height=\"40\" stroke=\"black\" fill=\"white\" stroke-width=\"1\" /><text x=\"623.5225\" y=\"75.0\" dominant-baseline=\"middle\" text-anchor=\"middle\" font-size=\"14px\" font-family=\"Arial\">Z^qconv5</text><rect x=\"683.864296875\" y=\"5.0\" width=\"90.30066406250002\" height=\"40\" stroke=\"black\" fill=\"white\" stroke-width=\"1\" /><text x=\"729.0146289062501\" y=\"25.0\" dominant-baseline=\"middle\" text-anchor=\"middle\" font-size=\"14px\" font-family=\"Arial\">ZZ</text><rect x=\"683.864296875\" y=\"55.0\" width=\"90.30066406250002\" height=\"40\" stroke=\"black\" fill=\"white\" stroke-width=\"1\" /><text x=\"729.0146289062501\" y=\"75.0\" dominant-baseline=\"middle\" text-anchor=\"middle\" font-size=\"14px\" font-family=\"Arial\">ZZ^qconv7</text><rect x=\"794.1649609375\" y=\"5.0\" width=\"89.1194140625\" height=\"40\" stroke=\"black\" fill=\"white\" stroke-width=\"1\" /><text x=\"838.72466796875\" y=\"25.0\" dominant-baseline=\"middle\" text-anchor=\"middle\" font-size=\"14px\" font-family=\"Arial\">YY</text><rect x=\"794.1649609375\" y=\"55.0\" width=\"89.1194140625\" height=\"40\" stroke=\"black\" fill=\"white\" stroke-width=\"1\" /><text x=\"838.72466796875\" y=\"75.0\" dominant-baseline=\"middle\" text-anchor=\"middle\" font-size=\"14px\" font-family=\"Arial\">YY^qconv8</text><rect x=\"903.2843750000001\" y=\"5.0\" width=\"90.72503906250002\" height=\"40\" stroke=\"black\" fill=\"white\" stroke-width=\"1\" /><text x=\"948.64689453125\" y=\"25.0\" dominant-baseline=\"middle\" text-anchor=\"middle\" font-size=\"14px\" font-family=\"Arial\">XX</text><rect x=\"903.2843750000001\" y=\"55.0\" width=\"90.72503906250002\" height=\"40\" stroke=\"black\" fill=\"white\" stroke-width=\"1\" /><text x=\"948.64689453125\" y=\"75.0\" dominant-baseline=\"middle\" text-anchor=\"middle\" font-size=\"14px\" font-family=\"Arial\">XX^qconv9</text><rect x=\"1014.0094140625001\" y=\"5.0\" width=\"81.13421875000002\" height=\"40\" stroke=\"black\" fill=\"white\" stroke-width=\"1\" /><text x=\"1054.5765234375\" y=\"25.0\" dominant-baseline=\"middle\" text-anchor=\"middle\" font-size=\"14px\" font-family=\"Arial\">X^qconv9</text><rect x=\"1115.1436328125\" y=\"5.0\" width=\"89.50332031250001\" height=\"40\" stroke=\"black\" fill=\"white\" stroke-width=\"1\" /><text x=\"1159.89529296875\" y=\"25.0\" dominant-baseline=\"middle\" text-anchor=\"middle\" font-size=\"14px\" font-family=\"Arial\">Y^qconv10</text><rect x=\"1224.646953125\" y=\"5.0\" width=\"89.5208203125\" height=\"40\" stroke=\"black\" fill=\"white\" stroke-width=\"1\" /><text x=\"1269.40736328125\" y=\"25.0\" dominant-baseline=\"middle\" text-anchor=\"middle\" font-size=\"14px\" font-family=\"Arial\">Z^qconv11</text><rect x=\"1334.1677734375\" y=\"55.0\" width=\"89.6236328125\" height=\"40\" stroke=\"black\" fill=\"white\" stroke-width=\"1\" /><text x=\"1378.97958984375\" y=\"75.0\" dominant-baseline=\"middle\" text-anchor=\"middle\" font-size=\"14px\" font-family=\"Arial\">X^qconv12</text><rect x=\"1443.7914062500001\" y=\"55.0\" width=\"89.3108203125\" height=\"40\" stroke=\"black\" fill=\"white\" stroke-width=\"1\" /><text x=\"1488.44681640625\" y=\"75.0\" dominant-baseline=\"middle\" text-anchor=\"middle\" font-size=\"14px\" font-family=\"Arial\">Y^qconv13</text><rect x=\"1553.1022265625002\" y=\"55.0\" width=\"90.02832031250001\" height=\"40\" stroke=\"black\" fill=\"white\" stroke-width=\"1\" /><text x=\"1598.1163867187502\" y=\"75.0\" dominant-baseline=\"middle\" text-anchor=\"middle\" font-size=\"14px\" font-family=\"Arial\">Z^qconv14</text><rect x=\"1663.1305468750002\" y=\"105.0\" width=\"81.18890625000002\" height=\"40\" stroke=\"black\" fill=\"white\" stroke-width=\"1\" /><text x=\"1703.7250000000001\" y=\"125.0\" dominant-baseline=\"middle\" text-anchor=\"middle\" font-size=\"14px\" font-family=\"Arial\">X^qconv0</text><rect x=\"1764.319453125\" y=\"105.0\" width=\"80.23296875\" height=\"40\" stroke=\"black\" fill=\"white\" stroke-width=\"1\" /><text x=\"1804.4359375000001\" y=\"125.0\" dominant-baseline=\"middle\" text-anchor=\"middle\" font-size=\"14px\" font-family=\"Arial\">Y^qconv1</text><rect x=\"1864.5524218750002\" y=\"105.0\" width=\"80.50421875\" height=\"40\" stroke=\"black\" fill=\"white\" stroke-width=\"1\" /><text x=\"1904.80453125\" y=\"125.0\" dominant-baseline=\"middle\" text-anchor=\"middle\" font-size=\"14px\" font-family=\"Arial\">Z^qconv2</text><rect x=\"1965.0566406250002\" y=\"155.0\" width=\"80.99640625\" height=\"40\" stroke=\"black\" fill=\"white\" stroke-width=\"1\" /><text x=\"2005.5548437500001\" y=\"175.0\" dominant-baseline=\"middle\" text-anchor=\"middle\" font-size=\"14px\" font-family=\"Arial\">X^qconv3</text><rect x=\"2066.0530468750003\" y=\"155.0\" width=\"80.74046875\" height=\"40\" stroke=\"black\" fill=\"white\" stroke-width=\"1\" /><text x=\"2106.4232812500004\" y=\"175.0\" dominant-baseline=\"middle\" text-anchor=\"middle\" font-size=\"14px\" font-family=\"Arial\">Y^qconv4</text><rect x=\"2166.7935156250005\" y=\"155.0\" width=\"80.68359375000001\" height=\"40\" stroke=\"black\" fill=\"white\" stroke-width=\"1\" /><text x=\"2207.1353125000005\" y=\"175.0\" dominant-baseline=\"middle\" text-anchor=\"middle\" font-size=\"14px\" font-family=\"Arial\">Z^qconv5</text><rect x=\"2267.4771093750005\" y=\"105.0\" width=\"90.30066406250002\" height=\"40\" stroke=\"black\" fill=\"white\" stroke-width=\"1\" /><text x=\"2312.6274414062505\" y=\"125.0\" dominant-baseline=\"middle\" text-anchor=\"middle\" font-size=\"14px\" font-family=\"Arial\">ZZ</text><rect x=\"2267.4771093750005\" y=\"155.0\" width=\"90.30066406250002\" height=\"40\" stroke=\"black\" fill=\"white\" stroke-width=\"1\" /><text x=\"2312.6274414062505\" y=\"175.0\" dominant-baseline=\"middle\" text-anchor=\"middle\" font-size=\"14px\" font-family=\"Arial\">ZZ^qconv7</text><rect x=\"2377.7777734375004\" y=\"105.0\" width=\"89.1194140625\" height=\"40\" stroke=\"black\" fill=\"white\" stroke-width=\"1\" /><text x=\"2422.3374804687505\" y=\"125.0\" dominant-baseline=\"middle\" text-anchor=\"middle\" font-size=\"14px\" font-family=\"Arial\">YY</text><rect x=\"2377.7777734375004\" y=\"155.0\" width=\"89.1194140625\" height=\"40\" stroke=\"black\" fill=\"white\" stroke-width=\"1\" /><text x=\"2422.3374804687505\" y=\"175.0\" dominant-baseline=\"middle\" text-anchor=\"middle\" font-size=\"14px\" font-family=\"Arial\">YY^qconv8</text><rect x=\"2486.8971875\" y=\"105.0\" width=\"90.72503906250002\" height=\"40\" stroke=\"black\" fill=\"white\" stroke-width=\"1\" /><text x=\"2532.2597070312504\" y=\"125.0\" dominant-baseline=\"middle\" text-anchor=\"middle\" font-size=\"14px\" font-family=\"Arial\">XX</text><rect x=\"2486.8971875\" y=\"155.0\" width=\"90.72503906250002\" height=\"40\" stroke=\"black\" fill=\"white\" stroke-width=\"1\" /><text x=\"2532.2597070312504\" y=\"175.0\" dominant-baseline=\"middle\" text-anchor=\"middle\" font-size=\"14px\" font-family=\"Arial\">XX^qconv9</text><rect x=\"2597.6222265625\" y=\"105.0\" width=\"81.13421875000002\" height=\"40\" stroke=\"black\" fill=\"white\" stroke-width=\"1\" /><text x=\"2638.1893359375003\" y=\"125.0\" dominant-baseline=\"middle\" text-anchor=\"middle\" font-size=\"14px\" font-family=\"Arial\">X^qconv9</text><rect x=\"2698.7564453125\" y=\"105.0\" width=\"89.50332031250001\" height=\"40\" stroke=\"black\" fill=\"white\" stroke-width=\"1\" /><text x=\"2743.5081054687503\" y=\"125.0\" dominant-baseline=\"middle\" text-anchor=\"middle\" font-size=\"14px\" font-family=\"Arial\">Y^qconv10</text><rect x=\"2808.259765625\" y=\"105.0\" width=\"89.5208203125\" height=\"40\" stroke=\"black\" fill=\"white\" stroke-width=\"1\" /><text x=\"2853.02017578125\" y=\"125.0\" dominant-baseline=\"middle\" text-anchor=\"middle\" font-size=\"14px\" font-family=\"Arial\">Z^qconv11</text><rect x=\"2917.7805859375\" y=\"155.0\" width=\"89.6236328125\" height=\"40\" stroke=\"black\" fill=\"white\" stroke-width=\"1\" /><text x=\"2962.5924023437497\" y=\"175.0\" dominant-baseline=\"middle\" text-anchor=\"middle\" font-size=\"14px\" font-family=\"Arial\">X^qconv12</text><rect x=\"3027.40421875\" y=\"155.0\" width=\"89.3108203125\" height=\"40\" stroke=\"black\" fill=\"white\" stroke-width=\"1\" /><text x=\"3072.05962890625\" y=\"175.0\" dominant-baseline=\"middle\" text-anchor=\"middle\" font-size=\"14px\" font-family=\"Arial\">Y^qconv13</text><rect x=\"3136.7150390624997\" y=\"155.0\" width=\"90.02832031250001\" height=\"40\" stroke=\"black\" fill=\"white\" stroke-width=\"1\" /><text x=\"3181.7291992187497\" y=\"175.0\" dominant-baseline=\"middle\" text-anchor=\"middle\" font-size=\"14px\" font-family=\"Arial\">Z^qconv14</text><rect x=\"3246.7433593749997\" y=\"205.0\" width=\"81.18890625000002\" height=\"40\" stroke=\"black\" fill=\"white\" stroke-width=\"1\" /><text x=\"3287.3378125\" y=\"225.0\" dominant-baseline=\"middle\" text-anchor=\"middle\" font-size=\"14px\" font-family=\"Arial\">X^qconv0</text><rect x=\"3347.9322656249997\" y=\"205.0\" width=\"80.23296875\" height=\"40\" stroke=\"black\" fill=\"white\" stroke-width=\"1\" /><text x=\"3388.0487499999995\" y=\"225.0\" dominant-baseline=\"middle\" text-anchor=\"middle\" font-size=\"14px\" font-family=\"Arial\">Y^qconv1</text><rect x=\"3448.1652343749997\" y=\"205.0\" width=\"80.50421875\" height=\"40\" stroke=\"black\" fill=\"white\" stroke-width=\"1\" /><text x=\"3488.41734375\" y=\"225.0\" dominant-baseline=\"middle\" text-anchor=\"middle\" font-size=\"14px\" font-family=\"Arial\">Z^qconv2</text><rect x=\"3548.6694531249996\" y=\"255.0\" width=\"80.99640625\" height=\"40\" stroke=\"black\" fill=\"white\" stroke-width=\"1\" /><text x=\"3589.1676562499997\" y=\"275.0\" dominant-baseline=\"middle\" text-anchor=\"middle\" font-size=\"14px\" font-family=\"Arial\">X^qconv3</text><rect x=\"3649.6658593749994\" y=\"255.0\" width=\"80.74046875\" height=\"40\" stroke=\"black\" fill=\"white\" stroke-width=\"1\" /><text x=\"3690.0360937499995\" y=\"275.0\" dominant-baseline=\"middle\" text-anchor=\"middle\" font-size=\"14px\" font-family=\"Arial\">Y^qconv4</text><rect x=\"3750.4063281249996\" y=\"255.0\" width=\"80.68359375000001\" height=\"40\" stroke=\"black\" fill=\"white\" stroke-width=\"1\" /><text x=\"3790.7481249999996\" y=\"275.0\" dominant-baseline=\"middle\" text-anchor=\"middle\" font-size=\"14px\" font-family=\"Arial\">Z^qconv5</text><rect x=\"3851.0899218749996\" y=\"205.0\" width=\"90.30066406250002\" height=\"40\" stroke=\"black\" fill=\"white\" stroke-width=\"1\" /><text x=\"3896.2402539062496\" y=\"225.0\" dominant-baseline=\"middle\" text-anchor=\"middle\" font-size=\"14px\" font-family=\"Arial\">ZZ</text><rect x=\"3851.0899218749996\" y=\"255.0\" width=\"90.30066406250002\" height=\"40\" stroke=\"black\" fill=\"white\" stroke-width=\"1\" /><text x=\"3896.2402539062496\" y=\"275.0\" dominant-baseline=\"middle\" text-anchor=\"middle\" font-size=\"14px\" font-family=\"Arial\">ZZ^qconv7</text><rect x=\"3961.3905859374995\" y=\"205.0\" width=\"89.1194140625\" height=\"40\" stroke=\"black\" fill=\"white\" stroke-width=\"1\" /><text x=\"4005.9502929687496\" y=\"225.0\" dominant-baseline=\"middle\" text-anchor=\"middle\" font-size=\"14px\" font-family=\"Arial\">YY</text><rect x=\"3961.3905859374995\" y=\"255.0\" width=\"89.1194140625\" height=\"40\" stroke=\"black\" fill=\"white\" stroke-width=\"1\" /><text x=\"4005.9502929687496\" y=\"275.0\" dominant-baseline=\"middle\" text-anchor=\"middle\" font-size=\"14px\" font-family=\"Arial\">YY^qconv8</text><rect x=\"4070.509999999999\" y=\"205.0\" width=\"90.72503906250002\" height=\"40\" stroke=\"black\" fill=\"white\" stroke-width=\"1\" /><text x=\"4115.872519531249\" y=\"225.0\" dominant-baseline=\"middle\" text-anchor=\"middle\" font-size=\"14px\" font-family=\"Arial\">XX</text><rect x=\"4070.509999999999\" y=\"255.0\" width=\"90.72503906250002\" height=\"40\" stroke=\"black\" fill=\"white\" stroke-width=\"1\" /><text x=\"4115.872519531249\" y=\"275.0\" dominant-baseline=\"middle\" text-anchor=\"middle\" font-size=\"14px\" font-family=\"Arial\">XX^qconv9</text><rect x=\"4181.2350390625\" y=\"205.0\" width=\"81.13421875000002\" height=\"40\" stroke=\"black\" fill=\"white\" stroke-width=\"1\" /><text x=\"4221.802148437499\" y=\"225.0\" dominant-baseline=\"middle\" text-anchor=\"middle\" font-size=\"14px\" font-family=\"Arial\">X^qconv9</text><rect x=\"4282.3692578125\" y=\"205.0\" width=\"89.50332031250001\" height=\"40\" stroke=\"black\" fill=\"white\" stroke-width=\"1\" /><text x=\"4327.12091796875\" y=\"225.0\" dominant-baseline=\"middle\" text-anchor=\"middle\" font-size=\"14px\" font-family=\"Arial\">Y^qconv10</text><rect x=\"4391.8725781250005\" y=\"205.0\" width=\"89.5208203125\" height=\"40\" stroke=\"black\" fill=\"white\" stroke-width=\"1\" /><text x=\"4436.632988281251\" y=\"225.0\" dominant-baseline=\"middle\" text-anchor=\"middle\" font-size=\"14px\" font-family=\"Arial\">Z^qconv11</text><rect x=\"4501.393398437501\" y=\"255.0\" width=\"89.6236328125\" height=\"40\" stroke=\"black\" fill=\"white\" stroke-width=\"1\" /><text x=\"4546.205214843751\" y=\"275.0\" dominant-baseline=\"middle\" text-anchor=\"middle\" font-size=\"14px\" font-family=\"Arial\">X^qconv12</text><rect x=\"4611.01703125\" y=\"255.0\" width=\"89.3108203125\" height=\"40\" stroke=\"black\" fill=\"white\" stroke-width=\"1\" /><text x=\"4655.67244140625\" y=\"275.0\" dominant-baseline=\"middle\" text-anchor=\"middle\" font-size=\"14px\" font-family=\"Arial\">Y^qconv13</text><rect x=\"4720.327851562501\" y=\"255.0\" width=\"90.02832031250001\" height=\"40\" stroke=\"black\" fill=\"white\" stroke-width=\"1\" /><text x=\"4765.342011718751\" y=\"275.0\" dominant-baseline=\"middle\" text-anchor=\"middle\" font-size=\"14px\" font-family=\"Arial\">Z^qconv14</text><rect x=\"4830.356171875001\" y=\"305.0\" width=\"81.18890625000002\" height=\"40\" stroke=\"black\" fill=\"white\" stroke-width=\"1\" /><text x=\"4870.950625\" y=\"325.0\" dominant-baseline=\"middle\" text-anchor=\"middle\" font-size=\"14px\" font-family=\"Arial\">X^qconv0</text><rect x=\"4931.545078125001\" y=\"305.0\" width=\"80.23296875\" height=\"40\" stroke=\"black\" fill=\"white\" stroke-width=\"1\" /><text x=\"4971.661562500001\" y=\"325.0\" dominant-baseline=\"middle\" text-anchor=\"middle\" font-size=\"14px\" font-family=\"Arial\">Y^qconv1</text><rect x=\"5031.778046875001\" y=\"305.0\" width=\"80.50421875\" height=\"40\" stroke=\"black\" fill=\"white\" stroke-width=\"1\" /><text x=\"5072.030156250001\" y=\"325.0\" dominant-baseline=\"middle\" text-anchor=\"middle\" font-size=\"14px\" font-family=\"Arial\">Z^qconv2</text><rect x=\"5132.282265625001\" y=\"355.0\" width=\"80.99640625\" height=\"40\" stroke=\"black\" fill=\"white\" stroke-width=\"1\" /><text x=\"5172.780468750001\" y=\"375.0\" dominant-baseline=\"middle\" text-anchor=\"middle\" font-size=\"14px\" font-family=\"Arial\">X^qconv3</text><rect x=\"5233.278671875001\" y=\"355.0\" width=\"80.74046875\" height=\"40\" stroke=\"black\" fill=\"white\" stroke-width=\"1\" /><text x=\"5273.648906250001\" y=\"375.0\" dominant-baseline=\"middle\" text-anchor=\"middle\" font-size=\"14px\" font-family=\"Arial\">Y^qconv4</text><rect x=\"5334.0191406250015\" y=\"355.0\" width=\"80.68359375000001\" height=\"40\" stroke=\"black\" fill=\"white\" stroke-width=\"1\" /><text x=\"5374.3609375000015\" y=\"375.0\" dominant-baseline=\"middle\" text-anchor=\"middle\" font-size=\"14px\" font-family=\"Arial\">Z^qconv5</text><rect x=\"5434.7027343750015\" y=\"305.0\" width=\"90.30066406250002\" height=\"40\" stroke=\"black\" fill=\"white\" stroke-width=\"1\" /><text x=\"5479.853066406252\" y=\"325.0\" dominant-baseline=\"middle\" text-anchor=\"middle\" font-size=\"14px\" font-family=\"Arial\">ZZ</text><rect x=\"5434.7027343750015\" y=\"355.0\" width=\"90.30066406250002\" height=\"40\" stroke=\"black\" fill=\"white\" stroke-width=\"1\" /><text x=\"5479.853066406252\" y=\"375.0\" dominant-baseline=\"middle\" text-anchor=\"middle\" font-size=\"14px\" font-family=\"Arial\">ZZ^qconv7</text><rect x=\"5545.003398437501\" y=\"305.0\" width=\"89.1194140625\" height=\"40\" stroke=\"black\" fill=\"white\" stroke-width=\"1\" /><text x=\"5589.563105468751\" y=\"325.0\" dominant-baseline=\"middle\" text-anchor=\"middle\" font-size=\"14px\" font-family=\"Arial\">YY</text><rect x=\"5545.003398437501\" y=\"355.0\" width=\"89.1194140625\" height=\"40\" stroke=\"black\" fill=\"white\" stroke-width=\"1\" /><text x=\"5589.563105468751\" y=\"375.0\" dominant-baseline=\"middle\" text-anchor=\"middle\" font-size=\"14px\" font-family=\"Arial\">YY^qconv8</text><rect x=\"5654.122812500002\" y=\"305.0\" width=\"90.72503906250002\" height=\"40\" stroke=\"black\" fill=\"white\" stroke-width=\"1\" /><text x=\"5699.485332031251\" y=\"325.0\" dominant-baseline=\"middle\" text-anchor=\"middle\" font-size=\"14px\" font-family=\"Arial\">XX</text><rect x=\"5654.122812500002\" y=\"355.0\" width=\"90.72503906250002\" height=\"40\" stroke=\"black\" fill=\"white\" stroke-width=\"1\" /><text x=\"5699.485332031251\" y=\"375.0\" dominant-baseline=\"middle\" text-anchor=\"middle\" font-size=\"14px\" font-family=\"Arial\">XX^qconv9</text><rect x=\"5764.847851562502\" y=\"305.0\" width=\"81.13421875000002\" height=\"40\" stroke=\"black\" fill=\"white\" stroke-width=\"1\" /><text x=\"5805.414960937502\" y=\"325.0\" dominant-baseline=\"middle\" text-anchor=\"middle\" font-size=\"14px\" font-family=\"Arial\">X^qconv9</text><rect x=\"5865.982070312502\" y=\"305.0\" width=\"89.50332031250001\" height=\"40\" stroke=\"black\" fill=\"white\" stroke-width=\"1\" /><text x=\"5910.733730468753\" y=\"325.0\" dominant-baseline=\"middle\" text-anchor=\"middle\" font-size=\"14px\" font-family=\"Arial\">Y^qconv10</text><rect x=\"5975.485390625003\" y=\"305.0\" width=\"89.5208203125\" height=\"40\" stroke=\"black\" fill=\"white\" stroke-width=\"1\" /><text x=\"6020.245800781253\" y=\"325.0\" dominant-baseline=\"middle\" text-anchor=\"middle\" font-size=\"14px\" font-family=\"Arial\">Z^qconv11</text><rect x=\"6085.006210937503\" y=\"355.0\" width=\"89.6236328125\" height=\"40\" stroke=\"black\" fill=\"white\" stroke-width=\"1\" /><text x=\"6129.818027343753\" y=\"375.0\" dominant-baseline=\"middle\" text-anchor=\"middle\" font-size=\"14px\" font-family=\"Arial\">X^qconv12</text><rect x=\"6194.629843750003\" y=\"355.0\" width=\"89.3108203125\" height=\"40\" stroke=\"black\" fill=\"white\" stroke-width=\"1\" /><text x=\"6239.285253906252\" y=\"375.0\" dominant-baseline=\"middle\" text-anchor=\"middle\" font-size=\"14px\" font-family=\"Arial\">Y^qconv13</text><rect x=\"6303.940664062503\" y=\"355.0\" width=\"90.02832031250001\" height=\"40\" stroke=\"black\" fill=\"white\" stroke-width=\"1\" /><text x=\"6348.954824218753\" y=\"375.0\" dominant-baseline=\"middle\" text-anchor=\"middle\" font-size=\"14px\" font-family=\"Arial\">Z^qconv14</text><rect x=\"6413.968984375003\" y=\"55.0\" width=\"81.18890625000002\" height=\"40\" stroke=\"black\" fill=\"white\" stroke-width=\"1\" /><text x=\"6454.563437500003\" y=\"75.0\" dominant-baseline=\"middle\" text-anchor=\"middle\" font-size=\"14px\" font-family=\"Arial\">X^qconv0</text><rect x=\"6515.157890625003\" y=\"55.0\" width=\"80.23296875\" height=\"40\" stroke=\"black\" fill=\"white\" stroke-width=\"1\" /><text x=\"6555.274375000004\" y=\"75.0\" dominant-baseline=\"middle\" text-anchor=\"middle\" font-size=\"14px\" font-family=\"Arial\">Y^qconv1</text><rect x=\"6615.390859375003\" y=\"55.0\" width=\"80.50421875\" height=\"40\" stroke=\"black\" fill=\"white\" stroke-width=\"1\" /><text x=\"6655.642968750003\" y=\"75.0\" dominant-baseline=\"middle\" text-anchor=\"middle\" font-size=\"14px\" font-family=\"Arial\">Z^qconv2</text><rect x=\"6715.895078125003\" y=\"105.0\" width=\"80.99640625\" height=\"40\" stroke=\"black\" fill=\"white\" stroke-width=\"1\" /><text x=\"6756.393281250003\" y=\"125.0\" dominant-baseline=\"middle\" text-anchor=\"middle\" font-size=\"14px\" font-family=\"Arial\">X^qconv3</text><rect x=\"6816.8914843750035\" y=\"105.0\" width=\"80.74046875\" height=\"40\" stroke=\"black\" fill=\"white\" stroke-width=\"1\" /><text x=\"6857.261718750004\" y=\"125.0\" dominant-baseline=\"middle\" text-anchor=\"middle\" font-size=\"14px\" font-family=\"Arial\">Y^qconv4</text><rect x=\"6917.631953125004\" y=\"105.0\" width=\"80.68359375000001\" height=\"40\" stroke=\"black\" fill=\"white\" stroke-width=\"1\" /><text x=\"6957.973750000004\" y=\"125.0\" dominant-baseline=\"middle\" text-anchor=\"middle\" font-size=\"14px\" font-family=\"Arial\">Z^qconv5</text><rect x=\"7018.315546875004\" y=\"55.0\" width=\"90.30066406250002\" height=\"40\" stroke=\"black\" fill=\"white\" stroke-width=\"1\" /><text x=\"7063.465878906254\" y=\"75.0\" dominant-baseline=\"middle\" text-anchor=\"middle\" font-size=\"14px\" font-family=\"Arial\">ZZ</text><rect x=\"7018.315546875004\" y=\"105.0\" width=\"90.30066406250002\" height=\"40\" stroke=\"black\" fill=\"white\" stroke-width=\"1\" /><text x=\"7063.465878906254\" y=\"125.0\" dominant-baseline=\"middle\" text-anchor=\"middle\" font-size=\"14px\" font-family=\"Arial\">ZZ^qconv7</text><rect x=\"7128.616210937504\" y=\"55.0\" width=\"89.1194140625\" height=\"40\" stroke=\"black\" fill=\"white\" stroke-width=\"1\" /><text x=\"7173.175917968753\" y=\"75.0\" dominant-baseline=\"middle\" text-anchor=\"middle\" font-size=\"14px\" font-family=\"Arial\">YY</text><rect x=\"7128.616210937504\" y=\"105.0\" width=\"89.1194140625\" height=\"40\" stroke=\"black\" fill=\"white\" stroke-width=\"1\" /><text x=\"7173.175917968753\" y=\"125.0\" dominant-baseline=\"middle\" text-anchor=\"middle\" font-size=\"14px\" font-family=\"Arial\">YY^qconv8</text><rect x=\"7237.735625000004\" y=\"55.0\" width=\"90.72503906250002\" height=\"40\" stroke=\"black\" fill=\"white\" stroke-width=\"1\" /><text x=\"7283.098144531254\" y=\"75.0\" dominant-baseline=\"middle\" text-anchor=\"middle\" font-size=\"14px\" font-family=\"Arial\">XX</text><rect x=\"7237.735625000004\" y=\"105.0\" width=\"90.72503906250002\" height=\"40\" stroke=\"black\" fill=\"white\" stroke-width=\"1\" /><text x=\"7283.098144531254\" y=\"125.0\" dominant-baseline=\"middle\" text-anchor=\"middle\" font-size=\"14px\" font-family=\"Arial\">XX^qconv9</text><rect x=\"7348.460664062504\" y=\"55.0\" width=\"81.13421875000002\" height=\"40\" stroke=\"black\" fill=\"white\" stroke-width=\"1\" /><text x=\"7389.027773437504\" y=\"75.0\" dominant-baseline=\"middle\" text-anchor=\"middle\" font-size=\"14px\" font-family=\"Arial\">X^qconv9</text><rect x=\"7449.594882812505\" y=\"55.0\" width=\"89.50332031250001\" height=\"40\" stroke=\"black\" fill=\"white\" stroke-width=\"1\" /><text x=\"7494.346542968755\" y=\"75.0\" dominant-baseline=\"middle\" text-anchor=\"middle\" font-size=\"14px\" font-family=\"Arial\">Y^qconv10</text><rect x=\"7559.098203125005\" y=\"55.0\" width=\"89.5208203125\" height=\"40\" stroke=\"black\" fill=\"white\" stroke-width=\"1\" /><text x=\"7603.858613281255\" y=\"75.0\" dominant-baseline=\"middle\" text-anchor=\"middle\" font-size=\"14px\" font-family=\"Arial\">Z^qconv11</text><rect x=\"7668.619023437505\" y=\"105.0\" width=\"89.6236328125\" height=\"40\" stroke=\"black\" fill=\"white\" stroke-width=\"1\" /><text x=\"7713.430839843755\" y=\"125.0\" dominant-baseline=\"middle\" text-anchor=\"middle\" font-size=\"14px\" font-family=\"Arial\">X^qconv12</text><rect x=\"7778.242656250005\" y=\"105.0\" width=\"89.3108203125\" height=\"40\" stroke=\"black\" fill=\"white\" stroke-width=\"1\" /><text x=\"7822.898066406255\" y=\"125.0\" dominant-baseline=\"middle\" text-anchor=\"middle\" font-size=\"14px\" font-family=\"Arial\">Y^qconv13</text><rect x=\"7887.553476562505\" y=\"105.0\" width=\"90.02832031250001\" height=\"40\" stroke=\"black\" fill=\"white\" stroke-width=\"1\" /><text x=\"7932.567636718755\" y=\"125.0\" dominant-baseline=\"middle\" text-anchor=\"middle\" font-size=\"14px\" font-family=\"Arial\">Z^qconv14</text><rect x=\"7997.581796875005\" y=\"155.0\" width=\"81.18890625000002\" height=\"40\" stroke=\"black\" fill=\"white\" stroke-width=\"1\" /><text x=\"8038.176250000005\" y=\"175.0\" dominant-baseline=\"middle\" text-anchor=\"middle\" font-size=\"14px\" font-family=\"Arial\">X^qconv0</text><rect x=\"8098.770703125006\" y=\"155.0\" width=\"80.23296875\" height=\"40\" stroke=\"black\" fill=\"white\" stroke-width=\"1\" /><text x=\"8138.887187500006\" y=\"175.0\" dominant-baseline=\"middle\" text-anchor=\"middle\" font-size=\"14px\" font-family=\"Arial\">Y^qconv1</text><rect x=\"8199.003671875005\" y=\"155.0\" width=\"80.50421875\" height=\"40\" stroke=\"black\" fill=\"white\" stroke-width=\"1\" /><text x=\"8239.255781250005\" y=\"175.0\" dominant-baseline=\"middle\" text-anchor=\"middle\" font-size=\"14px\" font-family=\"Arial\">Z^qconv2</text><rect x=\"8299.507890625006\" y=\"205.0\" width=\"80.99640625\" height=\"40\" stroke=\"black\" fill=\"white\" stroke-width=\"1\" /><text x=\"8340.006093750006\" y=\"225.0\" dominant-baseline=\"middle\" text-anchor=\"middle\" font-size=\"14px\" font-family=\"Arial\">X^qconv3</text><rect x=\"8400.504296875006\" y=\"205.0\" width=\"80.74046875\" height=\"40\" stroke=\"black\" fill=\"white\" stroke-width=\"1\" /><text x=\"8440.874531250005\" y=\"225.0\" dominant-baseline=\"middle\" text-anchor=\"middle\" font-size=\"14px\" font-family=\"Arial\">Y^qconv4</text><rect x=\"8501.244765625006\" y=\"205.0\" width=\"80.68359375000001\" height=\"40\" stroke=\"black\" fill=\"white\" stroke-width=\"1\" /><text x=\"8541.586562500006\" y=\"225.0\" dominant-baseline=\"middle\" text-anchor=\"middle\" font-size=\"14px\" font-family=\"Arial\">Z^qconv5</text><rect x=\"8601.928359375006\" y=\"155.0\" width=\"90.30066406250002\" height=\"40\" stroke=\"black\" fill=\"white\" stroke-width=\"1\" /><text x=\"8647.078691406256\" y=\"175.0\" dominant-baseline=\"middle\" text-anchor=\"middle\" font-size=\"14px\" font-family=\"Arial\">ZZ</text><rect x=\"8601.928359375006\" y=\"205.0\" width=\"90.30066406250002\" height=\"40\" stroke=\"black\" fill=\"white\" stroke-width=\"1\" /><text x=\"8647.078691406256\" y=\"225.0\" dominant-baseline=\"middle\" text-anchor=\"middle\" font-size=\"14px\" font-family=\"Arial\">ZZ^qconv7</text><rect x=\"8712.229023437507\" y=\"155.0\" width=\"89.1194140625\" height=\"40\" stroke=\"black\" fill=\"white\" stroke-width=\"1\" /><text x=\"8756.788730468757\" y=\"175.0\" dominant-baseline=\"middle\" text-anchor=\"middle\" font-size=\"14px\" font-family=\"Arial\">YY</text><rect x=\"8712.229023437507\" y=\"205.0\" width=\"89.1194140625\" height=\"40\" stroke=\"black\" fill=\"white\" stroke-width=\"1\" /><text x=\"8756.788730468757\" y=\"225.0\" dominant-baseline=\"middle\" text-anchor=\"middle\" font-size=\"14px\" font-family=\"Arial\">YY^qconv8</text><rect x=\"8821.348437500006\" y=\"155.0\" width=\"90.72503906250002\" height=\"40\" stroke=\"black\" fill=\"white\" stroke-width=\"1\" /><text x=\"8866.710957031257\" y=\"175.0\" dominant-baseline=\"middle\" text-anchor=\"middle\" font-size=\"14px\" font-family=\"Arial\">XX</text><rect x=\"8821.348437500006\" y=\"205.0\" width=\"90.72503906250002\" height=\"40\" stroke=\"black\" fill=\"white\" stroke-width=\"1\" /><text x=\"8866.710957031257\" y=\"225.0\" dominant-baseline=\"middle\" text-anchor=\"middle\" font-size=\"14px\" font-family=\"Arial\">XX^qconv9</text><rect x=\"8932.073476562506\" y=\"155.0\" width=\"81.13421875000002\" height=\"40\" stroke=\"black\" fill=\"white\" stroke-width=\"1\" /><text x=\"8972.640585937506\" y=\"175.0\" dominant-baseline=\"middle\" text-anchor=\"middle\" font-size=\"14px\" font-family=\"Arial\">X^qconv9</text><rect x=\"9033.207695312505\" y=\"155.0\" width=\"89.50332031250001\" height=\"40\" stroke=\"black\" fill=\"white\" stroke-width=\"1\" /><text x=\"9077.959355468754\" y=\"175.0\" dominant-baseline=\"middle\" text-anchor=\"middle\" font-size=\"14px\" font-family=\"Arial\">Y^qconv10</text><rect x=\"9142.711015625006\" y=\"155.0\" width=\"89.5208203125\" height=\"40\" stroke=\"black\" fill=\"white\" stroke-width=\"1\" /><text x=\"9187.471425781256\" y=\"175.0\" dominant-baseline=\"middle\" text-anchor=\"middle\" font-size=\"14px\" font-family=\"Arial\">Z^qconv11</text><rect x=\"9252.231835937506\" y=\"205.0\" width=\"89.6236328125\" height=\"40\" stroke=\"black\" fill=\"white\" stroke-width=\"1\" /><text x=\"9297.043652343757\" y=\"225.0\" dominant-baseline=\"middle\" text-anchor=\"middle\" font-size=\"14px\" font-family=\"Arial\">X^qconv12</text><rect x=\"9361.855468750005\" y=\"205.0\" width=\"89.3108203125\" height=\"40\" stroke=\"black\" fill=\"white\" stroke-width=\"1\" /><text x=\"9406.510878906256\" y=\"225.0\" dominant-baseline=\"middle\" text-anchor=\"middle\" font-size=\"14px\" font-family=\"Arial\">Y^qconv13</text><rect x=\"9471.166289062505\" y=\"205.0\" width=\"90.02832031250001\" height=\"40\" stroke=\"black\" fill=\"white\" stroke-width=\"1\" /><text x=\"9516.180449218755\" y=\"225.0\" dominant-baseline=\"middle\" text-anchor=\"middle\" font-size=\"14px\" font-family=\"Arial\">Z^qconv14</text><rect x=\"9581.194609375005\" y=\"255.0\" width=\"81.18890625000002\" height=\"40\" stroke=\"black\" fill=\"white\" stroke-width=\"1\" /><text x=\"9621.789062500005\" y=\"275.0\" dominant-baseline=\"middle\" text-anchor=\"middle\" font-size=\"14px\" font-family=\"Arial\">X^qconv0</text><rect x=\"9682.383515625004\" y=\"255.0\" width=\"80.23296875\" height=\"40\" stroke=\"black\" fill=\"white\" stroke-width=\"1\" /><text x=\"9722.500000000004\" y=\"275.0\" dominant-baseline=\"middle\" text-anchor=\"middle\" font-size=\"14px\" font-family=\"Arial\">Y^qconv1</text><rect x=\"9782.616484375005\" y=\"255.0\" width=\"80.50421875\" height=\"40\" stroke=\"black\" fill=\"white\" stroke-width=\"1\" /><text x=\"9822.868593750005\" y=\"275.0\" dominant-baseline=\"middle\" text-anchor=\"middle\" font-size=\"14px\" font-family=\"Arial\">Z^qconv2</text><rect x=\"9883.120703125005\" y=\"305.0\" width=\"80.99640625\" height=\"40\" stroke=\"black\" fill=\"white\" stroke-width=\"1\" /><text x=\"9923.618906250005\" y=\"325.0\" dominant-baseline=\"middle\" text-anchor=\"middle\" font-size=\"14px\" font-family=\"Arial\">X^qconv3</text><rect x=\"9984.117109375005\" y=\"305.0\" width=\"80.74046875\" height=\"40\" stroke=\"black\" fill=\"white\" stroke-width=\"1\" /><text x=\"10024.487343750005\" y=\"325.0\" dominant-baseline=\"middle\" text-anchor=\"middle\" font-size=\"14px\" font-family=\"Arial\">Y^qconv4</text><rect x=\"10084.857578125006\" y=\"305.0\" width=\"80.68359375000001\" height=\"40\" stroke=\"black\" fill=\"white\" stroke-width=\"1\" /><text x=\"10125.199375000006\" y=\"325.0\" dominant-baseline=\"middle\" text-anchor=\"middle\" font-size=\"14px\" font-family=\"Arial\">Z^qconv5</text><rect x=\"10185.541171875006\" y=\"255.0\" width=\"90.30066406250002\" height=\"40\" stroke=\"black\" fill=\"white\" stroke-width=\"1\" /><text x=\"10230.691503906255\" y=\"275.0\" dominant-baseline=\"middle\" text-anchor=\"middle\" font-size=\"14px\" font-family=\"Arial\">ZZ</text><rect x=\"10185.541171875006\" y=\"305.0\" width=\"90.30066406250002\" height=\"40\" stroke=\"black\" fill=\"white\" stroke-width=\"1\" /><text x=\"10230.691503906255\" y=\"325.0\" dominant-baseline=\"middle\" text-anchor=\"middle\" font-size=\"14px\" font-family=\"Arial\">ZZ^qconv7</text><rect x=\"10295.841835937506\" y=\"255.0\" width=\"89.1194140625\" height=\"40\" stroke=\"black\" fill=\"white\" stroke-width=\"1\" /><text x=\"10340.401542968757\" y=\"275.0\" dominant-baseline=\"middle\" text-anchor=\"middle\" font-size=\"14px\" font-family=\"Arial\">YY</text><rect x=\"10295.841835937506\" y=\"305.0\" width=\"89.1194140625\" height=\"40\" stroke=\"black\" fill=\"white\" stroke-width=\"1\" /><text x=\"10340.401542968757\" y=\"325.0\" dominant-baseline=\"middle\" text-anchor=\"middle\" font-size=\"14px\" font-family=\"Arial\">YY^qconv8</text><rect x=\"10404.961250000006\" y=\"255.0\" width=\"90.72503906250002\" height=\"40\" stroke=\"black\" fill=\"white\" stroke-width=\"1\" /><text x=\"10450.323769531256\" y=\"275.0\" dominant-baseline=\"middle\" text-anchor=\"middle\" font-size=\"14px\" font-family=\"Arial\">XX</text><rect x=\"10404.961250000006\" y=\"305.0\" width=\"90.72503906250002\" height=\"40\" stroke=\"black\" fill=\"white\" stroke-width=\"1\" /><text x=\"10450.323769531256\" y=\"325.0\" dominant-baseline=\"middle\" text-anchor=\"middle\" font-size=\"14px\" font-family=\"Arial\">XX^qconv9</text><rect x=\"10515.686289062505\" y=\"255.0\" width=\"81.13421875000002\" height=\"40\" stroke=\"black\" fill=\"white\" stroke-width=\"1\" /><text x=\"10556.253398437506\" y=\"275.0\" dominant-baseline=\"middle\" text-anchor=\"middle\" font-size=\"14px\" font-family=\"Arial\">X^qconv9</text><rect x=\"10616.820507812505\" y=\"255.0\" width=\"89.50332031250001\" height=\"40\" stroke=\"black\" fill=\"white\" stroke-width=\"1\" /><text x=\"10661.572167968754\" y=\"275.0\" dominant-baseline=\"middle\" text-anchor=\"middle\" font-size=\"14px\" font-family=\"Arial\">Y^qconv10</text><rect x=\"10726.323828125005\" y=\"255.0\" width=\"89.5208203125\" height=\"40\" stroke=\"black\" fill=\"white\" stroke-width=\"1\" /><text x=\"10771.084238281255\" y=\"275.0\" dominant-baseline=\"middle\" text-anchor=\"middle\" font-size=\"14px\" font-family=\"Arial\">Z^qconv11</text><rect x=\"10835.844648437505\" y=\"305.0\" width=\"89.6236328125\" height=\"40\" stroke=\"black\" fill=\"white\" stroke-width=\"1\" /><text x=\"10880.656464843756\" y=\"325.0\" dominant-baseline=\"middle\" text-anchor=\"middle\" font-size=\"14px\" font-family=\"Arial\">X^qconv12</text><rect x=\"10945.468281250005\" y=\"305.0\" width=\"89.3108203125\" height=\"40\" stroke=\"black\" fill=\"white\" stroke-width=\"1\" /><text x=\"10990.123691406256\" y=\"325.0\" dominant-baseline=\"middle\" text-anchor=\"middle\" font-size=\"14px\" font-family=\"Arial\">Y^qconv13</text><rect x=\"11054.779101562504\" y=\"305.0\" width=\"90.02832031250001\" height=\"40\" stroke=\"black\" fill=\"white\" stroke-width=\"1\" /><text x=\"11099.793261718754\" y=\"325.0\" dominant-baseline=\"middle\" text-anchor=\"middle\" font-size=\"14px\" font-family=\"Arial\">Z^qconv14</text><rect x=\"11164.807421875004\" y=\"355.0\" width=\"81.18890625000002\" height=\"40\" stroke=\"black\" fill=\"white\" stroke-width=\"1\" /><text x=\"11205.401875000005\" y=\"375.0\" dominant-baseline=\"middle\" text-anchor=\"middle\" font-size=\"14px\" font-family=\"Arial\">X^qconv0</text><rect x=\"11265.996328125004\" y=\"355.0\" width=\"80.23296875\" height=\"40\" stroke=\"black\" fill=\"white\" stroke-width=\"1\" /><text x=\"11306.112812500003\" y=\"375.0\" dominant-baseline=\"middle\" text-anchor=\"middle\" font-size=\"14px\" font-family=\"Arial\">Y^qconv1</text><rect x=\"11366.229296875004\" y=\"355.0\" width=\"80.50421875\" height=\"40\" stroke=\"black\" fill=\"white\" stroke-width=\"1\" /><text x=\"11406.481406250005\" y=\"375.0\" dominant-baseline=\"middle\" text-anchor=\"middle\" font-size=\"14px\" font-family=\"Arial\">Z^qconv2</text><rect x=\"11466.733515625005\" y=\"5.0\" width=\"80.99640625\" height=\"40\" stroke=\"black\" fill=\"white\" stroke-width=\"1\" /><text x=\"11507.231718750005\" y=\"25.0\" dominant-baseline=\"middle\" text-anchor=\"middle\" font-size=\"14px\" font-family=\"Arial\">X^qconv3</text><rect x=\"11567.729921875005\" y=\"5.0\" width=\"80.74046875\" height=\"40\" stroke=\"black\" fill=\"white\" stroke-width=\"1\" /><text x=\"11608.100156250004\" y=\"25.0\" dominant-baseline=\"middle\" text-anchor=\"middle\" font-size=\"14px\" font-family=\"Arial\">Y^qconv4</text><rect x=\"11668.470390625005\" y=\"5.0\" width=\"80.68359375000001\" height=\"40\" stroke=\"black\" fill=\"white\" stroke-width=\"1\" /><text x=\"11708.812187500005\" y=\"25.0\" dominant-baseline=\"middle\" text-anchor=\"middle\" font-size=\"14px\" font-family=\"Arial\">Z^qconv5</text><rect x=\"11769.153984375005\" y=\"355.0\" width=\"90.30066406250002\" height=\"40\" stroke=\"black\" fill=\"white\" stroke-width=\"1\" /><text x=\"11814.304316406255\" y=\"375.0\" dominant-baseline=\"middle\" text-anchor=\"middle\" font-size=\"14px\" font-family=\"Arial\">ZZ^qconv7</text><rect x=\"11769.153984375005\" y=\"5.0\" width=\"90.30066406250002\" height=\"40\" stroke=\"black\" fill=\"white\" stroke-width=\"1\" /><text x=\"11814.304316406255\" y=\"25.0\" dominant-baseline=\"middle\" text-anchor=\"middle\" font-size=\"14px\" font-family=\"Arial\">ZZ</text><rect x=\"11879.454648437506\" y=\"355.0\" width=\"89.1194140625\" height=\"40\" stroke=\"black\" fill=\"white\" stroke-width=\"1\" /><text x=\"11924.014355468757\" y=\"375.0\" dominant-baseline=\"middle\" text-anchor=\"middle\" font-size=\"14px\" font-family=\"Arial\">YY^qconv8</text><rect x=\"11879.454648437506\" y=\"5.0\" width=\"89.1194140625\" height=\"40\" stroke=\"black\" fill=\"white\" stroke-width=\"1\" /><text x=\"11924.014355468757\" y=\"25.0\" dominant-baseline=\"middle\" text-anchor=\"middle\" font-size=\"14px\" font-family=\"Arial\">YY</text><rect x=\"11988.574062500005\" y=\"355.0\" width=\"90.72503906250002\" height=\"40\" stroke=\"black\" fill=\"white\" stroke-width=\"1\" /><text x=\"12033.936582031256\" y=\"375.0\" dominant-baseline=\"middle\" text-anchor=\"middle\" font-size=\"14px\" font-family=\"Arial\">XX^qconv9</text><rect x=\"11988.574062500005\" y=\"5.0\" width=\"90.72503906250002\" height=\"40\" stroke=\"black\" fill=\"white\" stroke-width=\"1\" /><text x=\"12033.936582031256\" y=\"25.0\" dominant-baseline=\"middle\" text-anchor=\"middle\" font-size=\"14px\" font-family=\"Arial\">XX</text><rect x=\"12099.299101562505\" y=\"355.0\" width=\"81.13421875000002\" height=\"40\" stroke=\"black\" fill=\"white\" stroke-width=\"1\" /><text x=\"12139.866210937505\" y=\"375.0\" dominant-baseline=\"middle\" text-anchor=\"middle\" font-size=\"14px\" font-family=\"Arial\">X^qconv9</text><rect x=\"12200.433320312504\" y=\"355.0\" width=\"89.50332031250001\" height=\"40\" stroke=\"black\" fill=\"white\" stroke-width=\"1\" /><text x=\"12245.184980468754\" y=\"375.0\" dominant-baseline=\"middle\" text-anchor=\"middle\" font-size=\"14px\" font-family=\"Arial\">Y^qconv10</text><rect x=\"12309.936640625005\" y=\"355.0\" width=\"89.5208203125\" height=\"40\" stroke=\"black\" fill=\"white\" stroke-width=\"1\" /><text x=\"12354.697050781255\" y=\"375.0\" dominant-baseline=\"middle\" text-anchor=\"middle\" font-size=\"14px\" font-family=\"Arial\">Z^qconv11</text><rect x=\"12419.457460937505\" y=\"5.0\" width=\"89.6236328125\" height=\"40\" stroke=\"black\" fill=\"white\" stroke-width=\"1\" /><text x=\"12464.269277343756\" y=\"25.0\" dominant-baseline=\"middle\" text-anchor=\"middle\" font-size=\"14px\" font-family=\"Arial\">X^qconv12</text><rect x=\"12529.081093750005\" y=\"5.0\" width=\"89.3108203125\" height=\"40\" stroke=\"black\" fill=\"white\" stroke-width=\"1\" /><text x=\"12573.736503906255\" y=\"25.0\" dominant-baseline=\"middle\" text-anchor=\"middle\" font-size=\"14px\" font-family=\"Arial\">Y^qconv13</text><rect x=\"12638.391914062504\" y=\"5.0\" width=\"90.02832031250001\" height=\"40\" stroke=\"black\" fill=\"white\" stroke-width=\"1\" /><text x=\"12683.406074218754\" y=\"25.0\" dominant-baseline=\"middle\" text-anchor=\"middle\" font-size=\"14px\" font-family=\"Arial\">Z^qconv14</text></svg>"
          },
          "metadata": {},
          "execution_count": 65
        }
      ],
      "source": [
        "SVGCircuit(xxx)"
      ]
    },
    {
      "cell_type": "code",
      "execution_count": null,
      "metadata": {
        "id": "RAAXQhlRi2vu"
      },
      "outputs": [],
      "source": [
        "def quantum_conv_circuit(bits, symbols):\n",
        "    circuit = cirq.Circuit()\n",
        "    for first, second in zip(bits[0::2], bits[1::2]):\n",
        "        circuit += two_qubit_unitary([first, second], symbols)\n",
        "    for first, second in zip(bits[1::2], bits[2::2] + [bits[0]]):\n",
        "        circuit += two_qubit_unitary([first, second], symbols)\n",
        "    return circuit"
      ]
    },
    {
      "cell_type": "code",
      "execution_count": null,
      "metadata": {
        "id": "yID05P5Ri2vu",
        "colab": {
          "base_uri": "https://localhost:8080/"
        },
        "outputId": "23ce0752-5c67-4126-fc10-8472dd3d953a"
      },
      "outputs": [
        {
          "output_type": "execute_result",
          "data": {
            "text/plain": [
              "cirq.GridQubit(0, 0)"
            ]
          },
          "metadata": {},
          "execution_count": 67
        }
      ],
      "source": [
        "cirq.GridQubit.rect(1, 8)[0::2][0]"
      ]
    },
    {
      "cell_type": "code",
      "execution_count": null,
      "metadata": {
        "id": "a0L_DSxci2vu"
      },
      "outputs": [],
      "source": [
        "def quantum_pool_circuit(source_bits, sink_bits, symbols):\n",
        "    circuit = cirq.Circuit()\n",
        "    for source, sink in zip(source_bits, sink_bits):\n",
        "        circuit += two_qubit_pool(source, sink, symbols)\n",
        "    return circuit"
      ]
    },
    {
      "cell_type": "code",
      "execution_count": null,
      "metadata": {
        "id": "D2eyFLI-i2vv",
        "colab": {
          "base_uri": "https://localhost:8080/",
          "height": 232
        },
        "outputId": "383294d0-d8e2-4465-c787-51f389e6ba70"
      },
      "outputs": [
        {
          "output_type": "execute_result",
          "data": {
            "image/png": "[encoded data removed]",
            "text/plain": [
              "<IPython.core.display.Image object>"
            ]
          },
          "metadata": {},
          "execution_count": 69
        }
      ],
      "source": [
        "def create_model_circuit(qubits):\n",
        "    model_circuit = cirq.Circuit()\n",
        "    symbols = sympy.symbols('qconv0:21')\n",
        "    model_circuit += quantum_conv_circuit(qubits, symbols[0:15])\n",
        "    model_circuit += quantum_pool_circuit(qubits[:4], qubits[4:],\n",
        "                                          symbols[15:21])\n",
        "    return model_circuit\n",
        "\n",
        "\n",
        "cluster_state_bits = cirq.GridQubit.rect(1, 8)\n",
        "readout_operators = cirq.Z(cluster_state_bits[-1])\n",
        "\n",
        "excitation_input = tf.keras.Input(shape=(), dtype=tf.dtypes.string)\n",
        "cluster_state = tfq.layers.AddCircuit()(\n",
        "    excitation_input, prepend=cluster_state_circuit(cluster_state_bits))\n",
        "\n",
        "quantum_model = tfq.layers.PQC(create_model_circuit(cluster_state_bits),\n",
        "                               readout_operators)(cluster_state)\n",
        "\n",
        "qcnn_model = tf.keras.Model(inputs=[excitation_input], outputs=[quantum_model])\n",
        "\n",
        "tf.keras.utils.plot_model(qcnn_model,\n",
        "                          show_shapes=True,\n",
        "                          show_layer_names=False,\n",
        "                          dpi=70)"
      ]
    },
    {
      "cell_type": "code",
      "execution_count": null,
      "metadata": {
        "id": "NZ_aucK8i2vv",
        "colab": {
          "base_uri": "https://localhost:8080/"
        },
        "outputId": "92086f13-89a8-4066-9382-3cec5c25d092"
      },
      "outputs": [
        {
          "output_type": "stream",
          "name": "stdout",
          "text": [
            "Model: \"model\"\n",
            "_________________________________________________________________\n",
            " Layer (type)                Output Shape              Param #   \n",
            "=================================================================\n",
            " input_2 (InputLayer)        [(None,)]                 0         \n",
            "                                                                 \n",
            " add_circuit_1 (AddCircuit)  (None,)                   0         \n",
            "                                                                 \n",
            " pqc_1 (PQC)                 (None, 1)                 20        \n",
            "                                                                 \n",
            "=================================================================\n",
            "Total params: 20\n",
            "Trainable params: 20\n",
            "Non-trainable params: 0\n",
            "_________________________________________________________________\n"
          ]
        }
      ],
      "source": [
        "qcnn_model.summary()"
      ]
    },
    {
      "cell_type": "code",
      "execution_count": null,
      "metadata": {
        "id": "1Jnjaz2Ti2vv"
      },
      "outputs": [],
      "source": [
        "def generate_data(qubits):\n",
        "    n_rounds = 20  # Produces n_rounds * n_qubits datapoints.\n",
        "    excitations = []\n",
        "    labels = []\n",
        "    for n in range(n_rounds):\n",
        "        for bit in qubits:\n",
        "            rng = np.random.uniform(-np.pi, np.pi)\n",
        "            excitations.append(cirq.Circuit(cirq.rx(rng)(bit)))\n",
        "            labels.append(1 if (-np.pi / 2) <= rng <= (np.pi / 2) else -1)\n",
        "\n",
        "    split_ind = int(len(excitations) * 0.7)\n",
        "    train_excitations = excitations[:split_ind]\n",
        "    test_excitations = excitations[split_ind:]\n",
        "\n",
        "    train_labels = labels[:split_ind]\n",
        "    test_labels = labels[split_ind:]\n",
        "\n",
        "    return tfq.convert_to_tensor(train_excitations), np.array(train_labels), \\\n",
        "        tfq.convert_to_tensor(test_excitations), np.array(test_labels)"
      ]
    },
    {
      "cell_type": "code",
      "execution_count": null,
      "metadata": {
        "id": "OxxUJ6yLi2vv"
      },
      "outputs": [],
      "source": [
        "train_excitations, train_labels, test_excitations, test_labels = generate_data(cluster_state_bits)"
      ]
    },
    {
      "cell_type": "code",
      "source": [
        "len(x_train_circuit_tensor)"
      ],
      "metadata": {
        "colab": {
          "base_uri": "https://localhost:8080/"
        },
        "id": "guzgpJS5t8ol",
        "outputId": "a42a717e-6e0c-45a3-9b59-4979c593e413"
      },
      "execution_count": null,
      "outputs": [
        {
          "output_type": "execute_result",
          "data": {
            "text/plain": [
              "878"
            ]
          },
          "metadata": {},
          "execution_count": 73
        }
      ]
    },
    {
      "cell_type": "code",
      "source": [
        "len(y_train_hinge_subset)"
      ],
      "metadata": {
        "colab": {
          "base_uri": "https://localhost:8080/"
        },
        "id": "dvTgz2Hmt8dZ",
        "outputId": "520b5a08-1127-4a3d-c2dd-d9a73244ae77"
      },
      "execution_count": null,
      "outputs": [
        {
          "output_type": "execute_result",
          "data": {
            "text/plain": [
              "878"
            ]
          },
          "metadata": {},
          "execution_count": 74
        }
      ]
    },
    {
      "cell_type": "code",
      "execution_count": null,
      "metadata": {
        "id": "URUVoZ4Vi2vv",
        "colab": {
          "base_uri": "https://localhost:8080/"
        },
        "outputId": "ec4fe856-92ba-434a-850c-3320a25c4761"
      },
      "outputs": [
        {
          "output_type": "stream",
          "name": "stdout",
          "text": [
            "Epoch 1/20\n",
            "19/19 [==============================] - 23s 1s/step - loss: 0.9553 - measure_hinge_accuracy: 0.6206 - val_loss: 0.6001 - val_measure_hinge_accuracy: 0.5748\n",
            "Epoch 2/20\n",
            "19/19 [==============================] - 19s 1s/step - loss: 0.9426 - measure_hinge_accuracy: 0.6209 - val_loss: 0.6140 - val_measure_hinge_accuracy: 0.5301\n",
            "Epoch 3/20\n",
            "19/19 [==============================] - 19s 1s/step - loss: 0.9374 - measure_hinge_accuracy: 0.6283 - val_loss: 0.5951 - val_measure_hinge_accuracy: 0.5748\n",
            "Epoch 4/20\n",
            "19/19 [==============================] - 19s 1s/step - loss: 0.9552 - measure_hinge_accuracy: 0.6162 - val_loss: 0.5853 - val_measure_hinge_accuracy: 0.5723\n",
            "Epoch 5/20\n",
            "19/19 [==============================] - 19s 1s/step - loss: 0.9242 - measure_hinge_accuracy: 0.6320 - val_loss: 0.6674 - val_measure_hinge_accuracy: 0.5723\n",
            "Epoch 6/20\n",
            "19/19 [==============================] - 19s 1s/step - loss: 0.9269 - measure_hinge_accuracy: 0.6306 - val_loss: 0.6485 - val_measure_hinge_accuracy: 0.5723\n",
            "Epoch 7/20\n",
            "19/19 [==============================] - 19s 1s/step - loss: 0.9264 - measure_hinge_accuracy: 0.6231 - val_loss: 0.6270 - val_measure_hinge_accuracy: 0.5723\n",
            "Epoch 8/20\n",
            "19/19 [==============================] - 19s 1s/step - loss: 0.9274 - measure_hinge_accuracy: 0.6183 - val_loss: 0.6723 - val_measure_hinge_accuracy: 0.5723\n",
            "Epoch 9/20\n",
            "19/19 [==============================] - 20s 1s/step - loss: 0.9331 - measure_hinge_accuracy: 0.6029 - val_loss: 0.6397 - val_measure_hinge_accuracy: 0.5301\n",
            "Epoch 10/20\n",
            "19/19 [==============================] - 20s 1s/step - loss: 0.9145 - measure_hinge_accuracy: 0.6352 - val_loss: 0.6946 - val_measure_hinge_accuracy: 0.5723\n",
            "Epoch 11/20\n",
            "19/19 [==============================] - 19s 1s/step - loss: 0.9128 - measure_hinge_accuracy: 0.6310 - val_loss: 0.6200 - val_measure_hinge_accuracy: 0.5723\n",
            "Epoch 12/20\n",
            "19/19 [==============================] - 27s 1s/step - loss: 0.8950 - measure_hinge_accuracy: 0.6679 - val_loss: 0.6838 - val_measure_hinge_accuracy: 0.5723\n",
            "Epoch 13/20\n",
            "19/19 [==============================] - 20s 1s/step - loss: 0.9248 - measure_hinge_accuracy: 0.6316 - val_loss: 0.6066 - val_measure_hinge_accuracy: 0.5723\n",
            "Epoch 14/20\n",
            "19/19 [==============================] - 20s 1s/step - loss: 0.8927 - measure_hinge_accuracy: 0.6601 - val_loss: 0.6839 - val_measure_hinge_accuracy: 0.5723\n",
            "Epoch 15/20\n",
            "19/19 [==============================] - 20s 1s/step - loss: 0.9100 - measure_hinge_accuracy: 0.6311 - val_loss: 0.7313 - val_measure_hinge_accuracy: 0.5723\n",
            "Epoch 16/20\n",
            "19/19 [==============================] - 21s 1s/step - loss: 0.9299 - measure_hinge_accuracy: 0.6209 - val_loss: 0.6605 - val_measure_hinge_accuracy: 0.5723\n",
            "Epoch 17/20\n",
            "19/19 [==============================] - 20s 1s/step - loss: 0.8933 - measure_hinge_accuracy: 0.6534 - val_loss: 0.6949 - val_measure_hinge_accuracy: 0.5723\n",
            "Epoch 18/20\n",
            "19/19 [==============================] - 20s 1s/step - loss: 0.8997 - measure_hinge_accuracy: 0.6479 - val_loss: 0.6653 - val_measure_hinge_accuracy: 0.5723\n",
            "Epoch 19/20\n",
            "19/19 [==============================] - 19s 1s/step - loss: 0.9181 - measure_hinge_accuracy: 0.6233 - val_loss: 0.6227 - val_measure_hinge_accuracy: 0.5723\n",
            "Epoch 20/20\n",
            "19/19 [==============================] - 19s 1s/step - loss: 0.9070 - measure_hinge_accuracy: 0.6413 - val_loss: 0.6709 - val_measure_hinge_accuracy: 0.5723\n",
            "the cost time is 401.70596957206726\n"
          ]
        }
      ],
      "source": [
        "qcnn_model.compile(optimizer=tf.keras.optimizers.Adam(learning_rate=0.01),\n",
        "                     loss=tf.losses.mse,\n",
        "                     metrics=[measure_hinge_accuracy])\n",
        "begin_time = time.time()\n",
        "qcnn_history = qcnn_model.fit(x= x_train_circuit_tensor_subset,\n",
        "                                  y=y_train_hinge_subset,\n",
        "                                  batch_size=48,\n",
        "                                  epochs=20,\n",
        "                                  verbose=1,\n",
        "                                  validation_data=(x_test_circuit_tensor,\n",
        "                                                   y_testing_07))\n",
        "end_time = time.time()\n",
        "print('the cost time is '+str(end_time-begin_time))"
      ]
    },
    {
      "cell_type": "code",
      "source": [
        "loss = qnn_history.history['loss']\n",
        "hinge_acc = qnn_history.history['measure_hinge_accuracy']\n",
        "\n",
        "val_hinge_acc = qnn_history.history['val_measure_hinge_accuracy']\n",
        "val_loss = qnn_history.history['val_loss']"
      ],
      "metadata": {
        "id": "MV5J4WorcsRF"
      },
      "execution_count": null,
      "outputs": []
    },
    {
      "cell_type": "code",
      "source": [
        "epochs = range(1, len(hinge_acc) + 1)\n",
        "\n",
        "plt.plot(epochs, hinge_acc, 'g', label='Training acc')\n",
        "plt.plot(epochs, val_hinge_acc, 'black', label='Validation acc')\n",
        "plt.title('Training and validation accuracy')\n",
        "plt.legend()\n",
        "plt.show()"
      ],
      "metadata": {
        "colab": {
          "base_uri": "https://localhost:8080/",
          "height": 452
        },
        "id": "cWKEv4p-csTs",
        "outputId": "54e40133-54a7-433a-c844-7fc1c14dd9c9"
      },
      "execution_count": null,
      "outputs": [
        {
          "output_type": "display_data",
          "data": {
            "text/plain": [
              "<Figure size 640x480 with 1 Axes>"
            ],
            "image/png": "[encoded data removed]"
          },
          "metadata": {}
        }
      ]
    },
    {
      "cell_type": "code",
      "source": [
        "plt.plot(epochs, loss, 'g', label='Training loss')\n",
        "plt.plot(epochs, val_loss, 'black', label='Validation loss')\n",
        "plt.title('Training and validation loss')\n",
        "plt.legend()\n",
        "plt.show()"
      ],
      "metadata": {
        "colab": {
          "base_uri": "https://localhost:8080/",
          "height": 452
        },
        "id": "kqngfRChcsVx",
        "outputId": "ac00777d-f271-449c-8de3-fc18b2fadc98"
      },
      "execution_count": null,
      "outputs": [
        {
          "output_type": "display_data",
          "data": {
            "text/plain": [
              "<Figure size 640x480 with 1 Axes>"
            ],
            "image/png": "[encoded data removed]"
          },
          "metadata": {}
        }
      ]
    },
    {
      "cell_type": "code",
      "execution_count": null,
      "metadata": {
        "id": "gKe_EBrsi2vv",
        "colab": {
          "base_uri": "https://localhost:8080/"
        },
        "outputId": "1351cc1c-14c7-4847-f23a-2f80f4f58997"
      },
      "outputs": [
        {
          "output_type": "stream",
          "name": "stdout",
          "text": [
            "63/63 [==============================] - 7s 108ms/step - loss: 0.6946 - measure_hinge_accuracy: 0.5670\n"
          ]
        }
      ],
      "source": [
        "qcnn_model_results = qcnn_model.evaluate(x_test_circuit_tensor, y_testing_07)"
      ]
    },
    {
      "cell_type": "code",
      "execution_count": null,
      "metadata": {
        "id": "Kx3723iBi2vw",
        "colab": {
          "base_uri": "https://localhost:8080/"
        },
        "outputId": "659912a5-a447-44cb-9345-237224dd1d3b"
      },
      "outputs": [
        {
          "output_type": "execute_result",
          "data": {
            "text/plain": [
              "[0.6946132183074951, 0.5669642686843872]"
            ]
          },
          "metadata": {},
          "execution_count": 80
        }
      ],
      "source": [
        "qcnn_model_results"
      ]
    },
    {
      "cell_type": "code",
      "execution_count": null,
      "metadata": {
        "id": "VUiL-RZmi2vw",
        "colab": {
          "base_uri": "https://localhost:8080/",
          "height": 447
        },
        "outputId": "af8d071b-ef72-4bf6-88a0-a0c9e21235dc"
      },
      "outputs": [
        {
          "output_type": "execute_result",
          "data": {
            "text/plain": [
              "<BarContainer object of 3 artists>"
            ]
          },
          "metadata": {},
          "execution_count": 81
        },
        {
          "output_type": "display_data",
          "data": {
            "text/plain": [
              "<Figure size 640x480 with 1 Axes>"
            ],
            "image/png": "[encoded data removed]"
          },
          "metadata": {}
        }
      ],
      "source": [
        "QNN_accuracy = QNN_results[1]\n",
        "CNN_accuracy = CNN_results[1]\n",
        "QCNN_accuracy= qcnn_model_results[1]\n",
        "plt.bar([\"QNN\", \"CNN\",  \"QCNN\"],[QNN_accuracy, CNN_accuracy,QCNN_accuracy])"
      ]
    },
    {
      "cell_type": "code",
      "execution_count": null,
      "metadata": {
        "id": "OGFCEZSfi2vw"
      },
      "outputs": [],
      "source": []
    }
  ],
  "metadata": {
    "accelerator": "GPU",
    "colab": {
      "provenance": []
    },
    "gpuClass": "standard",
    "kernelspec": {
      "display_name": "Python 3",
      "language": "python",
      "name": "python3"
    },
    "language_info": {
      "codemirror_mode": {
        "name": "ipython",
        "version": 3
      },
      "file_extension": ".py",
      "mimetype": "text/x-python",
      "name": "python",
      "nbconvert_exporter": "python",
      "pygments_lexer": "ipython3",
      "version": "3.7.3"
    }
  },
  "nbformat": 4,
  "nbformat_minor": 0
}